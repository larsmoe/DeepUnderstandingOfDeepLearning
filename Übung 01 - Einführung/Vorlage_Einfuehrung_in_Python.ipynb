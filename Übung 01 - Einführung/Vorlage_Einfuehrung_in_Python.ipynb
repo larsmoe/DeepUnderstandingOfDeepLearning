{
  "nbformat": 4,
  "nbformat_minor": 0,
  "metadata": {
    "colab": {
      "provenance": []
    },
    "kernelspec": {
      "name": "python3",
      "display_name": "Python 3"
    },
    "language_info": {
      "name": "python"
    }
  },
  "cells": [
    {
      "cell_type": "markdown",
      "source": [
        "# **Einführung in Python**\n",
        "**Data Analytics - Methoden und Einführung** <br>\n",
        "*© Dr. Andreas Obermeier / Dr. Maximilian Förster / Lars Moestue / Philipp Klotz*"
      ],
      "metadata": {
        "id": "P1JGOSSFiNvs"
      }
    },
    {
      "cell_type": "markdown",
      "source": [
        "### **Vorbereitung:**\n",
        "\n",
        "\n",
        "Führen Sie die folgenden zwei Code-Blöcke aus, um ***jupyterquiz*** und ***jupytercards*** zu installieren."
      ],
      "metadata": {
        "id": "U83CHbO4imbj"
      }
    },
    {
      "cell_type": "code",
      "source": [
        "pip install jupyterquiz"
      ],
      "metadata": {
        "id": "tQFtwL-5WRUt"
      },
      "execution_count": null,
      "outputs": []
    },
    {
      "cell_type": "code",
      "source": [
        "!pip install jupytercards\n",
        "from jupytercards import display_flashcards"
      ],
      "metadata": {
        "id": "-KgpeHotXzFI"
      },
      "execution_count": null,
      "outputs": []
    },
    {
      "cell_type": "markdown",
      "source": [
        "#**Aufgabe 1**"
      ],
      "metadata": {
        "id": "UtLueevkOwLu"
      }
    },
    {
      "cell_type": "markdown",
      "source": [
        "**a**) Laden Sie die folgenden Pakete, sodass Sie sie in Ihrem Code mit dem entsprechenden Namen ansprechen können:\n",
        "\n"
      ],
      "metadata": {
        "id": "yYwAS-KfP9Pr"
      }
    },
    {
      "cell_type": "markdown",
      "source": [
        "![tabelle_pakete.png](data:image/png;base64,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)"
      ],
      "metadata": {
        "id": "xU8VU7wzi3m-"
      }
    },
    {
      "cell_type": "markdown",
      "source": [
        "**Lassen Sie sich die Flashcards anzeigen, um Tipps zu bekommen ;)**"
      ],
      "metadata": {
        "id": "8-Ahmsggi8Wj"
      }
    },
    {
      "cell_type": "code",
      "execution_count": null,
      "metadata": {
        "id": "CB18LHE8OYGk"
      },
      "outputs": [],
      "source": [
        "display_flashcards('https://raw.githubusercontent.com/Philipp-ai/crm/main/11a.json')"
      ]
    },
    {
      "cell_type": "code",
      "source": [
        "# Fügen Sie hier den Code ein:\n",
        "???"
      ],
      "metadata": {
        "id": "KcyK3LPs4t0o"
      },
      "execution_count": null,
      "outputs": []
    },
    {
      "cell_type": "markdown",
      "source": [
        "Schreiben Sie zusätzlich ***warnings.filterwarnings(\"ignore\")*** in eine neue Zeile."
      ],
      "metadata": {
        "id": "zZwvMp6k4eWP"
      }
    },
    {
      "cell_type": "code",
      "source": [
        "# Fügen Sie hier den Code ein:\n",
        "???"
      ],
      "metadata": {
        "id": "YypmK5tR41bB"
      },
      "execution_count": null,
      "outputs": []
    },
    {
      "cell_type": "markdown",
      "source": [
        "**b**) Laden Sie das csv-File ***cereals.csv ***von Moodle herunter, lesen Sie es ein und speichern Sie es in der Variable ***data***. Um einen ersten Eindruck Ihres Datensatzes zu erhalten, las-sen Sie sich die ersten 5 Zeilen anzeigen."
      ],
      "metadata": {
        "id": "iSRWXnBd5tbJ"
      }
    },
    {
      "cell_type": "code",
      "source": [
        "# Führen Sie diesen Code-Block aus:\n",
        "from google.colab import files\n",
        "uploaded = files.upload()\n",
        "data = pd.read_csv(\"cereal.csv\")"
      ],
      "metadata": {
        "id": "BaP7jY21Bs6z"
      },
      "execution_count": null,
      "outputs": []
    },
    {
      "cell_type": "code",
      "source": [
        "display_flashcards('https://raw.githubusercontent.com/Philipp-ai/crm/main/11b.json')"
      ],
      "metadata": {
        "id": "brqI-C4lEzNP"
      },
      "execution_count": null,
      "outputs": []
    },
    {
      "cell_type": "code",
      "source": [
        "# Fügen Sie hier den Code ein:\n",
        "???"
      ],
      "metadata": {
        "id": "GwmV9R4O6JJ9"
      },
      "execution_count": null,
      "outputs": []
    },
    {
      "cell_type": "markdown",
      "source": [
        "Benennen Sie die letzte Spalte für eine bessere Lesbarkeit zu ***rating*** um."
      ],
      "metadata": {
        "id": "MOfh6U176YPW"
      }
    },
    {
      "cell_type": "code",
      "source": [
        "# Fügen Sie hier den Code ein:\n",
        "???"
      ],
      "metadata": {
        "id": "JJ7cL8Mr6gOx"
      },
      "execution_count": null,
      "outputs": []
    },
    {
      "cell_type": "markdown",
      "source": [
        "**c**) Um ein Verständnis für die Struktur des Datensatzes zu bekommen, ermitteln Sie nun die Anzahl der Spalten und Zeilen des gesamten Datensatzes. Speichern Sie hierfür die Werte in geeignete Variablen.<br>\n",
        "Lassen Sie nun einen vollständigen Satz ausgeben: \"***Dieser Datensatz hat … Zeilen und … Spalten.***\""
      ],
      "metadata": {
        "id": "l2RY4h1SGOkW"
      }
    },
    {
      "cell_type": "code",
      "source": [
        "display_flashcards('https://raw.githubusercontent.com/Philipp-ai/crm/main/11c.json')"
      ],
      "metadata": {
        "id": "Fe4DLkdsSS8K"
      },
      "execution_count": null,
      "outputs": []
    },
    {
      "cell_type": "code",
      "source": [
        "# Fügen Sie hier den Code ein:\n",
        "???"
      ],
      "metadata": {
        "id": "mWlgUoX465zJ"
      },
      "execution_count": null,
      "outputs": []
    },
    {
      "cell_type": "markdown",
      "source": [
        "**d**) Da Sie die Struktur nun kennen, sind Sie an den Namen der einzelnen Spalten interessiert. Lassen Sie sich hierfür die Bezeichnungen ausgeben. Welche Rolle nehmen die Spalten in diesem Datensatz ein?\n",
        "\n"
      ],
      "metadata": {
        "id": "f5YYY9K2UWbV"
      }
    },
    {
      "cell_type": "code",
      "source": [
        "display_flashcards('https://raw.githubusercontent.com/Philipp-ai/crm/main/11d.json')"
      ],
      "metadata": {
        "id": "DonUSLDUUh-e"
      },
      "execution_count": null,
      "outputs": []
    },
    {
      "cell_type": "code",
      "source": [
        "# Fügen Sie hier den Code ein:\n",
        "???"
      ],
      "metadata": {
        "id": "vukV_W4T7nMw"
      },
      "execution_count": null,
      "outputs": []
    },
    {
      "cell_type": "markdown",
      "source": [
        "**e**) Bevor wir mit der Analyse weiter fortschreiten, möchten wir eine Zusammenfassung über den Datensatz erhalten, um unser Verständnis zu vertiefen. Geben Sie hierfür ***data.info()*** in den nächsten Code-Block ein und studieren Sie die Ausgabe."
      ],
      "metadata": {
        "id": "pu28-sY67yH4"
      }
    },
    {
      "cell_type": "code",
      "source": [
        "# Fügen Sie hier den Code ein:\n",
        "???"
      ],
      "metadata": {
        "id": "ZmoHFEWQ8DdX"
      },
      "execution_count": null,
      "outputs": []
    },
    {
      "cell_type": "markdown",
      "source": [
        "#**Aufgabe 2**\n",
        "**Datenqualität spielt im CRM eine entscheidende Rolle. Im Folgenden sollen verschiedene Dimensionen der Datenqualität untersucht werden.**"
      ],
      "metadata": {
        "id": "Oo-KJUKfVvT4"
      }
    },
    {
      "cell_type": "markdown",
      "source": [
        "**a**) Zunächst möchten wir auf fehlende Daten testen. Fehlende Einträge sind in Datenbanken mit ***NULL*** gekennzeichnet. Geben Sie den Prozentsatz der fehlenden Daten in Spalten oder Zeilen aus, in dem Sie die Funktionen ***.isnull()*** und ***.sum()*** geschickt miteinander verknüpfen."
      ],
      "metadata": {
        "id": "eB445SprV9d8"
      }
    },
    {
      "cell_type": "code",
      "source": [
        "display_flashcards('https://raw.githubusercontent.com/Philipp-ai/crm/main/12a.json')"
      ],
      "metadata": {
        "id": "dOnq_hqRWLVD"
      },
      "execution_count": null,
      "outputs": []
    },
    {
      "cell_type": "code",
      "source": [
        "# Fügen Sie hier den Code ein:\n",
        "???"
      ],
      "metadata": {
        "id": "cKqI2M_q99rF"
      },
      "execution_count": null,
      "outputs": []
    },
    {
      "cell_type": "markdown",
      "source": [
        "**b**) Erstellen Sie nun eine for-Schleife, die in der letzten Spalte die letzten zwei Zeichen der Einträge entfernt und einen Typecast zu Float vornimmt.<br>\n",
        "**Bemerkung**: Bisher ist der Datentyp der letzten Spalte String."
      ],
      "metadata": {
        "id": "zuIW2_-1Wvd3"
      }
    },
    {
      "cell_type": "code",
      "source": [
        "display_flashcards('https://raw.githubusercontent.com/Philipp-ai/crm/main/12b.json')"
      ],
      "metadata": {
        "id": "Lu7CUPpPW2f8"
      },
      "execution_count": null,
      "outputs": []
    },
    {
      "cell_type": "code",
      "source": [
        "# Fügen Sie hier den Code ein:\n",
        "???"
      ],
      "metadata": {
        "id": "g1NudxO_-rAb"
      },
      "execution_count": null,
      "outputs": []
    },
    {
      "cell_type": "markdown",
      "source": [
        "**c**) Oft entstehen redundante Daten durch mehrfach gespeicherte Datensätze. Entfernen Sie alle Duplikate, um wieder Ordnung herzustellen. Lassen Sie sich die Anzahl der Duplikate anzeigen, in dem Sie die Anzahl Datensätze vor und nach dem Entfernen der Duplikate benutzen."
      ],
      "metadata": {
        "id": "m-jite67YDK7"
      }
    },
    {
      "cell_type": "code",
      "source": [
        "display_flashcards('https://raw.githubusercontent.com/Philipp-ai/crm/main/12c.json')"
      ],
      "metadata": {
        "id": "fX6vZDPoYPU6"
      },
      "execution_count": null,
      "outputs": []
    },
    {
      "cell_type": "code",
      "source": [
        "# Fügen Sie hier den Code ein:\n",
        "???"
      ],
      "metadata": {
        "id": "8xsoMsbt_-ON"
      },
      "execution_count": null,
      "outputs": []
    },
    {
      "cell_type": "code",
      "source": [
        "# Führen Sie diesen Code-Block aus, nachdem Sie die Variablen passend erstellt haben:\n",
        "number_of_duplicates = number_of_rows - number_of_rows_new\n",
        "print(number_of_duplicates)"
      ],
      "metadata": {
        "id": "gMiy3NOaidJT"
      },
      "execution_count": null,
      "outputs": []
    },
    {
      "cell_type": "markdown",
      "source": [
        "**Zwischenbemerkung:**<br> Da Daten am besten visualisiert erfasst werden können, möchten wir nun einige Schaubilder erstellen. Für eine übersichtliche Darstellung der Schrift dient der nachfolgende Code:\n",
        "\n",
        "font = {'family' : 'DejaVu Sans', 'weight' : 'bold', 'size' : 22}\n",
        "\n",
        "plt.rc('font', **font)\n",
        "\n",
        "Um eine standardisierte Größe für die zu erstellenden Plots festzulegen, setzen wir vor jeden Plot die Anweisung\n",
        "\n",
        "plt.figure(figsize=(10,8))\n",
        "\n",
        "Damit wird die Größe des Plot-Fensters festgelegt, in das das Schaubild eingebettet wird."
      ],
      "metadata": {
        "id": "mp9pM5arZz2r"
      }
    },
    {
      "cell_type": "code",
      "source": [
        "# Führen Sie diesen Code-Block aus\n",
        "font = {'family' : 'DejaVu Sans',\n",
        "      'weight' : 'bold',\n",
        "       'size'   : 22}\n",
        "\n",
        "plt.rc('font', **font)"
      ],
      "metadata": {
        "id": "obPaga3UbTuA"
      },
      "execution_count": null,
      "outputs": []
    },
    {
      "cell_type": "markdown",
      "source": [
        "**d**) Erstellen Sie für die Kalorien, Proteine und Kohlenhydrate der Müslis jeweils ein Schaubild für die Dichteverteilung und wählen Sie einen geeigneten Titel. Lesen Sie aus den Schaubildern den Erwartungswert ab und vergleichen Sie Ihre Beobachtung durch exakte Berechnung. Gibt es Unstimmigkeiten? Erinnert Sie der Plot für die Kalorien an eine bestimmte Verteilung?"
      ],
      "metadata": {
        "id": "oTG6ujUgawGx"
      }
    },
    {
      "cell_type": "code",
      "source": [
        "display_flashcards('https://raw.githubusercontent.com/Philipp-ai/crm/main/12d.json')"
      ],
      "metadata": {
        "id": "c8kfbGPNa5En"
      },
      "execution_count": null,
      "outputs": []
    },
    {
      "cell_type": "code",
      "source": [
        "# Dichteverteilung der Kalorien\n",
        "plt.figure(figsize=(10, 8))\n",
        "\n",
        "# Berechnung des Plots\n",
        "???\n",
        "\n",
        "# Definiert die Achsenbeschriftungen und den Titel\n",
        "plt.xlabel(\"Kaloriengehalt pro 100g\")\n",
        "plt.ylabel(\"Dichte\")\n",
        "plt.title(\"Dichteplot der Kalorien\")\n",
        "\n",
        "# Zeigt den Plot an\n",
        "plt.show()"
      ],
      "metadata": {
        "id": "9m5hRBWyfn27"
      },
      "execution_count": null,
      "outputs": []
    },
    {
      "cell_type": "markdown",
      "source": [
        "**e**) Berechnen Sie die Standardabweichungen für die obigen Attribute und erstellen Sie eine Abfrage, die testet, welche die höchste ist und einen dementsprechenden Antwortsatz ausgibt."
      ],
      "metadata": {
        "id": "9xuaZdXAi1tC"
      }
    },
    {
      "cell_type": "code",
      "source": [
        "display_flashcards('https://raw.githubusercontent.com/Philipp-ai/crm/main/12e.json')"
      ],
      "metadata": {
        "id": "D3yP3zUSi8NK"
      },
      "execution_count": null,
      "outputs": []
    },
    {
      "cell_type": "code",
      "source": [
        "# Fügen Sie hier den Code ein:\n",
        "\n",
        "std_cal = ???\n",
        "std_p = ???\n",
        "std_carbs = ???\n",
        "\n",
        "???\n",
        "  print(\"Die höchste Standardabweichung liegt mit\", std_cal, \"bei den Kalorien vor.\")\n",
        "???\n",
        "  print(\"Die höchste Standardabweichung liegt mit\", std_p, \"bei den Proteinen vor.\")\n",
        "???\n",
        "  print(\"Die höchste Standardabweichung liegt mit\", std_carbs, \"bei den Kohlenhydrate vor.\")"
      ],
      "metadata": {
        "id": "FxtMxEhLnlPa"
      },
      "execution_count": null,
      "outputs": []
    },
    {
      "cell_type": "markdown",
      "source": [
        "**f**) Da wir nun die Verteilungen bei den genannten Attributen kennen, möchten wir den Zusammenhang zwischen diesen untersuchen. Dies kann mit einer sogenannten Heat-Map für die Korrelationen erzielt werden."
      ],
      "metadata": {
        "id": "uXwV76ZNoGgR"
      }
    },
    {
      "cell_type": "code",
      "source": [
        "# Führen Sie diesen Code-Block aus:\n",
        "corr = data[[\"calories\", \"protein\", \"carbo\", \"sugars\"]].corr()\n",
        "print(corr)\n",
        "\n",
        "# Zeit die Heatmap auf Basis der Korrelationsmatrix an: Farbliche Kennzeichnung der Matrixeinträge\n",
        "sns.heatmap(corr,\n",
        "            xticklabels=[\"cal\", \"pro\", \"carbs\", \"sugars\"],\n",
        "            yticklabels=[\"cal\", \"pro\", \"carbs\", \"sugars\"])\n",
        "plt.title(\"Heatmap Korrelationen\")"
      ],
      "metadata": {
        "id": "QGCzpPbBoImR"
      },
      "execution_count": null,
      "outputs": []
    },
    {
      "cell_type": "markdown",
      "source": [
        "#**Aufgabe 3**\n",
        "**Im letzten Schritt möchten wir noch unsere eigene Müslisorte in die Daten mit aufnehmen. Dafür überlegen wir uns einen Namen und geeignete Werte für das Müsli.**"
      ],
      "metadata": {
        "id": "2sRHih9soSTc"
      }
    },
    {
      "cell_type": "markdown",
      "source": [
        "**a**) Geben Sie die Zeile / das Müsli mit dem höchsten Proteingehalt aus. Befüllen Sie hierfür die gekennzeichneten Lücken (???) im Code:"
      ],
      "metadata": {
        "id": "1x51-ZV4odyw"
      }
    },
    {
      "cell_type": "code",
      "source": [
        "display_flashcards('https://raw.githubusercontent.com/Philipp-ai/crm/main/13a.json')"
      ],
      "metadata": {
        "id": "E3gvHj0wolVY"
      },
      "execution_count": null,
      "outputs": []
    },
    {
      "cell_type": "code",
      "source": [
        "# Fügen Sie hier den Code ein:\n",
        "???.loc[data.???.idxmax()])"
      ],
      "metadata": {
        "id": "Z50EUgnmooQZ"
      },
      "execution_count": null,
      "outputs": []
    },
    {
      "cell_type": "markdown",
      "source": [
        "**b**) Rufen Sie sich die richtige Anzahl der benötigten Attribute und deren Datentypen ins Gedächtnis, indem Sie die Ausgabe des Befehls ***data.info()*** berücksichtigen. Erstellen Sie nun eine Liste und speichern Sie sie in einer Variablen, die die Werte für die Attribute beinhaltet. Vorsicht: Reihenfolge und Datentyp sind relevant!\n",
        "\n",
        "Fügen Sie nun diese Liste dem bisherigen Datensatz hinzu & überprüfen Sie, ob es funktioniert hat, indem Sie die letzten 3 Zeilen ausgeben lassen."
      ],
      "metadata": {
        "id": "2IsX5JoKqbgi"
      }
    },
    {
      "cell_type": "code",
      "source": [
        "display_flashcards('https://raw.githubusercontent.com/Philipp-ai/crm/main/13b.json')"
      ],
      "metadata": {
        "id": "gQzCuT-lsU3f"
      },
      "execution_count": null,
      "outputs": []
    },
    {
      "cell_type": "code",
      "source": [
        "# Führen Sie diesen Code-Block aus:\n",
        "my_cereal = [\"Python Energy Breakfast\",\"R\", \"C\", 100, 5, 2, 100, 9.4, 6.5, 3, 210, 20, 4, 1.0, 0.25, 86.428569]"
      ],
      "metadata": {
        "id": "5ZZLMXZ0sW1y"
      },
      "execution_count": null,
      "outputs": []
    },
    {
      "cell_type": "code",
      "source": [
        "# Fügen Sie hier den Code ein:\n",
        "???"
      ],
      "metadata": {
        "id": "Jp5nEO0TQbcf"
      },
      "execution_count": null,
      "outputs": []
    },
    {
      "cell_type": "markdown",
      "source": [
        "**c**) Nachdem Sie nun die Daten analysiert haben, ist es Zeit die bereinigten Daten abzuspeichern. Erzeuen Sie ein csv-File und speichern Sie in einem selbst gewähltem Pfad ab."
      ],
      "metadata": {
        "id": "sVJYiUI3tkd5"
      }
    },
    {
      "cell_type": "code",
      "source": [
        "display_flashcards('https://raw.githubusercontent.com/Philipp-ai/crm/main/13c.json')"
      ],
      "metadata": {
        "id": "KQQgmg8Jtnz4"
      },
      "execution_count": null,
      "outputs": []
    },
    {
      "cell_type": "code",
      "source": [
        "# Führen Sie diesen Code-Block aus\n",
        "data.to_csv(\"data_bereinigt.csv\", sep=\",\")"
      ],
      "metadata": {
        "id": "XjD6BhsZQ6ae"
      },
      "execution_count": null,
      "outputs": []
    },
    {
      "cell_type": "markdown",
      "source": [
        "**Sie haben nun erste wichtige Schritte mit Python gemeistert. Basierend auf Ihrem neu gewonnenen Wissen sind Sie in der Lage, Python als Werkzeug für diverse Aufgaben in Data Analytics einzusetzen!**"
      ],
      "metadata": {
        "id": "o7RnIE10upl2"
      }
    }
  ]
}
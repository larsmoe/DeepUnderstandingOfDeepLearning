{
  "nbformat": 4,
  "nbformat_minor": 0,
  "metadata": {
    "colab": {
      "name": "DUDL_math_transpose.ipynb",
      "provenance": []
    },
    "kernelspec": {
      "name": "python3",
      "display_name": "Python 3"
    },
    "language_info": {
      "name": "python"
    }
  },
  "cells": [
    {
      "cell_type": "markdown",
      "metadata": {
        "id": "bhWV8oes-wKR"
      },
      "source": [
        "# COURSE: A deep understanding of deep learning\n",
        "## SECTION: Math prerequisites\n",
        "### LECTURE: Vector and matrix transpose\n",
        "#### TEACHER: Mike X Cohen, sincxpress.com\n",
        "##### COURSE URL: udemy.com/course/deeplearning_x/?couponCode=202401"
      ]
    },
    {
      "cell_type": "code",
      "metadata": {
        "id": "Yx_Rigz1AffS"
      },
      "source": [
        "# import libraries\n",
        "import numpy as np\n",
        "import torch"
      ],
      "execution_count": 1,
      "outputs": []
    },
    {
      "cell_type": "markdown",
      "metadata": {
        "id": "uakMyq7UBzCP"
      },
      "source": [
        "# Using numpy"
      ]
    },
    {
      "cell_type": "code",
      "metadata": {
        "id": "nG3ur0N-AneX",
        "outputId": "88a215ca-639c-4dc0-b634-139543eaf72b",
        "colab": {
          "base_uri": "https://localhost:8080/"
        }
      },
      "source": [
        "# create a vector\n",
        "nv = np.array([ [1,2,3,4] ])\n",
        "print(nv), print(' ')\n",
        "\n",
        "# transpose it\n",
        "print(nv.T), print(' ')\n",
        "\n",
        "# transpose the transpose!\n",
        "nvT = nv.T\n",
        "print(nvT.T)"
      ],
      "execution_count": 2,
      "outputs": [
        {
          "output_type": "stream",
          "name": "stdout",
          "text": [
            "[[1 2 3 4]]\n",
            " \n",
            "[[1]\n",
            " [2]\n",
            " [3]\n",
            " [4]]\n",
            " \n",
            "[[1 2 3 4]]\n"
          ]
        }
      ]
    },
    {
      "cell_type": "code",
      "metadata": {
        "id": "Vmr-MkomA6K9",
        "outputId": "f8653031-85cc-4bc7-efdd-751ff17c3235",
        "colab": {
          "base_uri": "https://localhost:8080/"
        }
      },
      "source": [
        "# repeat for a matrix\n",
        "nM = np.array([ [1,2,3,4],\n",
        "                [5,6,7,8]\n",
        "               ])\n",
        "print(nM), print(' ')\n",
        "\n",
        "# transpose it\n",
        "print(nM.T), print(' ')\n",
        "\n",
        "# transpose the transpose!\n",
        "nMT = nM.T\n",
        "print(nMT.T)"
      ],
      "execution_count": 3,
      "outputs": [
        {
          "output_type": "stream",
          "name": "stdout",
          "text": [
            "[[1 2 3 4]\n",
            " [5 6 7 8]]\n",
            " \n",
            "[[1 5]\n",
            " [2 6]\n",
            " [3 7]\n",
            " [4 8]]\n",
            " \n",
            "[[1 2 3 4]\n",
            " [5 6 7 8]]\n"
          ]
        }
      ]
    },
    {
      "cell_type": "markdown",
      "metadata": {
        "id": "oRLFXHk9BP1r"
      },
      "source": [
        "# Using pytorch"
      ]
    },
    {
      "cell_type": "code",
      "metadata": {
        "id": "Kjq-oGoUBTXs",
        "outputId": "17e328fd-ba6c-436f-fa76-26a8d23a02a4",
        "colab": {
          "base_uri": "https://localhost:8080/"
        }
      },
      "source": [
        "# create a vector\n",
        "tv = torch.tensor([ [1,2,3,4] ])\n",
        "print(tv), print(' ')\n",
        "\n",
        "# transpose it\n",
        "print(tv.T), print(' ')\n",
        "\n",
        "# transpose the transpose!\n",
        "tvT = tv.T\n",
        "print(tvT.T)"
      ],
      "execution_count": 4,
      "outputs": [
        {
          "output_type": "stream",
          "name": "stdout",
          "text": [
            "tensor([[1, 2, 3, 4]])\n",
            " \n",
            "tensor([[1],\n",
            "        [2],\n",
            "        [3],\n",
            "        [4]])\n",
            " \n",
            "tensor([[1, 2, 3, 4]])\n"
          ]
        }
      ]
    },
    {
      "cell_type": "code",
      "metadata": {
        "id": "qwzG0O_aBfnv",
        "outputId": "f645736a-06aa-445a-c758-928e9888a739",
        "colab": {
          "base_uri": "https://localhost:8080/"
        }
      },
      "source": [
        "# repeat for a matrix\n",
        "tM = torch.tensor([ [1,2,3,4],[5,6,7,8], [9, 10, 11, 12] ])\n",
        "print(tM), print(' ')\n",
        "\n",
        "# transpose it\n",
        "print(tM.T), print(' ')\n",
        "\n",
        "# transpose the transpose!\n",
        "tMT = tM.T\n",
        "print(tMT.T)"
      ],
      "execution_count": 7,
      "outputs": [
        {
          "output_type": "stream",
          "name": "stdout",
          "text": [
            "tensor([[ 1,  2,  3,  4],\n",
            "        [ 5,  6,  7,  8],\n",
            "        [ 9, 10, 11, 12]])\n",
            " \n",
            "tensor([[ 1,  5,  9],\n",
            "        [ 2,  6, 10],\n",
            "        [ 3,  7, 11],\n",
            "        [ 4,  8, 12]])\n",
            " \n",
            "tensor([[ 1,  2,  3,  4],\n",
            "        [ 5,  6,  7,  8],\n",
            "        [ 9, 10, 11, 12]])\n"
          ]
        }
      ]
    },
    {
      "cell_type": "code",
      "metadata": {
        "id": "cZJVgv8HBfwA"
      },
      "source": [],
      "execution_count": null,
      "outputs": []
    },
    {
      "cell_type": "code",
      "metadata": {
        "id": "4J6zsIHoBfyp",
        "outputId": "c964ecf9-4dea-4170-cb3a-928d2365f1bc",
        "colab": {
          "base_uri": "https://localhost:8080/"
        }
      },
      "source": [
        "# examine data types\n",
        "print(f'Variable nv is of type {type(nv)}')\n",
        "print(f'Variable nM is of type {type(nM)}')\n",
        "print(f'Variable tv is of type {type(tv)}')\n",
        "print(f'Variable tM is of type {type(tM)}')\n"
      ],
      "execution_count": 6,
      "outputs": [
        {
          "output_type": "stream",
          "name": "stdout",
          "text": [
            "Variable nv is of type <class 'numpy.ndarray'>\n",
            "Variable nM is of type <class 'numpy.ndarray'>\n",
            "Variable tv is of type <class 'torch.Tensor'>\n",
            "Variable tM is of type <class 'torch.Tensor'>\n"
          ]
        }
      ]
    }
  ]
}
{
  "nbformat": 4,
  "nbformat_minor": 0,
  "metadata": {
    "colab": {
      "provenance": []
    },
    "kernelspec": {
      "name": "python3",
      "display_name": "Python 3"
    },
    "language_info": {
      "name": "python"
    }
  },
  "cells": [
    {
      "cell_type": "markdown",
      "metadata": {
        "id": "bhWV8oes-wKR"
      },
      "source": [
        "# COURSE: A deep understanding of deep learning\n",
        "## SECTION: Math prerequisites\n",
        "### LECTURE: Entropy and cross-entropy\n",
        "#### TEACHER: Mike X Cohen, sincxpress.com\n",
        "##### COURSE URL: udemy.com/course/deeplearning_x/?couponCode=202401"
      ]
    },
    {
      "cell_type": "code",
      "metadata": {
        "id": "2TD8IyfBGXiY"
      },
      "source": [
        "# import libraries\n",
        "import numpy as np\n",
        "import matplotlib.pyplot as plt"
      ],
      "execution_count": 1,
      "outputs": []
    },
    {
      "cell_type": "markdown",
      "metadata": {
        "id": "yo63BJPf0cau"
      },
      "source": [
        "# Reminder of entropy:\n",
        "\n",
        "$$H(p) = -\\sum_x p(x)\\log(p(x))$$"
      ]
    },
    {
      "cell_type": "code",
      "metadata": {
        "id": "vmjUxlEqGbDu",
        "outputId": "d4fbc9fe-4b8e-4b47-a64d-5bbe6931dc84",
        "colab": {
          "base_uri": "https://localhost:8080/"
        }
      },
      "source": [
        "# probability of an event happening\n",
        "p = .25\n",
        "\n",
        "# NOT the correct formula!\n",
        "H = -( p*np.log(p) )\n",
        "print('Wrong entropy: ' + str(H))"
      ],
      "execution_count": 2,
      "outputs": [
        {
          "output_type": "stream",
          "name": "stdout",
          "text": [
            "Wrong entropy: 0.34657359027997264\n"
          ]
        }
      ]
    },
    {
      "cell_type": "code",
      "metadata": {
        "id": "WHx3wf4Y0TJH"
      },
      "source": [],
      "execution_count": null,
      "outputs": []
    },
    {
      "cell_type": "code",
      "metadata": {
        "id": "HdZadwd12RGv",
        "outputId": "b7ce66fd-5644-4cb3-eeaf-ab37ac576432",
        "colab": {
          "base_uri": "https://localhost:8080/"
        }
      },
      "source": [
        "_# the correct way to compute entropy\n",
        "x = [.25,.75]\n",
        "\n",
        "H = 0\n",
        "for p in x:\n",
        "  H -= p*np.log(p)\n",
        "\n",
        "print('Correct entropy: ' + str(H))"
      ],
      "execution_count": 3,
      "outputs": [
        {
          "output_type": "stream",
          "name": "stdout",
          "text": [
            "Correct entropy: 0.5623351446188083\n"
          ]
        }
      ]
    },
    {
      "cell_type": "code",
      "metadata": {
        "id": "R_bGT7kd2ipR",
        "outputId": "2b256180-4524-497a-b312-45365d715175",
        "colab": {
          "base_uri": "https://localhost:8080/"
        }
      },
      "source": [
        "# also correct, written out for N=2 events\n",
        "H = -( p*np.log(p) + (1-p)*np.log(1-p) )\n",
        "print('Correct entropy: ' + str(H))"
      ],
      "execution_count": 4,
      "outputs": [
        {
          "output_type": "stream",
          "name": "stdout",
          "text": [
            "Correct entropy: 0.5623351446188083\n"
          ]
        }
      ]
    },
    {
      "cell_type": "markdown",
      "metadata": {
        "id": "qFN5779d1ebD"
      },
      "source": [
        "# Cross-entropy"
      ]
    },
    {
      "cell_type": "code",
      "metadata": {
        "id": "sOug_tPzHY1y",
        "outputId": "0edcd77f-034d-46d8-82a2-633cfdef6914",
        "colab": {
          "base_uri": "https://localhost:8080/"
        }
      },
      "source": [
        "# note: all probs must sum to 1!\n",
        "p = [   1,0   ] # sum=1\n",
        "q = [ .25,.75 ] # sum=1\n",
        "\n",
        "H = 0\n",
        "for i in range(len(p)):\n",
        "  H -= p[i]*np.log(q[i])\n",
        "\n",
        "print('Cross entropy: ' + str(H))"
      ],
      "execution_count": 5,
      "outputs": [
        {
          "output_type": "stream",
          "name": "stdout",
          "text": [
            "Cross entropy: 1.3862943611198906\n"
          ]
        }
      ]
    },
    {
      "cell_type": "code",
      "metadata": {
        "id": "8H1p7JUr3Pn4",
        "outputId": "f40b9031-3542-4db3-c688-333ebe71a78a",
        "colab": {
          "base_uri": "https://localhost:8080/"
        }
      },
      "source": [
        "# also correct, written out for N=2 events\n",
        "H = -( p[0]*np.log(q[0]) + p[1]*np.log(q[1]) )\n",
        "print('Correct entropy: ' + str(H))\n",
        "\n",
        "# simplification\n",
        "H = -np.log(q[0])\n",
        "print('Manually simplified: ' + str(H))"
      ],
      "execution_count": 6,
      "outputs": [
        {
          "output_type": "stream",
          "name": "stdout",
          "text": [
            "Correct entropy: 1.3862943611198906\n",
            "Manually simplified: 1.3862943611198906\n"
          ]
        }
      ]
    },
    {
      "cell_type": "code",
      "metadata": {
        "id": "fAHoba2V4QgO",
        "outputId": "bcf178b9-efe4-4cac-8051-a14717c6ae33",
        "colab": {
          "base_uri": "https://localhost:8080/"
        }
      },
      "source": [
        "# now using pytorch\n",
        "import torch\n",
        "import torch.nn.functional as F\n",
        "\n",
        "# note: inputs must be Tensors\n",
        "q_tensor = torch.Tensor(q)\n",
        "p_tensor = torch.Tensor(p)\n",
        "\n",
        "print(F.binary_cross_entropy(q_tensor,p_tensor))"
      ],
      "execution_count": 11,
      "outputs": [
        {
          "output_type": "stream",
          "name": "stdout",
          "text": [
            "tensor(1.3863)\n"
          ]
        }
      ]
    },
    {
      "cell_type": "code",
      "source": [],
      "metadata": {
        "colab": {
          "base_uri": "https://localhost:8080/",
          "height": 36
        },
        "id": "QBQabnEEJisd",
        "outputId": "c0f67256-1c5e-4929-86b8-ec36f2db4f1d"
      },
      "execution_count": null,
      "outputs": [
        {
          "output_type": "execute_result",
          "data": {
            "text/plain": [
              "'2.0.1+cu118'"
            ],
            "application/vnd.google.colaboratory.intrinsic+json": {
              "type": "string"
            }
          },
          "metadata": {},
          "execution_count": 14
        }
      ]
    }
  ]
}
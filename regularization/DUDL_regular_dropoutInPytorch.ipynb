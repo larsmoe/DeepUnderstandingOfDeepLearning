{
  "nbformat": 4,
  "nbformat_minor": 0,
  "metadata": {
    "colab": {
      "name": "DUDL_regular_dropoutInPytorch.ipynb",
      "provenance": []
    },
    "kernelspec": {
      "name": "python3",
      "display_name": "Python 3"
    }
  },
  "cells": [
    {
      "cell_type": "markdown",
      "metadata": {
        "id": "bhWV8oes-wKR"
      },
      "source": [
        "# COURSE: A deep understanding of deep learning\n",
        "## SECTION: Regularization\n",
        "### LECTURE: Dropout regularization in practice\n",
        "#### TEACHER: Mike X Cohen, sincxpress.com\n",
        "##### COURSE URL: udemy.com/course/deeplearning_x/?couponCode=202401"
      ]
    },
    {
      "cell_type": "code",
      "metadata": {
        "id": "YeuAheYyhdZw"
      },
      "source": [
        "# import libraries\n",
        "import torch\n",
        "import torch.nn as nn\n",
        "import torch.nn.functional as F"
      ],
      "execution_count": 1,
      "outputs": []
    },
    {
      "cell_type": "markdown",
      "metadata": {
        "id": "OAw7w-Is8quO"
      },
      "source": [
        "# Using dropout"
      ]
    },
    {
      "cell_type": "code",
      "metadata": {
        "id": "PakwZXu08s6B",
        "outputId": "a4578ce4-014a-4544-e15c-24d4a243956f",
        "colab": {
          "base_uri": "https://localhost:8080/"
        }
      },
      "source": [
        "#define a dropout instance and make some data\n",
        "prob = .75\n",
        "\n",
        "dropout = nn.Dropout(p=prob)\n",
        "x = torch.ones(10)\n",
        "\n",
        "# let's see what dropout returns\n",
        "y = dropout(x)\n",
        "print(x)\n",
        "print(y)\n",
        "print(torch.mean(y))"
      ],
      "execution_count": 22,
      "outputs": [
        {
          "output_type": "stream",
          "name": "stdout",
          "text": [
            "tensor([1., 1., 1., 1., 1., 1., 1., 1., 1., 1.])\n",
            "tensor([4., 0., 0., 0., 0., 0., 0., 0., 4., 4.])\n",
            "tensor(1.2000)\n"
          ]
        }
      ]
    },
    {
      "cell_type": "code",
      "metadata": {
        "id": "hnsHnDFjVQ6i",
        "outputId": "a70200e3-b5cd-42e1-c0eb-0d8436c357cb",
        "colab": {
          "base_uri": "https://localhost:8080/"
        }
      },
      "source": [
        "# dropout is turned off when evaluating the model\n",
        "dropout.eval()\n",
        "y = dropout(x)\n",
        "print(y)\n",
        "print(torch.mean(y))"
      ],
      "execution_count": 6,
      "outputs": [
        {
          "output_type": "stream",
          "name": "stdout",
          "text": [
            "tensor([1., 1., 1., 1., 1., 1., 1., 1., 1., 1.])\n",
            "tensor(1.)\n"
          ]
        }
      ]
    },
    {
      "cell_type": "code",
      "metadata": {
        "id": "5bY95mSjVYvA",
        "outputId": "1033f688-81ae-4485-e39e-9acb9d3e930e",
        "colab": {
          "base_uri": "https://localhost:8080/"
        }
      },
      "source": [
        "# annoyingly, F.dropout() is not deactivated in eval mode:\n",
        "\n",
        "dropout.eval()\n",
        "y = F.dropout(x)\n",
        "print(y)\n",
        "print(torch.mean(y))"
      ],
      "execution_count": 7,
      "outputs": [
        {
          "output_type": "stream",
          "name": "stdout",
          "text": [
            "tensor([2., 2., 0., 0., 2., 2., 2., 2., 0., 2.])\n",
            "tensor(1.4000)\n"
          ]
        }
      ]
    },
    {
      "cell_type": "code",
      "metadata": {
        "id": "Aa-GvWSLXcH8",
        "outputId": "4ae2a396-8537-44c9-cbd0-ffa9c274f755",
        "colab": {
          "base_uri": "https://localhost:8080/"
        }
      },
      "source": [
        "# but you can manually switch it off\n",
        "# dropout.eval()\n",
        "y = F.dropout(x,training=False)\n",
        "\n",
        "print(y)\n",
        "print(torch.mean(y))"
      ],
      "execution_count": 8,
      "outputs": [
        {
          "output_type": "stream",
          "name": "stdout",
          "text": [
            "tensor([1., 1., 1., 1., 1., 1., 1., 1., 1., 1.])\n",
            "tensor(1.)\n"
          ]
        }
      ]
    },
    {
      "cell_type": "code",
      "metadata": {
        "id": "J_BFJYeTU_ak",
        "outputId": "e2575f26-6008-4ecc-d86c-202df05ec11b",
        "colab": {
          "base_uri": "https://localhost:8080/"
        }
      },
      "source": [
        "# the model needs to be reset after toggling into eval mode\n",
        "\n",
        "dropout.train()\n",
        "y = dropout(x)\n",
        "print(y) # with dropout\n",
        "\n",
        "\n",
        "dropout.eval()\n",
        "y = dropout(x)\n",
        "print(y) # without dropout\n",
        "\n",
        "dropout.train()\n",
        "y = dropout(x)\n",
        "print(y) # still w/o dropout ;)"
      ],
      "execution_count": 10,
      "outputs": [
        {
          "output_type": "stream",
          "name": "stdout",
          "text": [
            "tensor([2., 2., 2., 2., 2., 2., 2., 2., 2., 2.])\n",
            "tensor([1., 1., 1., 1., 1., 1., 1., 1., 1., 1.])\n",
            "tensor([0., 2., 0., 2., 2., 2., 0., 2., 2., 0.])\n"
          ]
        }
      ]
    },
    {
      "cell_type": "code",
      "metadata": {
        "id": "eVXa_1zZkvbm"
      },
      "source": [],
      "execution_count": null,
      "outputs": []
    }
  ]
}
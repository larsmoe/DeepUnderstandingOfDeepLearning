{
  "nbformat": 4,
  "nbformat_minor": 0,
  "metadata": {
    "colab": {
      "name": "DUDL_overfitting_regression.ipynb",
      "provenance": []
    },
    "kernelspec": {
      "name": "python3",
      "display_name": "Python 3"
    }
  },
  "cells": [
    {
      "cell_type": "markdown",
      "metadata": {
        "id": "bhWV8oes-wKR"
      },
      "source": [
        "# COURSE: A deep understanding of deep learning\n",
        "## SECTION: Overfitting, cross-validation, regularization\n",
        "### LECTURE: Cross-validation on regression\n",
        "#### TEACHER: Mike X Cohen, sincxpress.com\n",
        "##### COURSE URL: udemy.com/course/deeplearning_x/?couponCode=202401"
      ]
    },
    {
      "cell_type": "code",
      "metadata": {
        "id": "j7-LiwqUMGYL"
      },
      "source": [
        "# import libraries\n",
        "import torch\n",
        "import torch.nn as nn\n",
        "import numpy as np\n",
        "import matplotlib.pyplot as plt\n",
        "from sklearn.model_selection import train_test_split\n",
        "from torch.utils.data import DataLoader, TensorDataset"
      ],
      "execution_count": 16,
      "outputs": []
    },
    {
      "cell_type": "markdown",
      "metadata": {
        "id": "Wz6w7TtgQ6QF"
      },
      "source": [
        "# Create the data and the model"
      ]
    },
    {
      "cell_type": "code",
      "metadata": {
        "id": "j-SP8NPsMNRL",
        "outputId": "4c9fd2c8-acc3-450b-ed4f-8bb6308fa027",
        "colab": {
          "base_uri": "https://localhost:8080/",
          "height": 430
        }
      },
      "source": [
        "N = 100\n",
        "x = torch.randn(N,1)\n",
        "y = x + torch.randn(N,1)\n",
        "\n",
        "# and plot\n",
        "plt.plot(x,y,'s')\n",
        "plt.show()"
      ],
      "execution_count": 19,
      "outputs": [
        {
          "output_type": "display_data",
          "data": {
            "text/plain": [
              "<Figure size 640x480 with 1 Axes>"
            ],
            "image/png": "[encoded data removed]"
          },
          "metadata": {}
        }
      ]
    },
    {
      "cell_type": "code",
      "metadata": {
        "id": "krQeh5wYMNla"
      },
      "source": [
        "# build model\n",
        "ANNreg = nn.Sequential(\n",
        "    nn.Linear(1,1),  # input layer\n",
        "    nn.ReLU(),       # activation function\n",
        "    nn.Linear(1,1)   # output layer\n",
        "    )"
      ],
      "execution_count": 3,
      "outputs": []
    },
    {
      "cell_type": "code",
      "metadata": {
        "id": "dmHh7GrvMNoy"
      },
      "source": [
        "# model meta-parameters\n",
        "\n",
        "learningRate = .05\n",
        "\n",
        "# loss function\n",
        "lossfun = nn.MSELoss()\n",
        "\n",
        "# optimizer\n",
        "optimizer = torch.optim.SGD(ANNreg.parameters(),lr=learningRate)"
      ],
      "execution_count": 4,
      "outputs": []
    },
    {
      "cell_type": "markdown",
      "metadata": {
        "id": "vpZsJzRKQ-xM"
      },
      "source": [
        "# Select data for training"
      ]
    },
    {
      "cell_type": "code",
      "metadata": {
        "id": "of9E8ClxMNsD",
        "outputId": "fb06ef09-c49a-4620-bf61-ac5987f79057",
        "colab": {
          "base_uri": "https://localhost:8080/"
        }
      },
      "source": [
        "# select training data (note the hard-coded N!)\n",
        "number_of_train_data = int(0.8*N)\n",
        "trainidx  = np.random.choice(range(N),number_of_train_data,replace=False) # random indices\n",
        "trainBool = np.zeros(N,dtype=bool) # initialize vector of Falses'\n",
        "trainBool[trainidx] = True # set selected samples to True\n",
        "\n",
        "# show the sizes\n",
        "print(x[trainBool].shape)\n",
        "print(x[~trainBool].shape)"
      ],
      "execution_count": 13,
      "outputs": [
        {
          "output_type": "stream",
          "name": "stdout",
          "text": [
            "torch.Size([800, 1])\n",
            "torch.Size([200, 1])\n"
          ]
        }
      ]
    },
    {
      "cell_type": "code",
      "source": [
        "x_train, x_test, y_train, y_test = train_test_split(x, y, train_size = .8)\n",
        "\n",
        "train_data = TensorDataset(torch.Tensor(x_train), torch.Tensor(y_train))\n",
        "test_data = TensorDataset(torch.Tensor(x_test), torch.Tensor(y_test))\n",
        "\n",
        "train_loader = DataLoader(train_data, batch_size=25)\n",
        "train_loader_complete = DataLoader(train_data, batch_size = train_data.tensors[0].shape[0])\n",
        "test_loader = DataLoader(test_data, batch_size = test_data.tensors[0].shape[0])"
      ],
      "metadata": {
        "id": "_VW9L5fP-7s7"
      },
      "execution_count": 29,
      "outputs": []
    },
    {
      "cell_type": "code",
      "source": [
        "print('TRAINING DATA')\n",
        "for batch,label in train_loader: # iterable\n",
        "  print(batch,label)\n",
        "  print(' ')"
      ],
      "metadata": {
        "id": "SKTSW-bjBFFN",
        "outputId": "7d0ab3ee-500a-49e3-8c0f-80d15787c296",
        "colab": {
          "base_uri": "https://localhost:8080/"
        }
      },
      "execution_count": 21,
      "outputs": [
        {
          "output_type": "stream",
          "name": "stdout",
          "text": [
            "TRAINING DATA\n",
            "tensor([[-0.3110],\n",
            "        [ 0.2110],\n",
            "        [ 1.4886],\n",
            "        [ 0.4173],\n",
            "        [ 0.5722],\n",
            "        [-0.5537],\n",
            "        [ 0.1123],\n",
            "        [-0.2705],\n",
            "        [ 2.0932],\n",
            "        [-0.1812],\n",
            "        [ 0.0042],\n",
            "        [-1.1550],\n",
            "        [ 0.1494],\n",
            "        [ 0.0878],\n",
            "        [ 0.0965],\n",
            "        [-0.1871],\n",
            "        [-1.7993],\n",
            "        [-0.1142],\n",
            "        [ 2.2282],\n",
            "        [ 1.0399],\n",
            "        [ 0.4949],\n",
            "        [-0.5306],\n",
            "        [-0.0282],\n",
            "        [ 1.0856],\n",
            "        [-0.4245]]) tensor([[ 0.2675],\n",
            "        [-0.8116],\n",
            "        [ 2.4506],\n",
            "        [ 0.6607],\n",
            "        [ 0.6643],\n",
            "        [-1.3480],\n",
            "        [-0.2450],\n",
            "        [-0.7337],\n",
            "        [ 1.2371],\n",
            "        [ 1.0241],\n",
            "        [-2.5682],\n",
            "        [-1.1062],\n",
            "        [-0.7784],\n",
            "        [ 1.2426],\n",
            "        [-0.4482],\n",
            "        [-1.7892],\n",
            "        [-2.4013],\n",
            "        [-1.4444],\n",
            "        [ 1.6961],\n",
            "        [ 2.1463],\n",
            "        [-0.8286],\n",
            "        [-1.3669],\n",
            "        [ 0.6049],\n",
            "        [ 2.1531],\n",
            "        [ 0.2259]])\n",
            " \n",
            "tensor([[-0.0991],\n",
            "        [-0.1634],\n",
            "        [-0.3820],\n",
            "        [ 0.3801],\n",
            "        [ 0.1075],\n",
            "        [ 0.1739],\n",
            "        [-0.3784],\n",
            "        [ 1.0861],\n",
            "        [-0.2821],\n",
            "        [ 0.9059],\n",
            "        [ 0.8140],\n",
            "        [ 0.4458],\n",
            "        [-0.0531],\n",
            "        [-0.8735],\n",
            "        [ 2.1720],\n",
            "        [ 0.0263],\n",
            "        [ 1.7726],\n",
            "        [-0.1922],\n",
            "        [ 1.3524],\n",
            "        [ 0.5529],\n",
            "        [-0.0555],\n",
            "        [-1.4493],\n",
            "        [-0.0702],\n",
            "        [ 0.5097],\n",
            "        [ 1.4211]]) tensor([[ 1.0012],\n",
            "        [-2.8444],\n",
            "        [ 0.7788],\n",
            "        [ 1.3686],\n",
            "        [ 1.7057],\n",
            "        [ 1.3235],\n",
            "        [-0.4962],\n",
            "        [ 3.5485],\n",
            "        [ 1.0555],\n",
            "        [-0.3824],\n",
            "        [ 0.8873],\n",
            "        [-0.6474],\n",
            "        [-1.0598],\n",
            "        [ 0.9778],\n",
            "        [ 2.5688],\n",
            "        [ 3.2011],\n",
            "        [ 1.1398],\n",
            "        [ 1.0505],\n",
            "        [ 1.6119],\n",
            "        [ 0.7554],\n",
            "        [-0.5838],\n",
            "        [-0.8903],\n",
            "        [-2.5386],\n",
            "        [ 0.2069],\n",
            "        [ 0.0514]])\n",
            " \n",
            "tensor([[-1.6607],\n",
            "        [-0.8088],\n",
            "        [ 0.3462],\n",
            "        [-0.3469],\n",
            "        [ 0.0967],\n",
            "        [-0.5767],\n",
            "        [-0.6402],\n",
            "        [ 1.2464],\n",
            "        [-0.7760],\n",
            "        [ 0.3007],\n",
            "        [-0.2689],\n",
            "        [-0.4653],\n",
            "        [-0.4928],\n",
            "        [ 1.4072],\n",
            "        [-0.3971],\n",
            "        [ 0.9294],\n",
            "        [ 0.1346],\n",
            "        [ 0.3032],\n",
            "        [-0.1350],\n",
            "        [ 1.4399],\n",
            "        [-0.4213],\n",
            "        [-0.3843],\n",
            "        [ 0.6756],\n",
            "        [ 1.9195],\n",
            "        [-0.8400]]) tensor([[-0.9008],\n",
            "        [-1.5693],\n",
            "        [ 0.6279],\n",
            "        [ 0.7400],\n",
            "        [ 0.3887],\n",
            "        [-0.9921],\n",
            "        [-0.2066],\n",
            "        [ 1.1631],\n",
            "        [-3.7216],\n",
            "        [ 1.6589],\n",
            "        [ 0.2373],\n",
            "        [-0.9931],\n",
            "        [-1.0874],\n",
            "        [ 1.4121],\n",
            "        [ 0.9070],\n",
            "        [ 0.4733],\n",
            "        [-0.6271],\n",
            "        [ 0.7739],\n",
            "        [ 0.4097],\n",
            "        [ 2.1308],\n",
            "        [-0.1613],\n",
            "        [-0.3523],\n",
            "        [ 0.6806],\n",
            "        [ 1.0434],\n",
            "        [ 0.5749]])\n",
            " \n",
            "tensor([[ 2.4321],\n",
            "        [ 0.2912],\n",
            "        [-1.1808],\n",
            "        [-0.7928],\n",
            "        [-0.6367]]) tensor([[ 0.9032],\n",
            "        [-0.5529],\n",
            "        [-1.6662],\n",
            "        [-0.6362],\n",
            "        [-0.5684]])\n",
            " \n"
          ]
        }
      ]
    },
    {
      "cell_type": "markdown",
      "metadata": {
        "id": "lmUXAALTRPkL"
      },
      "source": [
        "# Train the model"
      ]
    },
    {
      "cell_type": "code",
      "metadata": {
        "id": "EY4ayy2VRGeZ"
      },
      "source": [
        "numepochs = 500\n",
        "for epochi in range(numepochs):\n",
        "\n",
        "  for x, y in train_loader:\n",
        "    # forward pass\n",
        "    yHat = ANNreg(x)\n",
        "\n",
        "    # compute loss\n",
        "    loss = lossfun(yHat,y)\n",
        "\n",
        "    # backprop\n",
        "    optimizer.zero_grad()\n",
        "    loss.backward()\n",
        "    optimizer.step()"
      ],
      "execution_count": 23,
      "outputs": []
    },
    {
      "cell_type": "code",
      "metadata": {
        "id": "zmX6K49WMNuy",
        "outputId": "ea5cd678-8789-48a5-e283-75e9ecf985dd",
        "colab": {
          "base_uri": "https://localhost:8080/"
        }
      },
      "source": [
        "# report the losses\n",
        "x, y = next(iter(test_loader))\n",
        "# compute losses of the TEST set\n",
        "predYtest = ANNreg(x)\n",
        "testloss = (predYtest-y).pow(2).mean()\n",
        "\n",
        "# print out final TRAIN loss and TEST loss\n",
        "print(f'Final TRAIN loss: {loss.detach():.2f}')\n",
        "print(f'Final TEST loss: {testloss.detach():.2f}')"
      ],
      "execution_count": 27,
      "outputs": [
        {
          "output_type": "stream",
          "name": "stdout",
          "text": [
            "Final TRAIN loss: 0.39\n",
            "Final TEST loss: 1.47\n"
          ]
        }
      ]
    },
    {
      "cell_type": "code",
      "metadata": {
        "id": "i1TCt0mpMNxC",
        "outputId": "afa6de24-7007-4e78-d1b3-8b7db63008e0",
        "colab": {
          "base_uri": "https://localhost:8080/",
          "height": 430
        }
      },
      "source": [
        "### plot the data\n",
        "x_tr, y_tr = next(iter(train_loader_complete))\n",
        "# predictions for final training run\n",
        "#predYtrain = ANNreg().detach().numpy()\n",
        "predYtrain = ANNreg(x_tr)\n",
        "\n",
        "x_te, y_te = next(iter(test_loader))\n",
        "predYtest = ANNreg(x_te)\n",
        "# now plot\n",
        "plt.plot(x,y,'k^',label='All data')\n",
        "plt.plot(x_tr, predYtrain.detach(),\n",
        "         'bs',markerfacecolor='w',label='Training pred.')\n",
        "plt.plot(x_te,predYtest.detach(),\n",
        "         'ro',markerfacecolor='w',label='Test pred.')\n",
        "plt.legend()\n",
        "plt.show()"
      ],
      "execution_count": 31,
      "outputs": [
        {
          "output_type": "display_data",
          "data": {
            "text/plain": [
              "<Figure size 640x480 with 1 Axes>"
            ],
            "image/png": "[encoded data removed]"
          },
          "metadata": {}
        }
      ]
    },
    {
      "cell_type": "code",
      "metadata": {
        "id": "ucAVWWYEbBE5"
      },
      "source": [],
      "execution_count": null,
      "outputs": []
    },
    {
      "cell_type": "markdown",
      "metadata": {
        "id": "jjvdKsrdZ4ka"
      },
      "source": [
        "# Additional explorations"
      ]
    },
    {
      "cell_type": "code",
      "metadata": {
        "id": "5EPeV1KZZ42b"
      },
      "source": [
        "# 1) The train/test split is currently hard-coded to be 80/20 (note the number \"80\"). This is bad coding style, because\n",
        "#    if you change the number of datapoints from N=100 to N=10000, then we're still only training on 80 samples and testing\n",
        "#    on 10000-80=9920 samples. Change how the variable trainBool is created so that it always trains on 80% of the data,\n",
        "#    regardless of the dataset size.\n",
        "#\n",
        "# 2) Re-write this code to use scikitlearn and/or DataLoader instead of manually separating the data into train/test.\n",
        "#\n",
        "# 3) Do we really need 500 epochs to train the model? To find out, add code to the training loop to compute the MSEloss\n",
        "#    for the train and test data on each iteration during training. Then plot the train and test error as a function of\n",
        "#    training epoch. What is your evaluation of an appropriate amount of training for this model/dataset?\n",
        "#"
      ],
      "execution_count": null,
      "outputs": []
    }
  ]
}
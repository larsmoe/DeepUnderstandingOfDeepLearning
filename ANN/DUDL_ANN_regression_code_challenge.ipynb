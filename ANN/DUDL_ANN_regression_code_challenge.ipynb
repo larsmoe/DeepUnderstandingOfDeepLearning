{
 "nbformat": 4,
 "nbformat_minor": 0,
 "metadata": {
  "colab": {
   "name": "DUDL_ANN_regression.ipynb",
   "provenance": [
    {
     "file_id": "1FtQ99beHYcDFDywLdaPgFm-KjBeI8PvD",
     "timestamp": 1615884593383
    }
   ],
   "collapsed_sections": [],
   "authorship_tag": "ABX9TyOfbw74CIER4uMxvaGa9RbX"
  },
  "kernelspec": {
   "name": "python3",
   "display_name": "Python 3"
  }
 },
 "cells": [
  {
   "cell_type": "markdown",
   "metadata": {
    "id": "bhWV8oes-wKR",
    "pycharm": {
     "name": "#%% md\n"
    }
   },
   "source": [
    "# COURSE: A deep understanding of deep learning\n",
    "## SECTION: ANNs\n",
    "### LECTURE: ANN for regression\n",
    "#### TEACHER: Mike X Cohen, sincxpress.com\n",
    "##### COURSE URL: udemy.com/course/deeplearning_x/?couponCode=202401"
   ]
  },
  {
   "cell_type": "code",
   "metadata": {
    "id": "j7-LiwqUMGYL",
    "pycharm": {
     "name": "#%%\n"
    }
   },
   "source": [
    "# import libraries\n",
    "import numpy as np\n",
    "import torch\n",
    "import torch.nn as nn\n",
    "import matplotlib.pyplot as plt\n",
    "import matplotlib_inline.backend_inline\n",
    "matplotlib_inline.backend_inline.set_matplotlib_formats('svg')"
   ],
   "execution_count": 5,
   "outputs": []
  },
  {
   "cell_type": "code",
   "execution_count": 8,
   "outputs": [],
   "source": [
    "numepochs = 500\n",
    "losses = torch.zeros(numepochs)\n",
    "count_good_models = 0\n",
    "learningRate = .05\n",
    "lossfun = nn.MSELoss()"
   ],
   "metadata": {
    "collapsed": false,
    "pycharm": {
     "name": "#%%\n"
    }
   }
  },
  {
   "cell_type": "code",
   "execution_count": 3,
   "outputs": [],
   "source": [
    "def train_model(x, y):\n",
    "    ANNreg = nn.Sequential(\n",
    "        nn.Linear(1,1),\n",
    "        nn.ReLU(),\n",
    "        nn.Linear(1,1)\n",
    "    )\n",
    "    optimizer = torch.optim.SGD(ANNreg.parameters(),lr=learningRate)\n",
    "    for epochi in range(numepochs):\n",
    "        yHat = ANNreg(x)\n",
    "        loss = lossfun(y, yHat)\n",
    "        optimizer.zero_grad()\n",
    "        loss.backward()\n",
    "        optimizer.step()\n",
    "    predictions = ANNreg(x)\n",
    "    testloss = lossfun(predictions, y)\n",
    "    accuracy = np.corrcoef(y.T,predictions.detach().T)[0,1]\n",
    "    return testloss, accuracy"
   ],
   "metadata": {
    "collapsed": false,
    "pycharm": {
     "name": "#%%\n"
    }
   }
  },
  {
   "cell_type": "code",
   "execution_count": 2,
   "outputs": [],
   "source": [
    "def create_data(slope, N):\n",
    "    x = torch.randn(N, 1)\n",
    "    y = slope*x + torch.randn(N, 1)/2\n",
    "    return x, y"
   ],
   "metadata": {
    "collapsed": false,
    "pycharm": {
     "name": "#%%\n"
    }
   }
  },
  {
   "cell_type": "code",
   "execution_count": 18,
   "outputs": [
    {
     "name": "stdout",
     "output_type": "stream",
     "text": [
      "1.401235406398773\n",
      "[[0. 0.]\n",
      " [0. 0.]\n",
      " [0. 0.]\n",
      " [0. 0.]\n",
      " [0. 0.]\n",
      " [0. 0.]\n",
      " [0. 0.]\n",
      " [0. 0.]\n",
      " [0. 0.]\n",
      " [0. 0.]\n",
      " [0. 0.]\n",
      " [0. 0.]\n",
      " [0. 0.]\n",
      " [0. 0.]\n",
      " [0. 0.]\n",
      " [0. 0.]\n",
      " [0. 0.]\n",
      " [0. 0.]\n",
      " [0. 0.]\n",
      " [0. 0.]\n",
      " [0. 0.]]\n",
      "1.121368036866188\n",
      "[[1.40123541        nan]\n",
      " [0.         0.        ]\n",
      " [0.         0.        ]\n",
      " [0.         0.        ]\n",
      " [0.         0.        ]\n",
      " [0.         0.        ]\n",
      " [0.         0.        ]\n",
      " [0.         0.        ]\n",
      " [0.         0.        ]\n",
      " [0.         0.        ]\n",
      " [0.         0.        ]\n",
      " [0.         0.        ]\n",
      " [0.         0.        ]\n",
      " [0.         0.        ]\n",
      " [0.         0.        ]\n",
      " [0.         0.        ]\n",
      " [0.         0.        ]\n",
      " [0.         0.        ]\n",
      " [0.         0.        ]\n",
      " [0.         0.        ]\n",
      " [0.         0.        ]]\n",
      "0.7728104543685913\n",
      "[[1.40123541        nan]\n",
      " [1.12136804        nan]\n",
      " [0.         0.        ]\n",
      " [0.         0.        ]\n",
      " [0.         0.        ]\n",
      " [0.         0.        ]\n",
      " [0.         0.        ]\n",
      " [0.         0.        ]\n",
      " [0.         0.        ]\n",
      " [0.         0.        ]\n",
      " [0.         0.        ]\n",
      " [0.         0.        ]\n",
      " [0.         0.        ]\n",
      " [0.         0.        ]\n",
      " [0.         0.        ]\n",
      " [0.         0.        ]\n",
      " [0.         0.        ]\n",
      " [0.         0.        ]\n",
      " [0.         0.        ]\n",
      " [0.         0.        ]\n",
      " [0.         0.        ]]\n",
      "0.5627462607622147\n",
      "[[1.40123541        nan]\n",
      " [1.12136804        nan]\n",
      " [0.77281045        nan]\n",
      " [0.         0.        ]\n",
      " [0.         0.        ]\n",
      " [0.         0.        ]\n",
      " [0.         0.        ]\n",
      " [0.         0.        ]\n",
      " [0.         0.        ]\n",
      " [0.         0.        ]\n",
      " [0.         0.        ]\n",
      " [0.         0.        ]\n",
      " [0.         0.        ]\n",
      " [0.         0.        ]\n",
      " [0.         0.        ]\n",
      " [0.         0.        ]\n",
      " [0.         0.        ]\n",
      " [0.         0.        ]\n",
      " [0.         0.        ]\n",
      " [0.         0.        ]\n",
      " [0.         0.        ]]\n",
      "0.69340412825346\n",
      "[[1.40123541        nan]\n",
      " [1.12136804        nan]\n",
      " [0.77281045        nan]\n",
      " [0.56274626        nan]\n",
      " [0.         0.        ]\n",
      " [0.         0.        ]\n",
      " [0.         0.        ]\n",
      " [0.         0.        ]\n",
      " [0.         0.        ]\n",
      " [0.         0.        ]\n",
      " [0.         0.        ]\n",
      " [0.         0.        ]\n",
      " [0.         0.        ]\n",
      " [0.         0.        ]\n",
      " [0.         0.        ]\n",
      " [0.         0.        ]\n",
      " [0.         0.        ]\n",
      " [0.         0.        ]\n",
      " [0.         0.        ]\n",
      " [0.         0.        ]\n",
      " [0.         0.        ]]\n",
      "0.5406174054741859\n",
      "[[1.40123541        nan]\n",
      " [1.12136804        nan]\n",
      " [0.77281045        nan]\n",
      " [0.56274626        nan]\n",
      " [0.69340413        nan]\n",
      " [0.         0.        ]\n",
      " [0.         0.        ]\n",
      " [0.         0.        ]\n",
      " [0.         0.        ]\n",
      " [0.         0.        ]\n",
      " [0.         0.        ]\n",
      " [0.         0.        ]\n",
      " [0.         0.        ]\n",
      " [0.         0.        ]\n",
      " [0.         0.        ]\n",
      " [0.         0.        ]\n",
      " [0.         0.        ]\n",
      " [0.         0.        ]\n",
      " [0.         0.        ]\n",
      " [0.         0.        ]\n",
      " [0.         0.        ]]\n",
      "0.4227796244621277\n",
      "[[1.40123541        nan]\n",
      " [1.12136804        nan]\n",
      " [0.77281045        nan]\n",
      " [0.56274626        nan]\n",
      " [0.69340413        nan]\n",
      " [0.54061741        nan]\n",
      " [0.         0.        ]\n",
      " [0.         0.        ]\n",
      " [0.         0.        ]\n",
      " [0.         0.        ]\n",
      " [0.         0.        ]\n",
      " [0.         0.        ]\n",
      " [0.         0.        ]\n",
      " [0.         0.        ]\n",
      " [0.         0.        ]\n",
      " [0.         0.        ]\n",
      " [0.         0.        ]\n",
      " [0.         0.        ]\n",
      " [0.         0.        ]\n",
      " [0.         0.        ]\n",
      " [0.         0.        ]]\n",
      "0.37248925149440765\n",
      "[[1.40123541        nan]\n",
      " [1.12136804        nan]\n",
      " [0.77281045        nan]\n",
      " [0.56274626        nan]\n",
      " [0.69340413        nan]\n",
      " [0.54061741        nan]\n",
      " [0.42277962        nan]\n",
      " [0.         0.        ]\n",
      " [0.         0.        ]\n",
      " [0.         0.        ]\n",
      " [0.         0.        ]\n",
      " [0.         0.        ]\n",
      " [0.         0.        ]\n",
      " [0.         0.        ]\n",
      " [0.         0.        ]\n",
      " [0.         0.        ]\n",
      " [0.         0.        ]\n",
      " [0.         0.        ]\n",
      " [0.         0.        ]\n",
      " [0.         0.        ]\n",
      " [0.         0.        ]]\n",
      "0.27869422882795336\n",
      "[[1.40123541        nan]\n",
      " [1.12136804        nan]\n",
      " [0.77281045        nan]\n",
      " [0.56274626        nan]\n",
      " [0.69340413        nan]\n",
      " [0.54061741        nan]\n",
      " [0.42277962        nan]\n",
      " [0.37248925        nan]\n",
      " [0.         0.        ]\n",
      " [0.         0.        ]\n",
      " [0.         0.        ]\n",
      " [0.         0.        ]\n",
      " [0.         0.        ]\n",
      " [0.         0.        ]\n",
      " [0.         0.        ]\n",
      " [0.         0.        ]\n",
      " [0.         0.        ]\n",
      " [0.         0.        ]\n",
      " [0.         0.        ]\n",
      " [0.         0.        ]\n",
      " [0.         0.        ]]\n",
      "0.25068003565073016\n",
      "[[1.40123541        nan]\n",
      " [1.12136804        nan]\n",
      " [0.77281045        nan]\n",
      " [0.56274626        nan]\n",
      " [0.69340413        nan]\n",
      " [0.54061741        nan]\n",
      " [0.42277962        nan]\n",
      " [0.37248925        nan]\n",
      " [0.27869423        nan]\n",
      " [0.         0.        ]\n",
      " [0.         0.        ]\n",
      " [0.         0.        ]\n",
      " [0.         0.        ]\n",
      " [0.         0.        ]\n",
      " [0.         0.        ]\n",
      " [0.         0.        ]\n",
      " [0.         0.        ]\n",
      " [0.         0.        ]\n",
      " [0.         0.        ]\n",
      " [0.         0.        ]\n",
      " [0.         0.        ]]\n",
      "0.24292556017637254\n",
      "[[1.40123541        nan]\n",
      " [1.12136804        nan]\n",
      " [0.77281045        nan]\n",
      " [0.56274626        nan]\n",
      " [0.69340413        nan]\n",
      " [0.54061741        nan]\n",
      " [0.42277962        nan]\n",
      " [0.37248925        nan]\n",
      " [0.27869423        nan]\n",
      " [0.25068004        nan]\n",
      " [0.         0.        ]\n",
      " [0.         0.        ]\n",
      " [0.         0.        ]\n",
      " [0.         0.        ]\n",
      " [0.         0.        ]\n",
      " [0.         0.        ]\n",
      " [0.         0.        ]\n",
      " [0.         0.        ]\n",
      " [0.         0.        ]\n",
      " [0.         0.        ]\n",
      " [0.         0.        ]]\n",
      "0.26499576300382616\n",
      "[[1.40123541        nan]\n",
      " [1.12136804        nan]\n",
      " [0.77281045        nan]\n",
      " [0.56274626        nan]\n",
      " [0.69340413        nan]\n",
      " [0.54061741        nan]\n",
      " [0.42277962        nan]\n",
      " [0.37248925        nan]\n",
      " [0.27869423        nan]\n",
      " [0.25068004        nan]\n",
      " [0.24292556        nan]\n",
      " [0.         0.        ]\n",
      " [0.         0.        ]\n",
      " [0.         0.        ]\n",
      " [0.         0.        ]\n",
      " [0.         0.        ]\n",
      " [0.         0.        ]\n",
      " [0.         0.        ]\n",
      " [0.         0.        ]\n",
      " [0.         0.        ]\n",
      " [0.         0.        ]]\n",
      "0.30398426443338394\n",
      "[[1.40123541        nan]\n",
      " [1.12136804        nan]\n",
      " [0.77281045        nan]\n",
      " [0.56274626        nan]\n",
      " [0.69340413        nan]\n",
      " [0.54061741        nan]\n",
      " [0.42277962        nan]\n",
      " [0.37248925        nan]\n",
      " [0.27869423        nan]\n",
      " [0.25068004        nan]\n",
      " [0.24292556        nan]\n",
      " [0.26499576        nan]\n",
      " [0.         0.        ]\n",
      " [0.         0.        ]\n",
      " [0.         0.        ]\n",
      " [0.         0.        ]\n",
      " [0.         0.        ]\n",
      " [0.         0.        ]\n",
      " [0.         0.        ]\n",
      " [0.         0.        ]\n",
      " [0.         0.        ]]\n",
      "0.3978970420360565\n",
      "[[1.40123541        nan]\n",
      " [1.12136804        nan]\n",
      " [0.77281045        nan]\n",
      " [0.56274626        nan]\n",
      " [0.69340413        nan]\n",
      " [0.54061741        nan]\n",
      " [0.42277962        nan]\n",
      " [0.37248925        nan]\n",
      " [0.27869423        nan]\n",
      " [0.25068004        nan]\n",
      " [0.24292556        nan]\n",
      " [0.26499576        nan]\n",
      " [0.30398426        nan]\n",
      " [0.         0.        ]\n",
      " [0.         0.        ]\n",
      " [0.         0.        ]\n",
      " [0.         0.        ]\n",
      " [0.         0.        ]\n",
      " [0.         0.        ]\n",
      " [0.         0.        ]\n",
      " [0.         0.        ]]\n",
      "0.390472708940506\n",
      "[[1.40123541        nan]\n",
      " [1.12136804        nan]\n",
      " [0.77281045        nan]\n",
      " [0.56274626        nan]\n",
      " [0.69340413        nan]\n",
      " [0.54061741        nan]\n",
      " [0.42277962        nan]\n",
      " [0.37248925        nan]\n",
      " [0.27869423        nan]\n",
      " [0.25068004        nan]\n",
      " [0.24292556        nan]\n",
      " [0.26499576        nan]\n",
      " [0.30398426        nan]\n",
      " [0.39789704        nan]\n",
      " [0.         0.        ]\n",
      " [0.         0.        ]\n",
      " [0.         0.        ]\n",
      " [0.         0.        ]\n",
      " [0.         0.        ]\n",
      " [0.         0.        ]\n",
      " [0.         0.        ]]\n",
      "0.39036224156618116\n",
      "[[1.40123541        nan]\n",
      " [1.12136804        nan]\n",
      " [0.77281045        nan]\n",
      " [0.56274626        nan]\n",
      " [0.69340413        nan]\n",
      " [0.54061741        nan]\n",
      " [0.42277962        nan]\n",
      " [0.37248925        nan]\n",
      " [0.27869423        nan]\n",
      " [0.25068004        nan]\n",
      " [0.24292556        nan]\n",
      " [0.26499576        nan]\n",
      " [0.30398426        nan]\n",
      " [0.39789704        nan]\n",
      " [0.39047271        nan]\n",
      " [0.         0.        ]\n",
      " [0.         0.        ]\n",
      " [0.         0.        ]\n",
      " [0.         0.        ]\n",
      " [0.         0.        ]\n",
      " [0.         0.        ]]\n",
      "0.5298129388689995\n",
      "[[1.40123541        nan]\n",
      " [1.12136804        nan]\n",
      " [0.77281045        nan]\n",
      " [0.56274626        nan]\n",
      " [0.69340413        nan]\n",
      " [0.54061741        nan]\n",
      " [0.42277962        nan]\n",
      " [0.37248925        nan]\n",
      " [0.27869423        nan]\n",
      " [0.25068004        nan]\n",
      " [0.24292556        nan]\n",
      " [0.26499576        nan]\n",
      " [0.30398426        nan]\n",
      " [0.39789704        nan]\n",
      " [0.39047271        nan]\n",
      " [0.39036224        nan]\n",
      " [0.         0.        ]\n",
      " [0.         0.        ]\n",
      " [0.         0.        ]\n",
      " [0.         0.        ]\n",
      " [0.         0.        ]]\n",
      "0.7040788900852203\n",
      "[[1.40123541        nan]\n",
      " [1.12136804        nan]\n",
      " [0.77281045        nan]\n",
      " [0.56274626        nan]\n",
      " [0.69340413        nan]\n",
      " [0.54061741        nan]\n",
      " [0.42277962        nan]\n",
      " [0.37248925        nan]\n",
      " [0.27869423        nan]\n",
      " [0.25068004        nan]\n",
      " [0.24292556        nan]\n",
      " [0.26499576        nan]\n",
      " [0.30398426        nan]\n",
      " [0.39789704        nan]\n",
      " [0.39047271        nan]\n",
      " [0.39036224        nan]\n",
      " [0.52981294        nan]\n",
      " [0.         0.        ]\n",
      " [0.         0.        ]\n",
      " [0.         0.        ]\n",
      " [0.         0.        ]]\n",
      "0.9202654826641082\n",
      "[[1.40123541        nan]\n",
      " [1.12136804        nan]\n",
      " [0.77281045        nan]\n",
      " [0.56274626        nan]\n",
      " [0.69340413        nan]\n",
      " [0.54061741        nan]\n",
      " [0.42277962        nan]\n",
      " [0.37248925        nan]\n",
      " [0.27869423        nan]\n",
      " [0.25068004        nan]\n",
      " [0.24292556        nan]\n",
      " [0.26499576        nan]\n",
      " [0.30398426        nan]\n",
      " [0.39789704        nan]\n",
      " [0.39047271        nan]\n",
      " [0.39036224        nan]\n",
      " [0.52981294        nan]\n",
      " [0.70407889        nan]\n",
      " [0.         0.        ]\n",
      " [0.         0.        ]\n",
      " [0.         0.        ]]\n",
      "1.248759126663208\n",
      "[[1.40123541        nan]\n",
      " [1.12136804        nan]\n",
      " [0.77281045        nan]\n",
      " [0.56274626        nan]\n",
      " [0.69340413        nan]\n",
      " [0.54061741        nan]\n",
      " [0.42277962        nan]\n",
      " [0.37248925        nan]\n",
      " [0.27869423        nan]\n",
      " [0.25068004        nan]\n",
      " [0.24292556        nan]\n",
      " [0.26499576        nan]\n",
      " [0.30398426        nan]\n",
      " [0.39789704        nan]\n",
      " [0.39047271        nan]\n",
      " [0.39036224        nan]\n",
      " [0.52981294        nan]\n",
      " [0.70407889        nan]\n",
      " [0.92026548        nan]\n",
      " [0.         0.        ]\n",
      " [0.         0.        ]]\n",
      "1.4539949843287467\n",
      "[[1.40123541        nan]\n",
      " [1.12136804        nan]\n",
      " [0.77281045        nan]\n",
      " [0.56274626        nan]\n",
      " [0.69340413        nan]\n",
      " [0.54061741        nan]\n",
      " [0.42277962        nan]\n",
      " [0.37248925        nan]\n",
      " [0.27869423        nan]\n",
      " [0.25068004        nan]\n",
      " [0.24292556        nan]\n",
      " [0.26499576        nan]\n",
      " [0.30398426        nan]\n",
      " [0.39789704        nan]\n",
      " [0.39047271        nan]\n",
      " [0.39036224        nan]\n",
      " [0.52981294        nan]\n",
      " [0.70407889        nan]\n",
      " [0.92026548        nan]\n",
      " [1.24875913        nan]\n",
      " [0.         0.        ]]\n"
     ]
    }
   ],
   "source": [
    "slopes = np.linspace(-2, 2, 21)\n",
    "num_experiment = 50\n",
    "N = 50\n",
    "performance_slope = np.zeros((21, 2))\n",
    "for j, slope in enumerate(slopes):\n",
    "    performance = np.zeros((num_experiment, 2))\n",
    "    for i in range(num_experiment):\n",
    "        x, y = create_data(slope, N)\n",
    "        testloss, accuracy = train_model(x, y)\n",
    "        performance[i, 0] = testloss\n",
    "        performance[i, 1] = accuracy\n",
    "    print(np.mean(performance[:,0]))\n",
    "    print(performance_slope)\n",
    "    performance_slope[j, 0] = np.mean(performance[:,0])\n",
    "    performance_slope[j, 1] = np.mean(performance[:,1])"
   ],
   "metadata": {
    "collapsed": false,
    "pycharm": {
     "name": "#%%\n"
    }
   }
  },
  {
   "cell_type": "code",
   "execution_count": 14,
   "outputs": [
    {
     "name": "stdout",
     "output_type": "stream",
     "text": [
      "[[0.83295642        nan]\n",
      " [1.18314974        nan]]\n"
     ]
    }
   ],
   "source": [
    "print(performance_slope)"
   ],
   "metadata": {
    "collapsed": false,
    "pycharm": {
     "name": "#%%\n"
    }
   }
  },
  {
   "cell_type": "code",
   "execution_count": 13,
   "outputs": [
    {
     "data": {
      "text/plain": "<Figure size 432x288 with 1 Axes>",
      "image/svg+xml": "<?xml version=\"1.0\" encoding=\"utf-8\" standalone=\"no\"?>\r\n<!DOCTYPE svg PUBLIC \"-//W3C//DTD SVG 1.1//EN\"\r\n  \"http://www.w3.org/Graphics/SVG/1.1/DTD/svg11.dtd\">\r\n<svg height=\"251.945128pt\" version=\"1.1\" viewBox=\"0 0 378.465625 251.945128\" width=\"378.465625pt\" xmlns=\"http://www.w3.org/2000/svg\" xmlns:xlink=\"http://www.w3.org/1999/xlink\">\r\n <metadata>\r\n  <rdf:RDF xmlns:cc=\"http://creativecommons.org/ns#\" xmlns:dc=\"http://purl.org/dc/elements/1.1/\" xmlns:rdf=\"http://www.w3.org/1999/02/22-rdf-syntax-ns#\">\r\n   <cc:Work>\r\n    <dc:type rdf:resource=\"http://purl.org/dc/dcmitype/StillImage\"/>\r\n    <dc:date>2024-03-29T20:20:15.139560</dc:date>\r\n    <dc:format>image/svg+xml</dc:format>\r\n    <dc:creator>\r\n     <cc:Agent>\r\n      <dc:title>Matplotlib v3.4.2, https://matplotlib.org/</dc:title>\r\n     </cc:Agent>\r\n    </dc:creator>\r\n   </cc:Work>\r\n  </rdf:RDF>\r\n </metadata>\r\n <defs>\r\n  <style type=\"text/css\">*{stroke-linecap:butt;stroke-linejoin:round;}</style>\r\n </defs>\r\n <g id=\"figure_1\">\r\n  <g id=\"patch_1\">\r\n   <path d=\"M 0 251.945128 \r\nL 378.465625 251.945128 \r\nL 378.465625 0 \r\nL 0 0 \r\nz\r\n\" style=\"fill:none;\"/>\r\n  </g>\r\n  <g id=\"axes_1\">\r\n   <g id=\"patch_2\">\r\n    <path d=\"M 36.465625 228.067003 \r\nL 371.265625 228.067003 \r\nL 371.265625 10.627003 \r\nL 36.465625 10.627003 \r\nz\r\n\" style=\"fill:#ffffff;\"/>\r\n   </g>\r\n   <g id=\"matplotlib.axis_1\">\r\n    <g id=\"xtick_1\">\r\n     <g id=\"line2d_1\">\r\n      <defs>\r\n       <path d=\"M 0 0 \r\nL 0 3.5 \r\n\" id=\"ma4f5ea449b\" style=\"stroke:#000000;stroke-width:0.8;\"/>\r\n      </defs>\r\n      <g>\r\n       <use style=\"stroke:#000000;stroke-width:0.8;\" x=\"51.683807\" xlink:href=\"#ma4f5ea449b\" y=\"228.067003\"/>\r\n      </g>\r\n     </g>\r\n     <g id=\"text_1\">\r\n      <!-- −2.0 -->\r\n      <g transform=\"translate(39.542401 242.66544)scale(0.1 -0.1)\">\r\n       <defs>\r\n        <path d=\"M 678 2272 \r\nL 4684 2272 \r\nL 4684 1741 \r\nL 678 1741 \r\nL 678 2272 \r\nz\r\n\" id=\"DejaVuSans-2212\" transform=\"scale(0.015625)\"/>\r\n        <path d=\"M 1228 531 \r\nL 3431 531 \r\nL 3431 0 \r\nL 469 0 \r\nL 469 531 \r\nQ 828 903 1448 1529 \r\nQ 2069 2156 2228 2338 \r\nQ 2531 2678 2651 2914 \r\nQ 2772 3150 2772 3378 \r\nQ 2772 3750 2511 3984 \r\nQ 2250 4219 1831 4219 \r\nQ 1534 4219 1204 4116 \r\nQ 875 4013 500 3803 \r\nL 500 4441 \r\nQ 881 4594 1212 4672 \r\nQ 1544 4750 1819 4750 \r\nQ 2544 4750 2975 4387 \r\nQ 3406 4025 3406 3419 \r\nQ 3406 3131 3298 2873 \r\nQ 3191 2616 2906 2266 \r\nQ 2828 2175 2409 1742 \r\nQ 1991 1309 1228 531 \r\nz\r\n\" id=\"DejaVuSans-32\" transform=\"scale(0.015625)\"/>\r\n        <path d=\"M 684 794 \r\nL 1344 794 \r\nL 1344 0 \r\nL 684 0 \r\nL 684 794 \r\nz\r\n\" id=\"DejaVuSans-2e\" transform=\"scale(0.015625)\"/>\r\n        <path d=\"M 2034 4250 \r\nQ 1547 4250 1301 3770 \r\nQ 1056 3291 1056 2328 \r\nQ 1056 1369 1301 889 \r\nQ 1547 409 2034 409 \r\nQ 2525 409 2770 889 \r\nQ 3016 1369 3016 2328 \r\nQ 3016 3291 2770 3770 \r\nQ 2525 4250 2034 4250 \r\nz\r\nM 2034 4750 \r\nQ 2819 4750 3233 4129 \r\nQ 3647 3509 3647 2328 \r\nQ 3647 1150 3233 529 \r\nQ 2819 -91 2034 -91 \r\nQ 1250 -91 836 529 \r\nQ 422 1150 422 2328 \r\nQ 422 3509 836 4129 \r\nQ 1250 4750 2034 4750 \r\nz\r\n\" id=\"DejaVuSans-30\" transform=\"scale(0.015625)\"/>\r\n       </defs>\r\n       <use xlink:href=\"#DejaVuSans-2212\"/>\r\n       <use x=\"83.789062\" xlink:href=\"#DejaVuSans-32\"/>\r\n       <use x=\"147.412109\" xlink:href=\"#DejaVuSans-2e\"/>\r\n       <use x=\"179.199219\" xlink:href=\"#DejaVuSans-30\"/>\r\n      </g>\r\n     </g>\r\n    </g>\r\n    <g id=\"xtick_2\">\r\n     <g id=\"line2d_2\">\r\n      <g>\r\n       <use style=\"stroke:#000000;stroke-width:0.8;\" x=\"89.729261\" xlink:href=\"#ma4f5ea449b\" y=\"228.067003\"/>\r\n      </g>\r\n     </g>\r\n     <g id=\"text_2\">\r\n      <!-- −1.5 -->\r\n      <g transform=\"translate(77.587855 242.66544)scale(0.1 -0.1)\">\r\n       <defs>\r\n        <path d=\"M 794 531 \r\nL 1825 531 \r\nL 1825 4091 \r\nL 703 3866 \r\nL 703 4441 \r\nL 1819 4666 \r\nL 2450 4666 \r\nL 2450 531 \r\nL 3481 531 \r\nL 3481 0 \r\nL 794 0 \r\nL 794 531 \r\nz\r\n\" id=\"DejaVuSans-31\" transform=\"scale(0.015625)\"/>\r\n        <path d=\"M 691 4666 \r\nL 3169 4666 \r\nL 3169 4134 \r\nL 1269 4134 \r\nL 1269 2991 \r\nQ 1406 3038 1543 3061 \r\nQ 1681 3084 1819 3084 \r\nQ 2600 3084 3056 2656 \r\nQ 3513 2228 3513 1497 \r\nQ 3513 744 3044 326 \r\nQ 2575 -91 1722 -91 \r\nQ 1428 -91 1123 -41 \r\nQ 819 9 494 109 \r\nL 494 744 \r\nQ 775 591 1075 516 \r\nQ 1375 441 1709 441 \r\nQ 2250 441 2565 725 \r\nQ 2881 1009 2881 1497 \r\nQ 2881 1984 2565 2268 \r\nQ 2250 2553 1709 2553 \r\nQ 1456 2553 1204 2497 \r\nQ 953 2441 691 2322 \r\nL 691 4666 \r\nz\r\n\" id=\"DejaVuSans-35\" transform=\"scale(0.015625)\"/>\r\n       </defs>\r\n       <use xlink:href=\"#DejaVuSans-2212\"/>\r\n       <use x=\"83.789062\" xlink:href=\"#DejaVuSans-31\"/>\r\n       <use x=\"147.412109\" xlink:href=\"#DejaVuSans-2e\"/>\r\n       <use x=\"179.199219\" xlink:href=\"#DejaVuSans-35\"/>\r\n      </g>\r\n     </g>\r\n    </g>\r\n    <g id=\"xtick_3\">\r\n     <g id=\"line2d_3\">\r\n      <g>\r\n       <use style=\"stroke:#000000;stroke-width:0.8;\" x=\"127.774716\" xlink:href=\"#ma4f5ea449b\" y=\"228.067003\"/>\r\n      </g>\r\n     </g>\r\n     <g id=\"text_3\">\r\n      <!-- −1.0 -->\r\n      <g transform=\"translate(115.63331 242.66544)scale(0.1 -0.1)\">\r\n       <use xlink:href=\"#DejaVuSans-2212\"/>\r\n       <use x=\"83.789062\" xlink:href=\"#DejaVuSans-31\"/>\r\n       <use x=\"147.412109\" xlink:href=\"#DejaVuSans-2e\"/>\r\n       <use x=\"179.199219\" xlink:href=\"#DejaVuSans-30\"/>\r\n      </g>\r\n     </g>\r\n    </g>\r\n    <g id=\"xtick_4\">\r\n     <g id=\"line2d_4\">\r\n      <g>\r\n       <use style=\"stroke:#000000;stroke-width:0.8;\" x=\"165.82017\" xlink:href=\"#ma4f5ea449b\" y=\"228.067003\"/>\r\n      </g>\r\n     </g>\r\n     <g id=\"text_4\">\r\n      <!-- −0.5 -->\r\n      <g transform=\"translate(153.678764 242.66544)scale(0.1 -0.1)\">\r\n       <use xlink:href=\"#DejaVuSans-2212\"/>\r\n       <use x=\"83.789062\" xlink:href=\"#DejaVuSans-30\"/>\r\n       <use x=\"147.412109\" xlink:href=\"#DejaVuSans-2e\"/>\r\n       <use x=\"179.199219\" xlink:href=\"#DejaVuSans-35\"/>\r\n      </g>\r\n     </g>\r\n    </g>\r\n    <g id=\"xtick_5\">\r\n     <g id=\"line2d_5\">\r\n      <g>\r\n       <use style=\"stroke:#000000;stroke-width:0.8;\" x=\"203.865625\" xlink:href=\"#ma4f5ea449b\" y=\"228.067003\"/>\r\n      </g>\r\n     </g>\r\n     <g id=\"text_5\">\r\n      <!-- 0.0 -->\r\n      <g transform=\"translate(195.914063 242.66544)scale(0.1 -0.1)\">\r\n       <use xlink:href=\"#DejaVuSans-30\"/>\r\n       <use x=\"63.623047\" xlink:href=\"#DejaVuSans-2e\"/>\r\n       <use x=\"95.410156\" xlink:href=\"#DejaVuSans-30\"/>\r\n      </g>\r\n     </g>\r\n    </g>\r\n    <g id=\"xtick_6\">\r\n     <g id=\"line2d_6\">\r\n      <g>\r\n       <use style=\"stroke:#000000;stroke-width:0.8;\" x=\"241.91108\" xlink:href=\"#ma4f5ea449b\" y=\"228.067003\"/>\r\n      </g>\r\n     </g>\r\n     <g id=\"text_6\">\r\n      <!-- 0.5 -->\r\n      <g transform=\"translate(233.959517 242.66544)scale(0.1 -0.1)\">\r\n       <use xlink:href=\"#DejaVuSans-30\"/>\r\n       <use x=\"63.623047\" xlink:href=\"#DejaVuSans-2e\"/>\r\n       <use x=\"95.410156\" xlink:href=\"#DejaVuSans-35\"/>\r\n      </g>\r\n     </g>\r\n    </g>\r\n    <g id=\"xtick_7\">\r\n     <g id=\"line2d_7\">\r\n      <g>\r\n       <use style=\"stroke:#000000;stroke-width:0.8;\" x=\"279.956534\" xlink:href=\"#ma4f5ea449b\" y=\"228.067003\"/>\r\n      </g>\r\n     </g>\r\n     <g id=\"text_7\">\r\n      <!-- 1.0 -->\r\n      <g transform=\"translate(272.004972 242.66544)scale(0.1 -0.1)\">\r\n       <use xlink:href=\"#DejaVuSans-31\"/>\r\n       <use x=\"63.623047\" xlink:href=\"#DejaVuSans-2e\"/>\r\n       <use x=\"95.410156\" xlink:href=\"#DejaVuSans-30\"/>\r\n      </g>\r\n     </g>\r\n    </g>\r\n    <g id=\"xtick_8\">\r\n     <g id=\"line2d_8\">\r\n      <g>\r\n       <use style=\"stroke:#000000;stroke-width:0.8;\" x=\"318.001989\" xlink:href=\"#ma4f5ea449b\" y=\"228.067003\"/>\r\n      </g>\r\n     </g>\r\n     <g id=\"text_8\">\r\n      <!-- 1.5 -->\r\n      <g transform=\"translate(310.050426 242.66544)scale(0.1 -0.1)\">\r\n       <use xlink:href=\"#DejaVuSans-31\"/>\r\n       <use x=\"63.623047\" xlink:href=\"#DejaVuSans-2e\"/>\r\n       <use x=\"95.410156\" xlink:href=\"#DejaVuSans-35\"/>\r\n      </g>\r\n     </g>\r\n    </g>\r\n    <g id=\"xtick_9\">\r\n     <g id=\"line2d_9\">\r\n      <g>\r\n       <use style=\"stroke:#000000;stroke-width:0.8;\" x=\"356.047443\" xlink:href=\"#ma4f5ea449b\" y=\"228.067003\"/>\r\n      </g>\r\n     </g>\r\n     <g id=\"text_9\">\r\n      <!-- 2.0 -->\r\n      <g transform=\"translate(348.095881 242.66544)scale(0.1 -0.1)\">\r\n       <use xlink:href=\"#DejaVuSans-32\"/>\r\n       <use x=\"63.623047\" xlink:href=\"#DejaVuSans-2e\"/>\r\n       <use x=\"95.410156\" xlink:href=\"#DejaVuSans-30\"/>\r\n      </g>\r\n     </g>\r\n    </g>\r\n   </g>\r\n   <g id=\"matplotlib.axis_2\">\r\n    <g id=\"ytick_1\">\r\n     <g id=\"line2d_10\">\r\n      <defs>\r\n       <path d=\"M 0 0 \r\nL -3.5 0 \r\n\" id=\"mbe5c1fed10\" style=\"stroke:#000000;stroke-width:0.8;\"/>\r\n      </defs>\r\n      <g>\r\n       <use style=\"stroke:#000000;stroke-width:0.8;\" x=\"36.465625\" xlink:href=\"#mbe5c1fed10\" y=\"208.562818\"/>\r\n      </g>\r\n     </g>\r\n     <g id=\"text_10\">\r\n      <!-- 0.85 -->\r\n      <g transform=\"translate(7.2 212.362036)scale(0.1 -0.1)\">\r\n       <defs>\r\n        <path d=\"M 2034 2216 \r\nQ 1584 2216 1326 1975 \r\nQ 1069 1734 1069 1313 \r\nQ 1069 891 1326 650 \r\nQ 1584 409 2034 409 \r\nQ 2484 409 2743 651 \r\nQ 3003 894 3003 1313 \r\nQ 3003 1734 2745 1975 \r\nQ 2488 2216 2034 2216 \r\nz\r\nM 1403 2484 \r\nQ 997 2584 770 2862 \r\nQ 544 3141 544 3541 \r\nQ 544 4100 942 4425 \r\nQ 1341 4750 2034 4750 \r\nQ 2731 4750 3128 4425 \r\nQ 3525 4100 3525 3541 \r\nQ 3525 3141 3298 2862 \r\nQ 3072 2584 2669 2484 \r\nQ 3125 2378 3379 2068 \r\nQ 3634 1759 3634 1313 \r\nQ 3634 634 3220 271 \r\nQ 2806 -91 2034 -91 \r\nQ 1263 -91 848 271 \r\nQ 434 634 434 1313 \r\nQ 434 1759 690 2068 \r\nQ 947 2378 1403 2484 \r\nz\r\nM 1172 3481 \r\nQ 1172 3119 1398 2916 \r\nQ 1625 2713 2034 2713 \r\nQ 2441 2713 2670 2916 \r\nQ 2900 3119 2900 3481 \r\nQ 2900 3844 2670 4047 \r\nQ 2441 4250 2034 4250 \r\nQ 1625 4250 1398 4047 \r\nQ 1172 3844 1172 3481 \r\nz\r\n\" id=\"DejaVuSans-38\" transform=\"scale(0.015625)\"/>\r\n       </defs>\r\n       <use xlink:href=\"#DejaVuSans-30\"/>\r\n       <use x=\"63.623047\" xlink:href=\"#DejaVuSans-2e\"/>\r\n       <use x=\"95.410156\" xlink:href=\"#DejaVuSans-38\"/>\r\n       <use x=\"159.033203\" xlink:href=\"#DejaVuSans-35\"/>\r\n      </g>\r\n     </g>\r\n    </g>\r\n    <g id=\"ytick_2\">\r\n     <g id=\"line2d_11\">\r\n      <g>\r\n       <use style=\"stroke:#000000;stroke-width:0.8;\" x=\"36.465625\" xlink:href=\"#mbe5c1fed10\" y=\"180.339446\"/>\r\n      </g>\r\n     </g>\r\n     <g id=\"text_11\">\r\n      <!-- 0.90 -->\r\n      <g transform=\"translate(7.2 184.138665)scale(0.1 -0.1)\">\r\n       <defs>\r\n        <path d=\"M 703 97 \r\nL 703 672 \r\nQ 941 559 1184 500 \r\nQ 1428 441 1663 441 \r\nQ 2288 441 2617 861 \r\nQ 2947 1281 2994 2138 \r\nQ 2813 1869 2534 1725 \r\nQ 2256 1581 1919 1581 \r\nQ 1219 1581 811 2004 \r\nQ 403 2428 403 3163 \r\nQ 403 3881 828 4315 \r\nQ 1253 4750 1959 4750 \r\nQ 2769 4750 3195 4129 \r\nQ 3622 3509 3622 2328 \r\nQ 3622 1225 3098 567 \r\nQ 2575 -91 1691 -91 \r\nQ 1453 -91 1209 -44 \r\nQ 966 3 703 97 \r\nz\r\nM 1959 2075 \r\nQ 2384 2075 2632 2365 \r\nQ 2881 2656 2881 3163 \r\nQ 2881 3666 2632 3958 \r\nQ 2384 4250 1959 4250 \r\nQ 1534 4250 1286 3958 \r\nQ 1038 3666 1038 3163 \r\nQ 1038 2656 1286 2365 \r\nQ 1534 2075 1959 2075 \r\nz\r\n\" id=\"DejaVuSans-39\" transform=\"scale(0.015625)\"/>\r\n       </defs>\r\n       <use xlink:href=\"#DejaVuSans-30\"/>\r\n       <use x=\"63.623047\" xlink:href=\"#DejaVuSans-2e\"/>\r\n       <use x=\"95.410156\" xlink:href=\"#DejaVuSans-39\"/>\r\n       <use x=\"159.033203\" xlink:href=\"#DejaVuSans-30\"/>\r\n      </g>\r\n     </g>\r\n    </g>\r\n    <g id=\"ytick_3\">\r\n     <g id=\"line2d_12\">\r\n      <g>\r\n       <use style=\"stroke:#000000;stroke-width:0.8;\" x=\"36.465625\" xlink:href=\"#mbe5c1fed10\" y=\"152.116075\"/>\r\n      </g>\r\n     </g>\r\n     <g id=\"text_12\">\r\n      <!-- 0.95 -->\r\n      <g transform=\"translate(7.2 155.915294)scale(0.1 -0.1)\">\r\n       <use xlink:href=\"#DejaVuSans-30\"/>\r\n       <use x=\"63.623047\" xlink:href=\"#DejaVuSans-2e\"/>\r\n       <use x=\"95.410156\" xlink:href=\"#DejaVuSans-39\"/>\r\n       <use x=\"159.033203\" xlink:href=\"#DejaVuSans-35\"/>\r\n      </g>\r\n     </g>\r\n    </g>\r\n    <g id=\"ytick_4\">\r\n     <g id=\"line2d_13\">\r\n      <g>\r\n       <use style=\"stroke:#000000;stroke-width:0.8;\" x=\"36.465625\" xlink:href=\"#mbe5c1fed10\" y=\"123.892704\"/>\r\n      </g>\r\n     </g>\r\n     <g id=\"text_13\">\r\n      <!-- 1.00 -->\r\n      <g transform=\"translate(7.2 127.691923)scale(0.1 -0.1)\">\r\n       <use xlink:href=\"#DejaVuSans-31\"/>\r\n       <use x=\"63.623047\" xlink:href=\"#DejaVuSans-2e\"/>\r\n       <use x=\"95.410156\" xlink:href=\"#DejaVuSans-30\"/>\r\n       <use x=\"159.033203\" xlink:href=\"#DejaVuSans-30\"/>\r\n      </g>\r\n     </g>\r\n    </g>\r\n    <g id=\"ytick_5\">\r\n     <g id=\"line2d_14\">\r\n      <g>\r\n       <use style=\"stroke:#000000;stroke-width:0.8;\" x=\"36.465625\" xlink:href=\"#mbe5c1fed10\" y=\"95.669333\"/>\r\n      </g>\r\n     </g>\r\n     <g id=\"text_14\">\r\n      <!-- 1.05 -->\r\n      <g transform=\"translate(7.2 99.468551)scale(0.1 -0.1)\">\r\n       <use xlink:href=\"#DejaVuSans-31\"/>\r\n       <use x=\"63.623047\" xlink:href=\"#DejaVuSans-2e\"/>\r\n       <use x=\"95.410156\" xlink:href=\"#DejaVuSans-30\"/>\r\n       <use x=\"159.033203\" xlink:href=\"#DejaVuSans-35\"/>\r\n      </g>\r\n     </g>\r\n    </g>\r\n    <g id=\"ytick_6\">\r\n     <g id=\"line2d_15\">\r\n      <g>\r\n       <use style=\"stroke:#000000;stroke-width:0.8;\" x=\"36.465625\" xlink:href=\"#mbe5c1fed10\" y=\"67.445961\"/>\r\n      </g>\r\n     </g>\r\n     <g id=\"text_15\">\r\n      <!-- 1.10 -->\r\n      <g transform=\"translate(7.2 71.24518)scale(0.1 -0.1)\">\r\n       <use xlink:href=\"#DejaVuSans-31\"/>\r\n       <use x=\"63.623047\" xlink:href=\"#DejaVuSans-2e\"/>\r\n       <use x=\"95.410156\" xlink:href=\"#DejaVuSans-31\"/>\r\n       <use x=\"159.033203\" xlink:href=\"#DejaVuSans-30\"/>\r\n      </g>\r\n     </g>\r\n    </g>\r\n    <g id=\"ytick_7\">\r\n     <g id=\"line2d_16\">\r\n      <g>\r\n       <use style=\"stroke:#000000;stroke-width:0.8;\" x=\"36.465625\" xlink:href=\"#mbe5c1fed10\" y=\"39.22259\"/>\r\n      </g>\r\n     </g>\r\n     <g id=\"text_16\">\r\n      <!-- 1.15 -->\r\n      <g transform=\"translate(7.2 43.021809)scale(0.1 -0.1)\">\r\n       <use xlink:href=\"#DejaVuSans-31\"/>\r\n       <use x=\"63.623047\" xlink:href=\"#DejaVuSans-2e\"/>\r\n       <use x=\"95.410156\" xlink:href=\"#DejaVuSans-31\"/>\r\n       <use x=\"159.033203\" xlink:href=\"#DejaVuSans-35\"/>\r\n      </g>\r\n     </g>\r\n    </g>\r\n    <g id=\"ytick_8\">\r\n     <g id=\"line2d_17\">\r\n      <g>\r\n       <use style=\"stroke:#000000;stroke-width:0.8;\" x=\"36.465625\" xlink:href=\"#mbe5c1fed10\" y=\"10.999219\"/>\r\n      </g>\r\n     </g>\r\n     <g id=\"text_17\">\r\n      <!-- 1.20 -->\r\n      <g transform=\"translate(7.2 14.798437)scale(0.1 -0.1)\">\r\n       <use xlink:href=\"#DejaVuSans-31\"/>\r\n       <use x=\"63.623047\" xlink:href=\"#DejaVuSans-2e\"/>\r\n       <use x=\"95.410156\" xlink:href=\"#DejaVuSans-32\"/>\r\n       <use x=\"159.033203\" xlink:href=\"#DejaVuSans-30\"/>\r\n      </g>\r\n     </g>\r\n    </g>\r\n   </g>\r\n   <g id=\"line2d_18\">\r\n    <defs>\r\n     <path d=\"M -3 3 \r\nL 3 3 \r\nL 3 -3 \r\nL -3 -3 \r\nz\r\n\" id=\"m09c515bc9c\" style=\"stroke:#1f77b4;stroke-linejoin:miter;\"/>\r\n    </defs>\r\n    <g clip-path=\"url(#pb29de4aa07)\">\r\n     <use style=\"fill:#1f77b4;stroke:#1f77b4;stroke-linejoin:miter;\" x=\"51.683807\" xlink:href=\"#m09c515bc9c\" y=\"218.183366\"/>\r\n     <use style=\"fill:#1f77b4;stroke:#1f77b4;stroke-linejoin:miter;\" x=\"356.047443\" xlink:href=\"#m09c515bc9c\" y=\"20.510639\"/>\r\n    </g>\r\n   </g>\r\n   <g id=\"patch_3\">\r\n    <path d=\"M 36.465625 228.067003 \r\nL 36.465625 10.627003 \r\n\" style=\"fill:none;stroke:#000000;stroke-linecap:square;stroke-linejoin:miter;stroke-width:0.8;\"/>\r\n   </g>\r\n   <g id=\"patch_4\">\r\n    <path d=\"M 371.265625 228.067003 \r\nL 371.265625 10.627003 \r\n\" style=\"fill:none;stroke:#000000;stroke-linecap:square;stroke-linejoin:miter;stroke-width:0.8;\"/>\r\n   </g>\r\n   <g id=\"patch_5\">\r\n    <path d=\"M 36.465625 228.067003 \r\nL 371.265625 228.067003 \r\n\" style=\"fill:none;stroke:#000000;stroke-linecap:square;stroke-linejoin:miter;stroke-width:0.8;\"/>\r\n   </g>\r\n   <g id=\"patch_6\">\r\n    <path d=\"M 36.465625 10.627003 \r\nL 371.265625 10.627003 \r\n\" style=\"fill:none;stroke:#000000;stroke-linecap:square;stroke-linejoin:miter;stroke-width:0.8;\"/>\r\n   </g>\r\n  </g>\r\n </g>\r\n <defs>\r\n  <clipPath id=\"pb29de4aa07\">\r\n   <rect height=\"217.44\" width=\"334.8\" x=\"36.465625\" y=\"10.627003\"/>\r\n  </clipPath>\r\n </defs>\r\n</svg>\r\n"
     },
     "metadata": {
      "needs_background": "light"
     },
     "output_type": "display_data"
    }
   ],
   "source": [
    "plt.plot(slopes, performance_slope[:,0], 's')\n",
    "plt.show()"
   ],
   "metadata": {
    "collapsed": false,
    "pycharm": {
     "name": "#%%\n"
    }
   }
  },
  {
   "cell_type": "code",
   "metadata": {
    "id": "j-SP8NPsMNRL",
    "pycharm": {
     "name": "#%%\n"
    }
   },
   "source": [
    "# create data\n",
    "\n",
    "N = 30\n",
    "x = torch.randn(N,1)\n",
    "y = x + torch.randn(N,1)/2\n",
    "\n",
    "# and plot\n",
    "plt.plot(x,y,'s')\n",
    "plt.show()"
   ],
   "execution_count": 26,
   "outputs": [
    {
     "data": {
      "text/plain": "<Figure size 432x288 with 1 Axes>",
      "image/svg+xml": "<?xml version=\"1.0\" encoding=\"utf-8\" standalone=\"no\"?>\r\n<!DOCTYPE svg PUBLIC \"-//W3C//DTD SVG 1.1//EN\"\r\n  \"http://www.w3.org/Graphics/SVG/1.1/DTD/svg11.dtd\">\r\n<svg height=\"248.518125pt\" version=\"1.1\" viewBox=\"0 0 380.482812 248.518125\" width=\"380.482812pt\" xmlns=\"http://www.w3.org/2000/svg\" xmlns:xlink=\"http://www.w3.org/1999/xlink\">\r\n <metadata>\r\n  <rdf:RDF xmlns:cc=\"http://creativecommons.org/ns#\" xmlns:dc=\"http://purl.org/dc/elements/1.1/\" xmlns:rdf=\"http://www.w3.org/1999/02/22-rdf-syntax-ns#\">\r\n   <cc:Work>\r\n    <dc:type rdf:resource=\"http://purl.org/dc/dcmitype/StillImage\"/>\r\n    <dc:date>2024-03-29T19:36:48.125560</dc:date>\r\n    <dc:format>image/svg+xml</dc:format>\r\n    <dc:creator>\r\n     <cc:Agent>\r\n      <dc:title>Matplotlib v3.4.2, https://matplotlib.org/</dc:title>\r\n     </cc:Agent>\r\n    </dc:creator>\r\n   </cc:Work>\r\n  </rdf:RDF>\r\n </metadata>\r\n <defs>\r\n  <style type=\"text/css\">*{stroke-linecap:butt;stroke-linejoin:round;}</style>\r\n </defs>\r\n <g id=\"figure_1\">\r\n  <g id=\"patch_1\">\r\n   <path d=\"M -0 248.518125 \r\nL 380.482812 248.518125 \r\nL 380.482812 0 \r\nL -0 0 \r\nz\r\n\" style=\"fill:none;\"/>\r\n  </g>\r\n  <g id=\"axes_1\">\r\n   <g id=\"patch_2\">\r\n    <path d=\"M 38.482813 224.64 \r\nL 373.282813 224.64 \r\nL 373.282813 7.2 \r\nL 38.482813 7.2 \r\nz\r\n\" style=\"fill:#ffffff;\"/>\r\n   </g>\r\n   <g id=\"matplotlib.axis_1\">\r\n    <g id=\"xtick_1\">\r\n     <g id=\"line2d_1\">\r\n      <defs>\r\n       <path d=\"M 0 0 \r\nL 0 3.5 \r\n\" id=\"m7f37ef6f89\" style=\"stroke:#000000;stroke-width:0.8;\"/>\r\n      </defs>\r\n      <g>\r\n       <use style=\"stroke:#000000;stroke-width:0.8;\" x=\"89.931428\" xlink:href=\"#m7f37ef6f89\" y=\"224.64\"/>\r\n      </g>\r\n     </g>\r\n     <g id=\"text_1\">\r\n      <!-- −2 -->\r\n      <g transform=\"translate(82.560335 239.238438)scale(0.1 -0.1)\">\r\n       <defs>\r\n        <path d=\"M 678 2272 \r\nL 4684 2272 \r\nL 4684 1741 \r\nL 678 1741 \r\nL 678 2272 \r\nz\r\n\" id=\"DejaVuSans-2212\" transform=\"scale(0.015625)\"/>\r\n        <path d=\"M 1228 531 \r\nL 3431 531 \r\nL 3431 0 \r\nL 469 0 \r\nL 469 531 \r\nQ 828 903 1448 1529 \r\nQ 2069 2156 2228 2338 \r\nQ 2531 2678 2651 2914 \r\nQ 2772 3150 2772 3378 \r\nQ 2772 3750 2511 3984 \r\nQ 2250 4219 1831 4219 \r\nQ 1534 4219 1204 4116 \r\nQ 875 4013 500 3803 \r\nL 500 4441 \r\nQ 881 4594 1212 4672 \r\nQ 1544 4750 1819 4750 \r\nQ 2544 4750 2975 4387 \r\nQ 3406 4025 3406 3419 \r\nQ 3406 3131 3298 2873 \r\nQ 3191 2616 2906 2266 \r\nQ 2828 2175 2409 1742 \r\nQ 1991 1309 1228 531 \r\nz\r\n\" id=\"DejaVuSans-32\" transform=\"scale(0.015625)\"/>\r\n       </defs>\r\n       <use xlink:href=\"#DejaVuSans-2212\"/>\r\n       <use x=\"83.789062\" xlink:href=\"#DejaVuSans-32\"/>\r\n      </g>\r\n     </g>\r\n    </g>\r\n    <g id=\"xtick_2\">\r\n     <g id=\"line2d_2\">\r\n      <g>\r\n       <use style=\"stroke:#000000;stroke-width:0.8;\" x=\"154.885573\" xlink:href=\"#m7f37ef6f89\" y=\"224.64\"/>\r\n      </g>\r\n     </g>\r\n     <g id=\"text_2\">\r\n      <!-- −1 -->\r\n      <g transform=\"translate(147.514479 239.238438)scale(0.1 -0.1)\">\r\n       <defs>\r\n        <path d=\"M 794 531 \r\nL 1825 531 \r\nL 1825 4091 \r\nL 703 3866 \r\nL 703 4441 \r\nL 1819 4666 \r\nL 2450 4666 \r\nL 2450 531 \r\nL 3481 531 \r\nL 3481 0 \r\nL 794 0 \r\nL 794 531 \r\nz\r\n\" id=\"DejaVuSans-31\" transform=\"scale(0.015625)\"/>\r\n       </defs>\r\n       <use xlink:href=\"#DejaVuSans-2212\"/>\r\n       <use x=\"83.789062\" xlink:href=\"#DejaVuSans-31\"/>\r\n      </g>\r\n     </g>\r\n    </g>\r\n    <g id=\"xtick_3\">\r\n     <g id=\"line2d_3\">\r\n      <g>\r\n       <use style=\"stroke:#000000;stroke-width:0.8;\" x=\"219.839717\" xlink:href=\"#m7f37ef6f89\" y=\"224.64\"/>\r\n      </g>\r\n     </g>\r\n     <g id=\"text_3\">\r\n      <!-- 0 -->\r\n      <g transform=\"translate(216.658467 239.238438)scale(0.1 -0.1)\">\r\n       <defs>\r\n        <path d=\"M 2034 4250 \r\nQ 1547 4250 1301 3770 \r\nQ 1056 3291 1056 2328 \r\nQ 1056 1369 1301 889 \r\nQ 1547 409 2034 409 \r\nQ 2525 409 2770 889 \r\nQ 3016 1369 3016 2328 \r\nQ 3016 3291 2770 3770 \r\nQ 2525 4250 2034 4250 \r\nz\r\nM 2034 4750 \r\nQ 2819 4750 3233 4129 \r\nQ 3647 3509 3647 2328 \r\nQ 3647 1150 3233 529 \r\nQ 2819 -91 2034 -91 \r\nQ 1250 -91 836 529 \r\nQ 422 1150 422 2328 \r\nQ 422 3509 836 4129 \r\nQ 1250 4750 2034 4750 \r\nz\r\n\" id=\"DejaVuSans-30\" transform=\"scale(0.015625)\"/>\r\n       </defs>\r\n       <use xlink:href=\"#DejaVuSans-30\"/>\r\n      </g>\r\n     </g>\r\n    </g>\r\n    <g id=\"xtick_4\">\r\n     <g id=\"line2d_4\">\r\n      <g>\r\n       <use style=\"stroke:#000000;stroke-width:0.8;\" x=\"284.793861\" xlink:href=\"#m7f37ef6f89\" y=\"224.64\"/>\r\n      </g>\r\n     </g>\r\n     <g id=\"text_4\">\r\n      <!-- 1 -->\r\n      <g transform=\"translate(281.612611 239.238438)scale(0.1 -0.1)\">\r\n       <use xlink:href=\"#DejaVuSans-31\"/>\r\n      </g>\r\n     </g>\r\n    </g>\r\n    <g id=\"xtick_5\">\r\n     <g id=\"line2d_5\">\r\n      <g>\r\n       <use style=\"stroke:#000000;stroke-width:0.8;\" x=\"349.748006\" xlink:href=\"#m7f37ef6f89\" y=\"224.64\"/>\r\n      </g>\r\n     </g>\r\n     <g id=\"text_5\">\r\n      <!-- 2 -->\r\n      <g transform=\"translate(346.566756 239.238438)scale(0.1 -0.1)\">\r\n       <use xlink:href=\"#DejaVuSans-32\"/>\r\n      </g>\r\n     </g>\r\n    </g>\r\n   </g>\r\n   <g id=\"matplotlib.axis_2\">\r\n    <g id=\"ytick_1\">\r\n     <g id=\"line2d_6\">\r\n      <defs>\r\n       <path d=\"M 0 0 \r\nL -3.5 0 \r\n\" id=\"ma5f27445b9\" style=\"stroke:#000000;stroke-width:0.8;\"/>\r\n      </defs>\r\n      <g>\r\n       <use style=\"stroke:#000000;stroke-width:0.8;\" x=\"38.482813\" xlink:href=\"#ma5f27445b9\" y=\"211.090102\"/>\r\n      </g>\r\n     </g>\r\n     <g id=\"text_6\">\r\n      <!-- −2.0 -->\r\n      <g transform=\"translate(7.2 214.889321)scale(0.1 -0.1)\">\r\n       <defs>\r\n        <path d=\"M 684 794 \r\nL 1344 794 \r\nL 1344 0 \r\nL 684 0 \r\nL 684 794 \r\nz\r\n\" id=\"DejaVuSans-2e\" transform=\"scale(0.015625)\"/>\r\n       </defs>\r\n       <use xlink:href=\"#DejaVuSans-2212\"/>\r\n       <use x=\"83.789062\" xlink:href=\"#DejaVuSans-32\"/>\r\n       <use x=\"147.412109\" xlink:href=\"#DejaVuSans-2e\"/>\r\n       <use x=\"179.199219\" xlink:href=\"#DejaVuSans-30\"/>\r\n      </g>\r\n     </g>\r\n    </g>\r\n    <g id=\"ytick_2\">\r\n     <g id=\"line2d_7\">\r\n      <g>\r\n       <use style=\"stroke:#000000;stroke-width:0.8;\" x=\"38.482813\" xlink:href=\"#ma5f27445b9\" y=\"183.809027\"/>\r\n      </g>\r\n     </g>\r\n     <g id=\"text_7\">\r\n      <!-- −1.5 -->\r\n      <g transform=\"translate(7.2 187.608246)scale(0.1 -0.1)\">\r\n       <defs>\r\n        <path d=\"M 691 4666 \r\nL 3169 4666 \r\nL 3169 4134 \r\nL 1269 4134 \r\nL 1269 2991 \r\nQ 1406 3038 1543 3061 \r\nQ 1681 3084 1819 3084 \r\nQ 2600 3084 3056 2656 \r\nQ 3513 2228 3513 1497 \r\nQ 3513 744 3044 326 \r\nQ 2575 -91 1722 -91 \r\nQ 1428 -91 1123 -41 \r\nQ 819 9 494 109 \r\nL 494 744 \r\nQ 775 591 1075 516 \r\nQ 1375 441 1709 441 \r\nQ 2250 441 2565 725 \r\nQ 2881 1009 2881 1497 \r\nQ 2881 1984 2565 2268 \r\nQ 2250 2553 1709 2553 \r\nQ 1456 2553 1204 2497 \r\nQ 953 2441 691 2322 \r\nL 691 4666 \r\nz\r\n\" id=\"DejaVuSans-35\" transform=\"scale(0.015625)\"/>\r\n       </defs>\r\n       <use xlink:href=\"#DejaVuSans-2212\"/>\r\n       <use x=\"83.789062\" xlink:href=\"#DejaVuSans-31\"/>\r\n       <use x=\"147.412109\" xlink:href=\"#DejaVuSans-2e\"/>\r\n       <use x=\"179.199219\" xlink:href=\"#DejaVuSans-35\"/>\r\n      </g>\r\n     </g>\r\n    </g>\r\n    <g id=\"ytick_3\">\r\n     <g id=\"line2d_8\">\r\n      <g>\r\n       <use style=\"stroke:#000000;stroke-width:0.8;\" x=\"38.482813\" xlink:href=\"#ma5f27445b9\" y=\"156.527952\"/>\r\n      </g>\r\n     </g>\r\n     <g id=\"text_8\">\r\n      <!-- −1.0 -->\r\n      <g transform=\"translate(7.2 160.327171)scale(0.1 -0.1)\">\r\n       <use xlink:href=\"#DejaVuSans-2212\"/>\r\n       <use x=\"83.789062\" xlink:href=\"#DejaVuSans-31\"/>\r\n       <use x=\"147.412109\" xlink:href=\"#DejaVuSans-2e\"/>\r\n       <use x=\"179.199219\" xlink:href=\"#DejaVuSans-30\"/>\r\n      </g>\r\n     </g>\r\n    </g>\r\n    <g id=\"ytick_4\">\r\n     <g id=\"line2d_9\">\r\n      <g>\r\n       <use style=\"stroke:#000000;stroke-width:0.8;\" x=\"38.482813\" xlink:href=\"#ma5f27445b9\" y=\"129.246877\"/>\r\n      </g>\r\n     </g>\r\n     <g id=\"text_9\">\r\n      <!-- −0.5 -->\r\n      <g transform=\"translate(7.2 133.046096)scale(0.1 -0.1)\">\r\n       <use xlink:href=\"#DejaVuSans-2212\"/>\r\n       <use x=\"83.789062\" xlink:href=\"#DejaVuSans-30\"/>\r\n       <use x=\"147.412109\" xlink:href=\"#DejaVuSans-2e\"/>\r\n       <use x=\"179.199219\" xlink:href=\"#DejaVuSans-35\"/>\r\n      </g>\r\n     </g>\r\n    </g>\r\n    <g id=\"ytick_5\">\r\n     <g id=\"line2d_10\">\r\n      <g>\r\n       <use style=\"stroke:#000000;stroke-width:0.8;\" x=\"38.482813\" xlink:href=\"#ma5f27445b9\" y=\"101.965802\"/>\r\n      </g>\r\n     </g>\r\n     <g id=\"text_10\">\r\n      <!-- 0.0 -->\r\n      <g transform=\"translate(15.579688 105.76502)scale(0.1 -0.1)\">\r\n       <use xlink:href=\"#DejaVuSans-30\"/>\r\n       <use x=\"63.623047\" xlink:href=\"#DejaVuSans-2e\"/>\r\n       <use x=\"95.410156\" xlink:href=\"#DejaVuSans-30\"/>\r\n      </g>\r\n     </g>\r\n    </g>\r\n    <g id=\"ytick_6\">\r\n     <g id=\"line2d_11\">\r\n      <g>\r\n       <use style=\"stroke:#000000;stroke-width:0.8;\" x=\"38.482813\" xlink:href=\"#ma5f27445b9\" y=\"74.684726\"/>\r\n      </g>\r\n     </g>\r\n     <g id=\"text_11\">\r\n      <!-- 0.5 -->\r\n      <g transform=\"translate(15.579688 78.483945)scale(0.1 -0.1)\">\r\n       <use xlink:href=\"#DejaVuSans-30\"/>\r\n       <use x=\"63.623047\" xlink:href=\"#DejaVuSans-2e\"/>\r\n       <use x=\"95.410156\" xlink:href=\"#DejaVuSans-35\"/>\r\n      </g>\r\n     </g>\r\n    </g>\r\n    <g id=\"ytick_7\">\r\n     <g id=\"line2d_12\">\r\n      <g>\r\n       <use style=\"stroke:#000000;stroke-width:0.8;\" x=\"38.482813\" xlink:href=\"#ma5f27445b9\" y=\"47.403651\"/>\r\n      </g>\r\n     </g>\r\n     <g id=\"text_12\">\r\n      <!-- 1.0 -->\r\n      <g transform=\"translate(15.579688 51.20287)scale(0.1 -0.1)\">\r\n       <use xlink:href=\"#DejaVuSans-31\"/>\r\n       <use x=\"63.623047\" xlink:href=\"#DejaVuSans-2e\"/>\r\n       <use x=\"95.410156\" xlink:href=\"#DejaVuSans-30\"/>\r\n      </g>\r\n     </g>\r\n    </g>\r\n    <g id=\"ytick_8\">\r\n     <g id=\"line2d_13\">\r\n      <g>\r\n       <use style=\"stroke:#000000;stroke-width:0.8;\" x=\"38.482813\" xlink:href=\"#ma5f27445b9\" y=\"20.122576\"/>\r\n      </g>\r\n     </g>\r\n     <g id=\"text_13\">\r\n      <!-- 1.5 -->\r\n      <g transform=\"translate(15.579688 23.921795)scale(0.1 -0.1)\">\r\n       <use xlink:href=\"#DejaVuSans-31\"/>\r\n       <use x=\"63.623047\" xlink:href=\"#DejaVuSans-2e\"/>\r\n       <use x=\"95.410156\" xlink:href=\"#DejaVuSans-35\"/>\r\n      </g>\r\n     </g>\r\n    </g>\r\n   </g>\r\n   <g id=\"line2d_14\">\r\n    <defs>\r\n     <path d=\"M -3 3 \r\nL 3 3 \r\nL 3 -3 \r\nL -3 -3 \r\nz\r\n\" id=\"mb8473aae27\" style=\"stroke:#1f77b4;stroke-linejoin:miter;\"/>\r\n    </defs>\r\n    <g clip-path=\"url(#pff62f99b3e)\">\r\n     <use style=\"fill:#1f77b4;stroke:#1f77b4;stroke-linejoin:miter;\" x=\"53.700994\" xlink:href=\"#mb8473aae27\" y=\"208.715709\"/>\r\n     <use style=\"fill:#1f77b4;stroke:#1f77b4;stroke-linejoin:miter;\" x=\"275.245903\" xlink:href=\"#mb8473aae27\" y=\"34.072082\"/>\r\n     <use style=\"fill:#1f77b4;stroke:#1f77b4;stroke-linejoin:miter;\" x=\"290.369532\" xlink:href=\"#mb8473aae27\" y=\"17.505272\"/>\r\n     <use style=\"fill:#1f77b4;stroke:#1f77b4;stroke-linejoin:miter;\" x=\"153.319779\" xlink:href=\"#mb8473aae27\" y=\"144.083743\"/>\r\n     <use style=\"fill:#1f77b4;stroke:#1f77b4;stroke-linejoin:miter;\" x=\"264.329849\" xlink:href=\"#mb8473aae27\" y=\"30.931876\"/>\r\n     <use style=\"fill:#1f77b4;stroke:#1f77b4;stroke-linejoin:miter;\" x=\"71.813881\" xlink:href=\"#mb8473aae27\" y=\"211.146612\"/>\r\n     <use style=\"fill:#1f77b4;stroke:#1f77b4;stroke-linejoin:miter;\" x=\"270.674115\" xlink:href=\"#mb8473aae27\" y=\"34.561609\"/>\r\n     <use style=\"fill:#1f77b4;stroke:#1f77b4;stroke-linejoin:miter;\" x=\"259.81908\" xlink:href=\"#mb8473aae27\" y=\"114.908777\"/>\r\n     <use style=\"fill:#1f77b4;stroke:#1f77b4;stroke-linejoin:miter;\" x=\"234.280681\" xlink:href=\"#mb8473aae27\" y=\"49.024614\"/>\r\n     <use style=\"fill:#1f77b4;stroke:#1f77b4;stroke-linejoin:miter;\" x=\"191.111525\" xlink:href=\"#mb8473aae27\" y=\"110.92906\"/>\r\n     <use style=\"fill:#1f77b4;stroke:#1f77b4;stroke-linejoin:miter;\" x=\"116.180293\" xlink:href=\"#mb8473aae27\" y=\"176.411201\"/>\r\n     <use style=\"fill:#1f77b4;stroke:#1f77b4;stroke-linejoin:miter;\" x=\"281.111097\" xlink:href=\"#mb8473aae27\" y=\"50.857426\"/>\r\n     <use style=\"fill:#1f77b4;stroke:#1f77b4;stroke-linejoin:miter;\" x=\"207.992478\" xlink:href=\"#mb8473aae27\" y=\"174.793975\"/>\r\n     <use style=\"fill:#1f77b4;stroke:#1f77b4;stroke-linejoin:miter;\" x=\"136.938715\" xlink:href=\"#mb8473aae27\" y=\"175.691147\"/>\r\n     <use style=\"fill:#1f77b4;stroke:#1f77b4;stroke-linejoin:miter;\" x=\"185.02939\" xlink:href=\"#mb8473aae27\" y=\"143.817606\"/>\r\n     <use style=\"fill:#1f77b4;stroke:#1f77b4;stroke-linejoin:miter;\" x=\"243.605701\" xlink:href=\"#mb8473aae27\" y=\"84.803537\"/>\r\n     <use style=\"fill:#1f77b4;stroke:#1f77b4;stroke-linejoin:miter;\" x=\"226.044268\" xlink:href=\"#mb8473aae27\" y=\"93.056732\"/>\r\n     <use style=\"fill:#1f77b4;stroke:#1f77b4;stroke-linejoin:miter;\" x=\"95.545296\" xlink:href=\"#mb8473aae27\" y=\"214.756364\"/>\r\n     <use style=\"fill:#1f77b4;stroke:#1f77b4;stroke-linejoin:miter;\" x=\"276.408094\" xlink:href=\"#mb8473aae27\" y=\"28.217691\"/>\r\n     <use style=\"fill:#1f77b4;stroke:#1f77b4;stroke-linejoin:miter;\" x=\"202.296356\" xlink:href=\"#mb8473aae27\" y=\"113.904885\"/>\r\n     <use style=\"fill:#1f77b4;stroke:#1f77b4;stroke-linejoin:miter;\" x=\"282.542219\" xlink:href=\"#mb8473aae27\" y=\"55.595852\"/>\r\n     <use style=\"fill:#1f77b4;stroke:#1f77b4;stroke-linejoin:miter;\" x=\"299.506217\" xlink:href=\"#mb8473aae27\" y=\"17.083636\"/>\r\n     <use style=\"fill:#1f77b4;stroke:#1f77b4;stroke-linejoin:miter;\" x=\"180.576474\" xlink:href=\"#mb8473aae27\" y=\"103.177884\"/>\r\n     <use style=\"fill:#1f77b4;stroke:#1f77b4;stroke-linejoin:miter;\" x=\"222.079554\" xlink:href=\"#mb8473aae27\" y=\"123.066122\"/>\r\n     <use style=\"fill:#1f77b4;stroke:#1f77b4;stroke-linejoin:miter;\" x=\"204.626286\" xlink:href=\"#mb8473aae27\" y=\"125.505517\"/>\r\n     <use style=\"fill:#1f77b4;stroke:#1f77b4;stroke-linejoin:miter;\" x=\"200.766405\" xlink:href=\"#mb8473aae27\" y=\"132.834234\"/>\r\n     <use style=\"fill:#1f77b4;stroke:#1f77b4;stroke-linejoin:miter;\" x=\"178.638955\" xlink:href=\"#mb8473aae27\" y=\"134.502428\"/>\r\n     <use style=\"fill:#1f77b4;stroke:#1f77b4;stroke-linejoin:miter;\" x=\"205.741357\" xlink:href=\"#mb8473aae27\" y=\"107.006393\"/>\r\n     <use style=\"fill:#1f77b4;stroke:#1f77b4;stroke-linejoin:miter;\" x=\"358.064631\" xlink:href=\"#mb8473aae27\" y=\"25.268354\"/>\r\n     <use style=\"fill:#1f77b4;stroke:#1f77b4;stroke-linejoin:miter;\" x=\"251.994442\" xlink:href=\"#mb8473aae27\" y=\"103.641889\"/>\r\n    </g>\r\n   </g>\r\n   <g id=\"patch_3\">\r\n    <path d=\"M 38.482813 224.64 \r\nL 38.482813 7.2 \r\n\" style=\"fill:none;stroke:#000000;stroke-linecap:square;stroke-linejoin:miter;stroke-width:0.8;\"/>\r\n   </g>\r\n   <g id=\"patch_4\">\r\n    <path d=\"M 373.282813 224.64 \r\nL 373.282813 7.2 \r\n\" style=\"fill:none;stroke:#000000;stroke-linecap:square;stroke-linejoin:miter;stroke-width:0.8;\"/>\r\n   </g>\r\n   <g id=\"patch_5\">\r\n    <path d=\"M 38.482812 224.64 \r\nL 373.282812 224.64 \r\n\" style=\"fill:none;stroke:#000000;stroke-linecap:square;stroke-linejoin:miter;stroke-width:0.8;\"/>\r\n   </g>\r\n   <g id=\"patch_6\">\r\n    <path d=\"M 38.482812 7.2 \r\nL 373.282812 7.2 \r\n\" style=\"fill:none;stroke:#000000;stroke-linecap:square;stroke-linejoin:miter;stroke-width:0.8;\"/>\r\n   </g>\r\n  </g>\r\n </g>\r\n <defs>\r\n  <clipPath id=\"pff62f99b3e\">\r\n   <rect height=\"217.44\" width=\"334.8\" x=\"38.482813\" y=\"7.2\"/>\r\n  </clipPath>\r\n </defs>\r\n</svg>\r\n"
     },
     "metadata": {
      "needs_background": "light"
     },
     "output_type": "display_data"
    }
   ]
  },
  {
   "cell_type": "code",
   "metadata": {
    "id": "krQeh5wYMNla",
    "pycharm": {
     "name": "#%%\n"
    }
   },
   "source": [
    "# build model\n",
    "ANNreg = nn.Sequential(\n",
    "    nn.Linear(1,1),  # input layer\n",
    "    nn.ReLU(),       # activation function\n",
    "    nn.Linear(1,1)   # output layer\n",
    "    )\n",
    "\n",
    "ANNreg"
   ],
   "execution_count": 21,
   "outputs": [
    {
     "data": {
      "text/plain": "Sequential(\n  (0): Linear(in_features=1, out_features=1, bias=True)\n  (1): ReLU()\n  (2): Linear(in_features=1, out_features=1, bias=True)\n)"
     },
     "execution_count": 21,
     "metadata": {},
     "output_type": "execute_result"
    }
   ]
  },
  {
   "cell_type": "code",
   "metadata": {
    "id": "dmHh7GrvMNoy",
    "pycharm": {
     "name": "#%%\n"
    }
   },
   "source": [
    "# learning rate\n",
    "learningRate = .05\n",
    "\n",
    "# loss function\n",
    "lossfun = nn.MSELoss()\n",
    "\n",
    "# optimizer (the flavor of gradient descent to implement)\n",
    "optimizer = torch.optim.SGD(ANNreg.parameters(),lr=learningRate)"
   ],
   "execution_count": 22,
   "outputs": []
  },
  {
   "cell_type": "code",
   "metadata": {
    "id": "of9E8ClxMNsD",
    "pycharm": {
     "name": "#%%\n"
    }
   },
   "source": [
    "# train the model\n",
    "numepochs = 500\n",
    "losses = torch.zeros(numepochs)\n",
    "count_good_models = 0\n",
    "\n",
    "for i in range(100):\n",
    "    N = 30\n",
    "    x = torch.randn(N,1)\n",
    "    y = x + torch.randn(N,1)/2\n",
    "    losses = torch.zeros(numepochs)\n",
    "## Train the model!\n",
    "    for epochi in range(numepochs):\n",
    "\n",
    "      # forward pass\n",
    "      yHat = ANNreg(x)\n",
    "\n",
    "      # compute loss\n",
    "      loss = lossfun(yHat,y)\n",
    "      losses[epochi] = loss\n",
    "\n",
    "      # backprop\n",
    "      optimizer.zero_grad()\n",
    "      loss.backward()\n",
    "      optimizer.step()\n",
    "    if losses[numepochs-1] < 0.25:\n",
    "        count_good_models += 1\n",
    "print(count_good_models)"
   ],
   "execution_count": 29,
   "outputs": [
    {
     "name": "stdout",
     "output_type": "stream",
     "text": [
      "63\n"
     ]
    }
   ]
  },
  {
   "cell_type": "code",
   "metadata": {
    "id": "zmX6K49WMNuy",
    "pycharm": {
     "name": "#%%\n"
    }
   },
   "source": [
    "# show the losses\n",
    "\n",
    "# manually compute losses\n",
    "# final forward pass\n",
    "predictions = ANNreg(x)\n",
    "\n",
    "# final loss (MSE)\n",
    "testloss = (predictions-y).pow(2).mean()\n",
    "\n",
    "plt.plot(losses.detach(),'o',markerfacecolor='w',linewidth=.1)\n",
    "plt.plot(numepochs,testloss.detach(),'ro')\n",
    "plt.xlabel('Epoch')\n",
    "plt.ylabel('Loss')\n",
    "plt.title('Final loss = %g' %testloss.item())\n",
    "plt.show()"
   ],
   "execution_count": 24,
   "outputs": [
    {
     "data": {
      "text/plain": "<Figure size 432x288 with 1 Axes>",
      "image/svg+xml": "<?xml version=\"1.0\" encoding=\"utf-8\" standalone=\"no\"?>\r\n<!DOCTYPE svg PUBLIC \"-//W3C//DTD SVG 1.1//EN\"\r\n  \"http://www.w3.org/Graphics/SVG/1.1/DTD/svg11.dtd\">\r\n<svg height=\"277.314375pt\" version=\"1.1\" viewBox=\"0 0 385.78125 277.314375\" width=\"385.78125pt\" xmlns=\"http://www.w3.org/2000/svg\" xmlns:xlink=\"http://www.w3.org/1999/xlink\">\r\n <metadata>\r\n  <rdf:RDF xmlns:cc=\"http://creativecommons.org/ns#\" xmlns:dc=\"http://purl.org/dc/elements/1.1/\" xmlns:rdf=\"http://www.w3.org/1999/02/22-rdf-syntax-ns#\">\r\n   <cc:Work>\r\n    <dc:type rdf:resource=\"http://purl.org/dc/dcmitype/StillImage\"/>\r\n    <dc:date>2024-03-29T19:36:26.305569</dc:date>\r\n    <dc:format>image/svg+xml</dc:format>\r\n    <dc:creator>\r\n     <cc:Agent>\r\n      <dc:title>Matplotlib v3.4.2, https://matplotlib.org/</dc:title>\r\n     </cc:Agent>\r\n    </dc:creator>\r\n   </cc:Work>\r\n  </rdf:RDF>\r\n </metadata>\r\n <defs>\r\n  <style type=\"text/css\">*{stroke-linecap:butt;stroke-linejoin:round;}</style>\r\n </defs>\r\n <g id=\"figure_1\">\r\n  <g id=\"patch_1\">\r\n   <path d=\"M 0 277.314375 \r\nL 385.78125 277.314375 \r\nL 385.78125 0 \r\nL 0 0 \r\nz\r\n\" style=\"fill:none;\"/>\r\n  </g>\r\n  <g id=\"axes_1\">\r\n   <g id=\"patch_2\">\r\n    <path d=\"M 43.78125 239.758125 \r\nL 378.58125 239.758125 \r\nL 378.58125 22.318125 \r\nL 43.78125 22.318125 \r\nz\r\n\" style=\"fill:#ffffff;\"/>\r\n   </g>\r\n   <g id=\"matplotlib.axis_1\">\r\n    <g id=\"xtick_1\">\r\n     <g id=\"line2d_1\">\r\n      <defs>\r\n       <path d=\"M 0 0 \r\nL 0 3.5 \r\n\" id=\"m45fe79ab02\" style=\"stroke:#000000;stroke-width:0.8;\"/>\r\n      </defs>\r\n      <g>\r\n       <use style=\"stroke:#000000;stroke-width:0.8;\" x=\"58.999432\" xlink:href=\"#m45fe79ab02\" y=\"239.758125\"/>\r\n      </g>\r\n     </g>\r\n     <g id=\"text_1\">\r\n      <!-- 0 -->\r\n      <g transform=\"translate(55.818182 254.356562)scale(0.1 -0.1)\">\r\n       <defs>\r\n        <path d=\"M 2034 4250 \r\nQ 1547 4250 1301 3770 \r\nQ 1056 3291 1056 2328 \r\nQ 1056 1369 1301 889 \r\nQ 1547 409 2034 409 \r\nQ 2525 409 2770 889 \r\nQ 3016 1369 3016 2328 \r\nQ 3016 3291 2770 3770 \r\nQ 2525 4250 2034 4250 \r\nz\r\nM 2034 4750 \r\nQ 2819 4750 3233 4129 \r\nQ 3647 3509 3647 2328 \r\nQ 3647 1150 3233 529 \r\nQ 2819 -91 2034 -91 \r\nQ 1250 -91 836 529 \r\nQ 422 1150 422 2328 \r\nQ 422 3509 836 4129 \r\nQ 1250 4750 2034 4750 \r\nz\r\n\" id=\"DejaVuSans-30\" transform=\"scale(0.015625)\"/>\r\n       </defs>\r\n       <use xlink:href=\"#DejaVuSans-30\"/>\r\n      </g>\r\n     </g>\r\n    </g>\r\n    <g id=\"xtick_2\">\r\n     <g id=\"line2d_2\">\r\n      <g>\r\n       <use style=\"stroke:#000000;stroke-width:0.8;\" x=\"119.872159\" xlink:href=\"#m45fe79ab02\" y=\"239.758125\"/>\r\n      </g>\r\n     </g>\r\n     <g id=\"text_2\">\r\n      <!-- 100 -->\r\n      <g transform=\"translate(110.328409 254.356562)scale(0.1 -0.1)\">\r\n       <defs>\r\n        <path d=\"M 794 531 \r\nL 1825 531 \r\nL 1825 4091 \r\nL 703 3866 \r\nL 703 4441 \r\nL 1819 4666 \r\nL 2450 4666 \r\nL 2450 531 \r\nL 3481 531 \r\nL 3481 0 \r\nL 794 0 \r\nL 794 531 \r\nz\r\n\" id=\"DejaVuSans-31\" transform=\"scale(0.015625)\"/>\r\n       </defs>\r\n       <use xlink:href=\"#DejaVuSans-31\"/>\r\n       <use x=\"63.623047\" xlink:href=\"#DejaVuSans-30\"/>\r\n       <use x=\"127.246094\" xlink:href=\"#DejaVuSans-30\"/>\r\n      </g>\r\n     </g>\r\n    </g>\r\n    <g id=\"xtick_3\">\r\n     <g id=\"line2d_3\">\r\n      <g>\r\n       <use style=\"stroke:#000000;stroke-width:0.8;\" x=\"180.744886\" xlink:href=\"#m45fe79ab02\" y=\"239.758125\"/>\r\n      </g>\r\n     </g>\r\n     <g id=\"text_3\">\r\n      <!-- 200 -->\r\n      <g transform=\"translate(171.201136 254.356562)scale(0.1 -0.1)\">\r\n       <defs>\r\n        <path d=\"M 1228 531 \r\nL 3431 531 \r\nL 3431 0 \r\nL 469 0 \r\nL 469 531 \r\nQ 828 903 1448 1529 \r\nQ 2069 2156 2228 2338 \r\nQ 2531 2678 2651 2914 \r\nQ 2772 3150 2772 3378 \r\nQ 2772 3750 2511 3984 \r\nQ 2250 4219 1831 4219 \r\nQ 1534 4219 1204 4116 \r\nQ 875 4013 500 3803 \r\nL 500 4441 \r\nQ 881 4594 1212 4672 \r\nQ 1544 4750 1819 4750 \r\nQ 2544 4750 2975 4387 \r\nQ 3406 4025 3406 3419 \r\nQ 3406 3131 3298 2873 \r\nQ 3191 2616 2906 2266 \r\nQ 2828 2175 2409 1742 \r\nQ 1991 1309 1228 531 \r\nz\r\n\" id=\"DejaVuSans-32\" transform=\"scale(0.015625)\"/>\r\n       </defs>\r\n       <use xlink:href=\"#DejaVuSans-32\"/>\r\n       <use x=\"63.623047\" xlink:href=\"#DejaVuSans-30\"/>\r\n       <use x=\"127.246094\" xlink:href=\"#DejaVuSans-30\"/>\r\n      </g>\r\n     </g>\r\n    </g>\r\n    <g id=\"xtick_4\">\r\n     <g id=\"line2d_4\">\r\n      <g>\r\n       <use style=\"stroke:#000000;stroke-width:0.8;\" x=\"241.617614\" xlink:href=\"#m45fe79ab02\" y=\"239.758125\"/>\r\n      </g>\r\n     </g>\r\n     <g id=\"text_4\">\r\n      <!-- 300 -->\r\n      <g transform=\"translate(232.073864 254.356562)scale(0.1 -0.1)\">\r\n       <defs>\r\n        <path d=\"M 2597 2516 \r\nQ 3050 2419 3304 2112 \r\nQ 3559 1806 3559 1356 \r\nQ 3559 666 3084 287 \r\nQ 2609 -91 1734 -91 \r\nQ 1441 -91 1130 -33 \r\nQ 819 25 488 141 \r\nL 488 750 \r\nQ 750 597 1062 519 \r\nQ 1375 441 1716 441 \r\nQ 2309 441 2620 675 \r\nQ 2931 909 2931 1356 \r\nQ 2931 1769 2642 2001 \r\nQ 2353 2234 1838 2234 \r\nL 1294 2234 \r\nL 1294 2753 \r\nL 1863 2753 \r\nQ 2328 2753 2575 2939 \r\nQ 2822 3125 2822 3475 \r\nQ 2822 3834 2567 4026 \r\nQ 2313 4219 1838 4219 \r\nQ 1578 4219 1281 4162 \r\nQ 984 4106 628 3988 \r\nL 628 4550 \r\nQ 988 4650 1302 4700 \r\nQ 1616 4750 1894 4750 \r\nQ 2613 4750 3031 4423 \r\nQ 3450 4097 3450 3541 \r\nQ 3450 3153 3228 2886 \r\nQ 3006 2619 2597 2516 \r\nz\r\n\" id=\"DejaVuSans-33\" transform=\"scale(0.015625)\"/>\r\n       </defs>\r\n       <use xlink:href=\"#DejaVuSans-33\"/>\r\n       <use x=\"63.623047\" xlink:href=\"#DejaVuSans-30\"/>\r\n       <use x=\"127.246094\" xlink:href=\"#DejaVuSans-30\"/>\r\n      </g>\r\n     </g>\r\n    </g>\r\n    <g id=\"xtick_5\">\r\n     <g id=\"line2d_5\">\r\n      <g>\r\n       <use style=\"stroke:#000000;stroke-width:0.8;\" x=\"302.490341\" xlink:href=\"#m45fe79ab02\" y=\"239.758125\"/>\r\n      </g>\r\n     </g>\r\n     <g id=\"text_5\">\r\n      <!-- 400 -->\r\n      <g transform=\"translate(292.946591 254.356562)scale(0.1 -0.1)\">\r\n       <defs>\r\n        <path d=\"M 2419 4116 \r\nL 825 1625 \r\nL 2419 1625 \r\nL 2419 4116 \r\nz\r\nM 2253 4666 \r\nL 3047 4666 \r\nL 3047 1625 \r\nL 3713 1625 \r\nL 3713 1100 \r\nL 3047 1100 \r\nL 3047 0 \r\nL 2419 0 \r\nL 2419 1100 \r\nL 313 1100 \r\nL 313 1709 \r\nL 2253 4666 \r\nz\r\n\" id=\"DejaVuSans-34\" transform=\"scale(0.015625)\"/>\r\n       </defs>\r\n       <use xlink:href=\"#DejaVuSans-34\"/>\r\n       <use x=\"63.623047\" xlink:href=\"#DejaVuSans-30\"/>\r\n       <use x=\"127.246094\" xlink:href=\"#DejaVuSans-30\"/>\r\n      </g>\r\n     </g>\r\n    </g>\r\n    <g id=\"xtick_6\">\r\n     <g id=\"line2d_6\">\r\n      <g>\r\n       <use style=\"stroke:#000000;stroke-width:0.8;\" x=\"363.363068\" xlink:href=\"#m45fe79ab02\" y=\"239.758125\"/>\r\n      </g>\r\n     </g>\r\n     <g id=\"text_6\">\r\n      <!-- 500 -->\r\n      <g transform=\"translate(353.819318 254.356562)scale(0.1 -0.1)\">\r\n       <defs>\r\n        <path d=\"M 691 4666 \r\nL 3169 4666 \r\nL 3169 4134 \r\nL 1269 4134 \r\nL 1269 2991 \r\nQ 1406 3038 1543 3061 \r\nQ 1681 3084 1819 3084 \r\nQ 2600 3084 3056 2656 \r\nQ 3513 2228 3513 1497 \r\nQ 3513 744 3044 326 \r\nQ 2575 -91 1722 -91 \r\nQ 1428 -91 1123 -41 \r\nQ 819 9 494 109 \r\nL 494 744 \r\nQ 775 591 1075 516 \r\nQ 1375 441 1709 441 \r\nQ 2250 441 2565 725 \r\nQ 2881 1009 2881 1497 \r\nQ 2881 1984 2565 2268 \r\nQ 2250 2553 1709 2553 \r\nQ 1456 2553 1204 2497 \r\nQ 953 2441 691 2322 \r\nL 691 4666 \r\nz\r\n\" id=\"DejaVuSans-35\" transform=\"scale(0.015625)\"/>\r\n       </defs>\r\n       <use xlink:href=\"#DejaVuSans-35\"/>\r\n       <use x=\"63.623047\" xlink:href=\"#DejaVuSans-30\"/>\r\n       <use x=\"127.246094\" xlink:href=\"#DejaVuSans-30\"/>\r\n      </g>\r\n     </g>\r\n    </g>\r\n    <g id=\"text_7\">\r\n     <!-- Epoch -->\r\n     <g transform=\"translate(195.870313 268.034687)scale(0.1 -0.1)\">\r\n      <defs>\r\n       <path d=\"M 628 4666 \r\nL 3578 4666 \r\nL 3578 4134 \r\nL 1259 4134 \r\nL 1259 2753 \r\nL 3481 2753 \r\nL 3481 2222 \r\nL 1259 2222 \r\nL 1259 531 \r\nL 3634 531 \r\nL 3634 0 \r\nL 628 0 \r\nL 628 4666 \r\nz\r\n\" id=\"DejaVuSans-45\" transform=\"scale(0.015625)\"/>\r\n       <path d=\"M 1159 525 \r\nL 1159 -1331 \r\nL 581 -1331 \r\nL 581 3500 \r\nL 1159 3500 \r\nL 1159 2969 \r\nQ 1341 3281 1617 3432 \r\nQ 1894 3584 2278 3584 \r\nQ 2916 3584 3314 3078 \r\nQ 3713 2572 3713 1747 \r\nQ 3713 922 3314 415 \r\nQ 2916 -91 2278 -91 \r\nQ 1894 -91 1617 61 \r\nQ 1341 213 1159 525 \r\nz\r\nM 3116 1747 \r\nQ 3116 2381 2855 2742 \r\nQ 2594 3103 2138 3103 \r\nQ 1681 3103 1420 2742 \r\nQ 1159 2381 1159 1747 \r\nQ 1159 1113 1420 752 \r\nQ 1681 391 2138 391 \r\nQ 2594 391 2855 752 \r\nQ 3116 1113 3116 1747 \r\nz\r\n\" id=\"DejaVuSans-70\" transform=\"scale(0.015625)\"/>\r\n       <path d=\"M 1959 3097 \r\nQ 1497 3097 1228 2736 \r\nQ 959 2375 959 1747 \r\nQ 959 1119 1226 758 \r\nQ 1494 397 1959 397 \r\nQ 2419 397 2687 759 \r\nQ 2956 1122 2956 1747 \r\nQ 2956 2369 2687 2733 \r\nQ 2419 3097 1959 3097 \r\nz\r\nM 1959 3584 \r\nQ 2709 3584 3137 3096 \r\nQ 3566 2609 3566 1747 \r\nQ 3566 888 3137 398 \r\nQ 2709 -91 1959 -91 \r\nQ 1206 -91 779 398 \r\nQ 353 888 353 1747 \r\nQ 353 2609 779 3096 \r\nQ 1206 3584 1959 3584 \r\nz\r\n\" id=\"DejaVuSans-6f\" transform=\"scale(0.015625)\"/>\r\n       <path d=\"M 3122 3366 \r\nL 3122 2828 \r\nQ 2878 2963 2633 3030 \r\nQ 2388 3097 2138 3097 \r\nQ 1578 3097 1268 2742 \r\nQ 959 2388 959 1747 \r\nQ 959 1106 1268 751 \r\nQ 1578 397 2138 397 \r\nQ 2388 397 2633 464 \r\nQ 2878 531 3122 666 \r\nL 3122 134 \r\nQ 2881 22 2623 -34 \r\nQ 2366 -91 2075 -91 \r\nQ 1284 -91 818 406 \r\nQ 353 903 353 1747 \r\nQ 353 2603 823 3093 \r\nQ 1294 3584 2113 3584 \r\nQ 2378 3584 2631 3529 \r\nQ 2884 3475 3122 3366 \r\nz\r\n\" id=\"DejaVuSans-63\" transform=\"scale(0.015625)\"/>\r\n       <path d=\"M 3513 2113 \r\nL 3513 0 \r\nL 2938 0 \r\nL 2938 2094 \r\nQ 2938 2591 2744 2837 \r\nQ 2550 3084 2163 3084 \r\nQ 1697 3084 1428 2787 \r\nQ 1159 2491 1159 1978 \r\nL 1159 0 \r\nL 581 0 \r\nL 581 4863 \r\nL 1159 4863 \r\nL 1159 2956 \r\nQ 1366 3272 1645 3428 \r\nQ 1925 3584 2291 3584 \r\nQ 2894 3584 3203 3211 \r\nQ 3513 2838 3513 2113 \r\nz\r\n\" id=\"DejaVuSans-68\" transform=\"scale(0.015625)\"/>\r\n      </defs>\r\n      <use xlink:href=\"#DejaVuSans-45\"/>\r\n      <use x=\"63.183594\" xlink:href=\"#DejaVuSans-70\"/>\r\n      <use x=\"126.660156\" xlink:href=\"#DejaVuSans-6f\"/>\r\n      <use x=\"187.841797\" xlink:href=\"#DejaVuSans-63\"/>\r\n      <use x=\"242.822266\" xlink:href=\"#DejaVuSans-68\"/>\r\n     </g>\r\n    </g>\r\n   </g>\r\n   <g id=\"matplotlib.axis_2\">\r\n    <g id=\"ytick_1\">\r\n     <g id=\"line2d_7\">\r\n      <defs>\r\n       <path d=\"M 0 0 \r\nL -3.5 0 \r\n\" id=\"m42347f87be\" style=\"stroke:#000000;stroke-width:0.8;\"/>\r\n      </defs>\r\n      <g>\r\n       <use style=\"stroke:#000000;stroke-width:0.8;\" x=\"43.78125\" xlink:href=\"#m42347f87be\" y=\"213.106042\"/>\r\n      </g>\r\n     </g>\r\n     <g id=\"text_8\">\r\n      <!-- 0.8 -->\r\n      <g transform=\"translate(20.878125 216.905261)scale(0.1 -0.1)\">\r\n       <defs>\r\n        <path d=\"M 684 794 \r\nL 1344 794 \r\nL 1344 0 \r\nL 684 0 \r\nL 684 794 \r\nz\r\n\" id=\"DejaVuSans-2e\" transform=\"scale(0.015625)\"/>\r\n        <path d=\"M 2034 2216 \r\nQ 1584 2216 1326 1975 \r\nQ 1069 1734 1069 1313 \r\nQ 1069 891 1326 650 \r\nQ 1584 409 2034 409 \r\nQ 2484 409 2743 651 \r\nQ 3003 894 3003 1313 \r\nQ 3003 1734 2745 1975 \r\nQ 2488 2216 2034 2216 \r\nz\r\nM 1403 2484 \r\nQ 997 2584 770 2862 \r\nQ 544 3141 544 3541 \r\nQ 544 4100 942 4425 \r\nQ 1341 4750 2034 4750 \r\nQ 2731 4750 3128 4425 \r\nQ 3525 4100 3525 3541 \r\nQ 3525 3141 3298 2862 \r\nQ 3072 2584 2669 2484 \r\nQ 3125 2378 3379 2068 \r\nQ 3634 1759 3634 1313 \r\nQ 3634 634 3220 271 \r\nQ 2806 -91 2034 -91 \r\nQ 1263 -91 848 271 \r\nQ 434 634 434 1313 \r\nQ 434 1759 690 2068 \r\nQ 947 2378 1403 2484 \r\nz\r\nM 1172 3481 \r\nQ 1172 3119 1398 2916 \r\nQ 1625 2713 2034 2713 \r\nQ 2441 2713 2670 2916 \r\nQ 2900 3119 2900 3481 \r\nQ 2900 3844 2670 4047 \r\nQ 2441 4250 2034 4250 \r\nQ 1625 4250 1398 4047 \r\nQ 1172 3844 1172 3481 \r\nz\r\n\" id=\"DejaVuSans-38\" transform=\"scale(0.015625)\"/>\r\n       </defs>\r\n       <use xlink:href=\"#DejaVuSans-30\"/>\r\n       <use x=\"63.623047\" xlink:href=\"#DejaVuSans-2e\"/>\r\n       <use x=\"95.410156\" xlink:href=\"#DejaVuSans-38\"/>\r\n      </g>\r\n     </g>\r\n    </g>\r\n    <g id=\"ytick_2\">\r\n     <g id=\"line2d_8\">\r\n      <g>\r\n       <use style=\"stroke:#000000;stroke-width:0.8;\" x=\"43.78125\" xlink:href=\"#m42347f87be\" y=\"166.499369\"/>\r\n      </g>\r\n     </g>\r\n     <g id=\"text_9\">\r\n      <!-- 1.0 -->\r\n      <g transform=\"translate(20.878125 170.298587)scale(0.1 -0.1)\">\r\n       <use xlink:href=\"#DejaVuSans-31\"/>\r\n       <use x=\"63.623047\" xlink:href=\"#DejaVuSans-2e\"/>\r\n       <use x=\"95.410156\" xlink:href=\"#DejaVuSans-30\"/>\r\n      </g>\r\n     </g>\r\n    </g>\r\n    <g id=\"ytick_3\">\r\n     <g id=\"line2d_9\">\r\n      <g>\r\n       <use style=\"stroke:#000000;stroke-width:0.8;\" x=\"43.78125\" xlink:href=\"#m42347f87be\" y=\"119.892695\"/>\r\n      </g>\r\n     </g>\r\n     <g id=\"text_10\">\r\n      <!-- 1.2 -->\r\n      <g transform=\"translate(20.878125 123.691914)scale(0.1 -0.1)\">\r\n       <use xlink:href=\"#DejaVuSans-31\"/>\r\n       <use x=\"63.623047\" xlink:href=\"#DejaVuSans-2e\"/>\r\n       <use x=\"95.410156\" xlink:href=\"#DejaVuSans-32\"/>\r\n      </g>\r\n     </g>\r\n    </g>\r\n    <g id=\"ytick_4\">\r\n     <g id=\"line2d_10\">\r\n      <g>\r\n       <use style=\"stroke:#000000;stroke-width:0.8;\" x=\"43.78125\" xlink:href=\"#m42347f87be\" y=\"73.286022\"/>\r\n      </g>\r\n     </g>\r\n     <g id=\"text_11\">\r\n      <!-- 1.4 -->\r\n      <g transform=\"translate(20.878125 77.085241)scale(0.1 -0.1)\">\r\n       <use xlink:href=\"#DejaVuSans-31\"/>\r\n       <use x=\"63.623047\" xlink:href=\"#DejaVuSans-2e\"/>\r\n       <use x=\"95.410156\" xlink:href=\"#DejaVuSans-34\"/>\r\n      </g>\r\n     </g>\r\n    </g>\r\n    <g id=\"ytick_5\">\r\n     <g id=\"line2d_11\">\r\n      <g>\r\n       <use style=\"stroke:#000000;stroke-width:0.8;\" x=\"43.78125\" xlink:href=\"#m42347f87be\" y=\"26.679349\"/>\r\n      </g>\r\n     </g>\r\n     <g id=\"text_12\">\r\n      <!-- 1.6 -->\r\n      <g transform=\"translate(20.878125 30.478567)scale(0.1 -0.1)\">\r\n       <defs>\r\n        <path d=\"M 2113 2584 \r\nQ 1688 2584 1439 2293 \r\nQ 1191 2003 1191 1497 \r\nQ 1191 994 1439 701 \r\nQ 1688 409 2113 409 \r\nQ 2538 409 2786 701 \r\nQ 3034 994 3034 1497 \r\nQ 3034 2003 2786 2293 \r\nQ 2538 2584 2113 2584 \r\nz\r\nM 3366 4563 \r\nL 3366 3988 \r\nQ 3128 4100 2886 4159 \r\nQ 2644 4219 2406 4219 \r\nQ 1781 4219 1451 3797 \r\nQ 1122 3375 1075 2522 \r\nQ 1259 2794 1537 2939 \r\nQ 1816 3084 2150 3084 \r\nQ 2853 3084 3261 2657 \r\nQ 3669 2231 3669 1497 \r\nQ 3669 778 3244 343 \r\nQ 2819 -91 2113 -91 \r\nQ 1303 -91 875 529 \r\nQ 447 1150 447 2328 \r\nQ 447 3434 972 4092 \r\nQ 1497 4750 2381 4750 \r\nQ 2619 4750 2861 4703 \r\nQ 3103 4656 3366 4563 \r\nz\r\n\" id=\"DejaVuSans-36\" transform=\"scale(0.015625)\"/>\r\n       </defs>\r\n       <use xlink:href=\"#DejaVuSans-31\"/>\r\n       <use x=\"63.623047\" xlink:href=\"#DejaVuSans-2e\"/>\r\n       <use x=\"95.410156\" xlink:href=\"#DejaVuSans-36\"/>\r\n      </g>\r\n     </g>\r\n    </g>\r\n    <g id=\"text_13\">\r\n     <!-- Loss -->\r\n     <g transform=\"translate(14.798438 142.005312)rotate(-90)scale(0.1 -0.1)\">\r\n      <defs>\r\n       <path d=\"M 628 4666 \r\nL 1259 4666 \r\nL 1259 531 \r\nL 3531 531 \r\nL 3531 0 \r\nL 628 0 \r\nL 628 4666 \r\nz\r\n\" id=\"DejaVuSans-4c\" transform=\"scale(0.015625)\"/>\r\n       <path d=\"M 2834 3397 \r\nL 2834 2853 \r\nQ 2591 2978 2328 3040 \r\nQ 2066 3103 1784 3103 \r\nQ 1356 3103 1142 2972 \r\nQ 928 2841 928 2578 \r\nQ 928 2378 1081 2264 \r\nQ 1234 2150 1697 2047 \r\nL 1894 2003 \r\nQ 2506 1872 2764 1633 \r\nQ 3022 1394 3022 966 \r\nQ 3022 478 2636 193 \r\nQ 2250 -91 1575 -91 \r\nQ 1294 -91 989 -36 \r\nQ 684 19 347 128 \r\nL 347 722 \r\nQ 666 556 975 473 \r\nQ 1284 391 1588 391 \r\nQ 1994 391 2212 530 \r\nQ 2431 669 2431 922 \r\nQ 2431 1156 2273 1281 \r\nQ 2116 1406 1581 1522 \r\nL 1381 1569 \r\nQ 847 1681 609 1914 \r\nQ 372 2147 372 2553 \r\nQ 372 3047 722 3315 \r\nQ 1072 3584 1716 3584 \r\nQ 2034 3584 2315 3537 \r\nQ 2597 3491 2834 3397 \r\nz\r\n\" id=\"DejaVuSans-73\" transform=\"scale(0.015625)\"/>\r\n      </defs>\r\n      <use xlink:href=\"#DejaVuSans-4c\"/>\r\n      <use x=\"53.962891\" xlink:href=\"#DejaVuSans-6f\"/>\r\n      <use x=\"115.144531\" xlink:href=\"#DejaVuSans-73\"/>\r\n      <use x=\"167.244141\" xlink:href=\"#DejaVuSans-73\"/>\r\n     </g>\r\n    </g>\r\n   </g>\r\n   <g id=\"line2d_12\">\r\n    <defs>\r\n     <path d=\"M 0 3 \r\nC 0.795609 3 1.55874 2.683901 2.12132 2.12132 \r\nC 2.683901 1.55874 3 0.795609 3 0 \r\nC 3 -0.795609 2.683901 -1.55874 2.12132 -2.12132 \r\nC 1.55874 -2.683901 0.795609 -3 0 -3 \r\nC -0.795609 -3 -1.55874 -2.683901 -2.12132 -2.12132 \r\nC -2.683901 -1.55874 -3 -0.795609 -3 0 \r\nC -3 0.795609 -2.683901 1.55874 -2.12132 2.12132 \r\nC -1.55874 2.683901 -0.795609 3 0 3 \r\nz\r\n\" id=\"m3beaf48143\" style=\"stroke:#1f77b4;\"/>\r\n    </defs>\r\n    <g clip-path=\"url(#pb30f922cde)\">\r\n     <use style=\"fill:#ffffff;stroke:#1f77b4;\" x=\"58.999432\" xlink:href=\"#m3beaf48143\" y=\"32.201761\"/>\r\n     <use style=\"fill:#ffffff;stroke:#1f77b4;\" x=\"59.608159\" xlink:href=\"#m3beaf48143\" y=\"52.750242\"/>\r\n     <use style=\"fill:#ffffff;stroke:#1f77b4;\" x=\"60.216886\" xlink:href=\"#m3beaf48143\" y=\"69.82695\"/>\r\n     <use style=\"fill:#ffffff;stroke:#1f77b4;\" x=\"60.825614\" xlink:href=\"#m3beaf48143\" y=\"84.182076\"/>\r\n     <use style=\"fill:#ffffff;stroke:#1f77b4;\" x=\"61.434341\" xlink:href=\"#m3beaf48143\" y=\"96.372049\"/>\r\n     <use style=\"fill:#ffffff;stroke:#1f77b4;\" x=\"62.043068\" xlink:href=\"#m3beaf48143\" y=\"106.817287\"/>\r\n     <use style=\"fill:#ffffff;stroke:#1f77b4;\" x=\"62.651795\" xlink:href=\"#m3beaf48143\" y=\"115.841203\"/>\r\n     <use style=\"fill:#ffffff;stroke:#1f77b4;\" x=\"63.260523\" xlink:href=\"#m3beaf48143\" y=\"123.696786\"/>\r\n     <use style=\"fill:#ffffff;stroke:#1f77b4;\" x=\"63.86925\" xlink:href=\"#m3beaf48143\" y=\"130.585218\"/>\r\n     <use style=\"fill:#ffffff;stroke:#1f77b4;\" x=\"64.477977\" xlink:href=\"#m3beaf48143\" y=\"136.668787\"/>\r\n     <use style=\"fill:#ffffff;stroke:#1f77b4;\" x=\"65.086705\" xlink:href=\"#m3beaf48143\" y=\"142.080031\"/>\r\n     <use style=\"fill:#ffffff;stroke:#1f77b4;\" x=\"65.695432\" xlink:href=\"#m3beaf48143\" y=\"146.92804\"/>\r\n     <use style=\"fill:#ffffff;stroke:#1f77b4;\" x=\"66.304159\" xlink:href=\"#m3beaf48143\" y=\"151.302822\"/>\r\n     <use style=\"fill:#ffffff;stroke:#1f77b4;\" x=\"66.912886\" xlink:href=\"#m3beaf48143\" y=\"155.279131\"/>\r\n     <use style=\"fill:#ffffff;stroke:#1f77b4;\" x=\"67.521614\" xlink:href=\"#m3beaf48143\" y=\"158.918332\"/>\r\n     <use style=\"fill:#ffffff;stroke:#1f77b4;\" x=\"68.130341\" xlink:href=\"#m3beaf48143\" y=\"162.270931\"/>\r\n     <use style=\"fill:#ffffff;stroke:#1f77b4;\" x=\"68.739068\" xlink:href=\"#m3beaf48143\" y=\"165.378067\"/>\r\n     <use style=\"fill:#ffffff;stroke:#1f77b4;\" x=\"69.347795\" xlink:href=\"#m3beaf48143\" y=\"168.272952\"/>\r\n     <use style=\"fill:#ffffff;stroke:#1f77b4;\" x=\"69.956523\" xlink:href=\"#m3beaf48143\" y=\"170.982311\"/>\r\n     <use style=\"fill:#ffffff;stroke:#1f77b4;\" x=\"70.56525\" xlink:href=\"#m3beaf48143\" y=\"173.527504\"/>\r\n     <use style=\"fill:#ffffff;stroke:#1f77b4;\" x=\"71.173977\" xlink:href=\"#m3beaf48143\" y=\"175.92573\"/>\r\n     <use style=\"fill:#ffffff;stroke:#1f77b4;\" x=\"71.782705\" xlink:href=\"#m3beaf48143\" y=\"178.190626\"/>\r\n     <use style=\"fill:#ffffff;stroke:#1f77b4;\" x=\"72.391432\" xlink:href=\"#m3beaf48143\" y=\"180.333208\"/>\r\n     <use style=\"fill:#ffffff;stroke:#1f77b4;\" x=\"73.000159\" xlink:href=\"#m3beaf48143\" y=\"182.362615\"/>\r\n     <use style=\"fill:#ffffff;stroke:#1f77b4;\" x=\"73.608886\" xlink:href=\"#m3beaf48143\" y=\"184.286348\"/>\r\n     <use style=\"fill:#ffffff;stroke:#1f77b4;\" x=\"74.217614\" xlink:href=\"#m3beaf48143\" y=\"186.11088\"/>\r\n     <use style=\"fill:#ffffff;stroke:#1f77b4;\" x=\"74.826341\" xlink:href=\"#m3beaf48143\" y=\"187.841836\"/>\r\n     <use style=\"fill:#ffffff;stroke:#1f77b4;\" x=\"75.435068\" xlink:href=\"#m3beaf48143\" y=\"189.484272\"/>\r\n     <use style=\"fill:#ffffff;stroke:#1f77b4;\" x=\"76.043795\" xlink:href=\"#m3beaf48143\" y=\"191.043257\"/>\r\n     <use style=\"fill:#ffffff;stroke:#1f77b4;\" x=\"76.652523\" xlink:href=\"#m3beaf48143\" y=\"192.523389\"/>\r\n     <use style=\"fill:#ffffff;stroke:#1f77b4;\" x=\"77.26125\" xlink:href=\"#m3beaf48143\" y=\"193.928489\"/>\r\n     <use style=\"fill:#ffffff;stroke:#1f77b4;\" x=\"77.869977\" xlink:href=\"#m3beaf48143\" y=\"195.262208\"/>\r\n     <use style=\"fill:#ffffff;stroke:#1f77b4;\" x=\"78.478705\" xlink:href=\"#m3beaf48143\" y=\"196.527867\"/>\r\n     <use style=\"fill:#ffffff;stroke:#1f77b4;\" x=\"79.087432\" xlink:href=\"#m3beaf48143\" y=\"197.728868\"/>\r\n     <use style=\"fill:#ffffff;stroke:#1f77b4;\" x=\"79.696159\" xlink:href=\"#m3beaf48143\" y=\"198.868324\"/>\r\n     <use style=\"fill:#ffffff;stroke:#1f77b4;\" x=\"80.304886\" xlink:href=\"#m3beaf48143\" y=\"199.949373\"/>\r\n     <use style=\"fill:#ffffff;stroke:#1f77b4;\" x=\"80.913614\" xlink:href=\"#m3beaf48143\" y=\"200.974987\"/>\r\n     <use style=\"fill:#ffffff;stroke:#1f77b4;\" x=\"81.522341\" xlink:href=\"#m3beaf48143\" y=\"201.948083\"/>\r\n     <use style=\"fill:#ffffff;stroke:#1f77b4;\" x=\"82.131068\" xlink:href=\"#m3beaf48143\" y=\"202.871329\"/>\r\n     <use style=\"fill:#ffffff;stroke:#1f77b4;\" x=\"82.739795\" xlink:href=\"#m3beaf48143\" y=\"203.747544\"/>\r\n     <use style=\"fill:#ffffff;stroke:#1f77b4;\" x=\"83.348523\" xlink:href=\"#m3beaf48143\" y=\"204.579311\"/>\r\n     <use style=\"fill:#ffffff;stroke:#1f77b4;\" x=\"83.95725\" xlink:href=\"#m3beaf48143\" y=\"205.368964\"/>\r\n     <use style=\"fill:#ffffff;stroke:#1f77b4;\" x=\"84.565977\" xlink:href=\"#m3beaf48143\" y=\"206.118934\"/>\r\n     <use style=\"fill:#ffffff;stroke:#1f77b4;\" x=\"85.174705\" xlink:href=\"#m3beaf48143\" y=\"206.834221\"/>\r\n     <use style=\"fill:#ffffff;stroke:#1f77b4;\" x=\"85.783432\" xlink:href=\"#m3beaf48143\" y=\"207.524728\"/>\r\n     <use style=\"fill:#ffffff;stroke:#1f77b4;\" x=\"86.392159\" xlink:href=\"#m3beaf48143\" y=\"208.185136\"/>\r\n     <use style=\"fill:#ffffff;stroke:#1f77b4;\" x=\"87.000886\" xlink:href=\"#m3beaf48143\" y=\"208.817375\"/>\r\n     <use style=\"fill:#ffffff;stroke:#1f77b4;\" x=\"87.609614\" xlink:href=\"#m3beaf48143\" y=\"209.423223\"/>\r\n     <use style=\"fill:#ffffff;stroke:#1f77b4;\" x=\"88.218341\" xlink:href=\"#m3beaf48143\" y=\"210.004361\"/>\r\n     <use style=\"fill:#ffffff;stroke:#1f77b4;\" x=\"88.827068\" xlink:href=\"#m3beaf48143\" y=\"210.562248\"/>\r\n     <use style=\"fill:#ffffff;stroke:#1f77b4;\" x=\"89.435795\" xlink:href=\"#m3beaf48143\" y=\"211.098369\"/>\r\n     <use style=\"fill:#ffffff;stroke:#1f77b4;\" x=\"90.044523\" xlink:href=\"#m3beaf48143\" y=\"211.614017\"/>\r\n     <use style=\"fill:#ffffff;stroke:#1f77b4;\" x=\"90.65325\" xlink:href=\"#m3beaf48143\" y=\"212.110385\"/>\r\n     <use style=\"fill:#ffffff;stroke:#1f77b4;\" x=\"91.261977\" xlink:href=\"#m3beaf48143\" y=\"212.588669\"/>\r\n     <use style=\"fill:#ffffff;stroke:#1f77b4;\" x=\"91.870705\" xlink:href=\"#m3beaf48143\" y=\"213.049841\"/>\r\n     <use style=\"fill:#ffffff;stroke:#1f77b4;\" x=\"92.479432\" xlink:href=\"#m3beaf48143\" y=\"213.494955\"/>\r\n     <use style=\"fill:#ffffff;stroke:#1f77b4;\" x=\"93.088159\" xlink:href=\"#m3beaf48143\" y=\"213.924847\"/>\r\n     <use style=\"fill:#ffffff;stroke:#1f77b4;\" x=\"93.696886\" xlink:href=\"#m3beaf48143\" y=\"214.340349\"/>\r\n     <use style=\"fill:#ffffff;stroke:#1f77b4;\" x=\"94.305614\" xlink:href=\"#m3beaf48143\" y=\"214.74228\"/>\r\n     <use style=\"fill:#ffffff;stroke:#1f77b4;\" x=\"94.914341\" xlink:href=\"#m3beaf48143\" y=\"215.131293\"/>\r\n     <use style=\"fill:#ffffff;stroke:#1f77b4;\" x=\"95.523068\" xlink:href=\"#m3beaf48143\" y=\"215.508014\"/>\r\n     <use style=\"fill:#ffffff;stroke:#1f77b4;\" x=\"96.131795\" xlink:href=\"#m3beaf48143\" y=\"215.873138\"/>\r\n     <use style=\"fill:#ffffff;stroke:#1f77b4;\" x=\"96.740523\" xlink:href=\"#m3beaf48143\" y=\"216.227176\"/>\r\n     <use style=\"fill:#ffffff;stroke:#1f77b4;\" x=\"97.34925\" xlink:href=\"#m3beaf48143\" y=\"216.570673\"/>\r\n     <use style=\"fill:#ffffff;stroke:#1f77b4;\" x=\"97.957977\" xlink:href=\"#m3beaf48143\" y=\"216.904058\"/>\r\n     <use style=\"fill:#ffffff;stroke:#1f77b4;\" x=\"98.566705\" xlink:href=\"#m3beaf48143\" y=\"217.227817\"/>\r\n     <use style=\"fill:#ffffff;stroke:#1f77b4;\" x=\"99.175432\" xlink:href=\"#m3beaf48143\" y=\"217.542353\"/>\r\n     <use style=\"fill:#ffffff;stroke:#1f77b4;\" x=\"99.784159\" xlink:href=\"#m3beaf48143\" y=\"217.848041\"/>\r\n     <use style=\"fill:#ffffff;stroke:#1f77b4;\" x=\"100.392886\" xlink:href=\"#m3beaf48143\" y=\"218.145243\"/>\r\n     <use style=\"fill:#ffffff;stroke:#1f77b4;\" x=\"101.001614\" xlink:href=\"#m3beaf48143\" y=\"218.434305\"/>\r\n     <use style=\"fill:#ffffff;stroke:#1f77b4;\" x=\"101.610341\" xlink:href=\"#m3beaf48143\" y=\"218.715491\"/>\r\n     <use style=\"fill:#ffffff;stroke:#1f77b4;\" x=\"102.219068\" xlink:href=\"#m3beaf48143\" y=\"218.989136\"/>\r\n     <use style=\"fill:#ffffff;stroke:#1f77b4;\" x=\"102.827795\" xlink:href=\"#m3beaf48143\" y=\"219.255516\"/>\r\n     <use style=\"fill:#ffffff;stroke:#1f77b4;\" x=\"103.436523\" xlink:href=\"#m3beaf48143\" y=\"219.514839\"/>\r\n     <use style=\"fill:#ffffff;stroke:#1f77b4;\" x=\"104.04525\" xlink:href=\"#m3beaf48143\" y=\"219.767357\"/>\r\n     <use style=\"fill:#ffffff;stroke:#1f77b4;\" x=\"104.653977\" xlink:href=\"#m3beaf48143\" y=\"220.013319\"/>\r\n     <use style=\"fill:#ffffff;stroke:#1f77b4;\" x=\"105.262705\" xlink:href=\"#m3beaf48143\" y=\"220.252906\"/>\r\n     <use style=\"fill:#ffffff;stroke:#1f77b4;\" x=\"105.871432\" xlink:href=\"#m3beaf48143\" y=\"220.486297\"/>\r\n     <use style=\"fill:#ffffff;stroke:#1f77b4;\" x=\"106.480159\" xlink:href=\"#m3beaf48143\" y=\"220.713744\"/>\r\n     <use style=\"fill:#ffffff;stroke:#1f77b4;\" x=\"107.088886\" xlink:href=\"#m3beaf48143\" y=\"220.93537\"/>\r\n     <use style=\"fill:#ffffff;stroke:#1f77b4;\" x=\"107.697614\" xlink:href=\"#m3beaf48143\" y=\"221.151386\"/>\r\n     <use style=\"fill:#ffffff;stroke:#1f77b4;\" x=\"108.306341\" xlink:href=\"#m3beaf48143\" y=\"221.361887\"/>\r\n     <use style=\"fill:#ffffff;stroke:#1f77b4;\" x=\"108.915068\" xlink:href=\"#m3beaf48143\" y=\"221.567054\"/>\r\n     <use style=\"fill:#ffffff;stroke:#1f77b4;\" x=\"109.523795\" xlink:href=\"#m3beaf48143\" y=\"221.767068\"/>\r\n     <use style=\"fill:#ffffff;stroke:#1f77b4;\" x=\"110.132523\" xlink:href=\"#m3beaf48143\" y=\"221.962012\"/>\r\n     <use style=\"fill:#ffffff;stroke:#1f77b4;\" x=\"110.74125\" xlink:href=\"#m3beaf48143\" y=\"222.152109\"/>\r\n     <use style=\"fill:#ffffff;stroke:#1f77b4;\" x=\"111.349977\" xlink:href=\"#m3beaf48143\" y=\"222.337345\"/>\r\n     <use style=\"fill:#ffffff;stroke:#1f77b4;\" x=\"111.958705\" xlink:href=\"#m3beaf48143\" y=\"222.517955\"/>\r\n     <use style=\"fill:#ffffff;stroke:#1f77b4;\" x=\"112.567432\" xlink:href=\"#m3beaf48143\" y=\"222.694009\"/>\r\n     <use style=\"fill:#ffffff;stroke:#1f77b4;\" x=\"113.176159\" xlink:href=\"#m3beaf48143\" y=\"222.865646\"/>\r\n     <use style=\"fill:#ffffff;stroke:#1f77b4;\" x=\"113.784886\" xlink:href=\"#m3beaf48143\" y=\"223.032949\"/>\r\n     <use style=\"fill:#ffffff;stroke:#1f77b4;\" x=\"114.393614\" xlink:href=\"#m3beaf48143\" y=\"223.196044\"/>\r\n     <use style=\"fill:#ffffff;stroke:#1f77b4;\" x=\"115.002341\" xlink:href=\"#m3beaf48143\" y=\"223.355028\"/>\r\n     <use style=\"fill:#ffffff;stroke:#1f77b4;\" x=\"115.611068\" xlink:href=\"#m3beaf48143\" y=\"223.509983\"/>\r\n     <use style=\"fill:#ffffff;stroke:#1f77b4;\" x=\"116.219795\" xlink:href=\"#m3beaf48143\" y=\"223.661022\"/>\r\n     <use style=\"fill:#ffffff;stroke:#1f77b4;\" x=\"116.828523\" xlink:href=\"#m3beaf48143\" y=\"223.777835\"/>\r\n     <use style=\"fill:#ffffff;stroke:#1f77b4;\" x=\"117.43725\" xlink:href=\"#m3beaf48143\" y=\"223.906136\"/>\r\n     <use style=\"fill:#ffffff;stroke:#1f77b4;\" x=\"118.045977\" xlink:href=\"#m3beaf48143\" y=\"224.031964\"/>\r\n     <use style=\"fill:#ffffff;stroke:#1f77b4;\" x=\"118.654705\" xlink:href=\"#m3beaf48143\" y=\"224.155362\"/>\r\n     <use style=\"fill:#ffffff;stroke:#1f77b4;\" x=\"119.263432\" xlink:href=\"#m3beaf48143\" y=\"224.276371\"/>\r\n     <use style=\"fill:#ffffff;stroke:#1f77b4;\" x=\"119.872159\" xlink:href=\"#m3beaf48143\" y=\"224.39506\"/>\r\n     <use style=\"fill:#ffffff;stroke:#1f77b4;\" x=\"120.480886\" xlink:href=\"#m3beaf48143\" y=\"224.511443\"/>\r\n     <use style=\"fill:#ffffff;stroke:#1f77b4;\" x=\"121.089614\" xlink:href=\"#m3beaf48143\" y=\"224.625562\"/>\r\n     <use style=\"fill:#ffffff;stroke:#1f77b4;\" x=\"121.698341\" xlink:href=\"#m3beaf48143\" y=\"224.737514\"/>\r\n     <use style=\"fill:#ffffff;stroke:#1f77b4;\" x=\"122.307068\" xlink:href=\"#m3beaf48143\" y=\"224.847258\"/>\r\n     <use style=\"fill:#ffffff;stroke:#1f77b4;\" x=\"122.915795\" xlink:href=\"#m3beaf48143\" y=\"224.954877\"/>\r\n     <use style=\"fill:#ffffff;stroke:#1f77b4;\" x=\"123.524523\" xlink:href=\"#m3beaf48143\" y=\"225.060398\"/>\r\n     <use style=\"fill:#ffffff;stroke:#1f77b4;\" x=\"124.13325\" xlink:href=\"#m3beaf48143\" y=\"225.163892\"/>\r\n     <use style=\"fill:#ffffff;stroke:#1f77b4;\" x=\"124.741977\" xlink:href=\"#m3beaf48143\" y=\"225.265302\"/>\r\n     <use style=\"fill:#ffffff;stroke:#1f77b4;\" x=\"125.350705\" xlink:href=\"#m3beaf48143\" y=\"225.374782\"/>\r\n     <use style=\"fill:#ffffff;stroke:#1f77b4;\" x=\"125.959432\" xlink:href=\"#m3beaf48143\" y=\"225.519764\"/>\r\n     <use style=\"fill:#ffffff;stroke:#1f77b4;\" x=\"126.568159\" xlink:href=\"#m3beaf48143\" y=\"225.660941\"/>\r\n     <use style=\"fill:#ffffff;stroke:#1f77b4;\" x=\"127.176886\" xlink:href=\"#m3beaf48143\" y=\"225.798673\"/>\r\n     <use style=\"fill:#ffffff;stroke:#1f77b4;\" x=\"127.785614\" xlink:href=\"#m3beaf48143\" y=\"225.93321\"/>\r\n     <use style=\"fill:#ffffff;stroke:#1f77b4;\" x=\"128.394341\" xlink:href=\"#m3beaf48143\" y=\"226.064789\"/>\r\n     <use style=\"fill:#ffffff;stroke:#1f77b4;\" x=\"129.003068\" xlink:href=\"#m3beaf48143\" y=\"226.193589\"/>\r\n     <use style=\"fill:#ffffff;stroke:#1f77b4;\" x=\"129.611795\" xlink:href=\"#m3beaf48143\" y=\"226.319765\"/>\r\n     <use style=\"fill:#ffffff;stroke:#1f77b4;\" x=\"130.220523\" xlink:href=\"#m3beaf48143\" y=\"226.44344\"/>\r\n     <use style=\"fill:#ffffff;stroke:#1f77b4;\" x=\"130.82925\" xlink:href=\"#m3beaf48143\" y=\"226.564755\"/>\r\n     <use style=\"fill:#ffffff;stroke:#1f77b4;\" x=\"131.437977\" xlink:href=\"#m3beaf48143\" y=\"226.683777\"/>\r\n     <use style=\"fill:#ffffff;stroke:#1f77b4;\" x=\"132.046705\" xlink:href=\"#m3beaf48143\" y=\"226.800591\"/>\r\n     <use style=\"fill:#ffffff;stroke:#1f77b4;\" x=\"132.655432\" xlink:href=\"#m3beaf48143\" y=\"226.915279\"/>\r\n     <use style=\"fill:#ffffff;stroke:#1f77b4;\" x=\"133.264159\" xlink:href=\"#m3beaf48143\" y=\"227.02794\"/>\r\n     <use style=\"fill:#ffffff;stroke:#1f77b4;\" x=\"133.872886\" xlink:href=\"#m3beaf48143\" y=\"227.138587\"/>\r\n     <use style=\"fill:#ffffff;stroke:#1f77b4;\" x=\"134.481614\" xlink:href=\"#m3beaf48143\" y=\"227.247358\"/>\r\n     <use style=\"fill:#ffffff;stroke:#1f77b4;\" x=\"135.090341\" xlink:href=\"#m3beaf48143\" y=\"227.354185\"/>\r\n     <use style=\"fill:#ffffff;stroke:#1f77b4;\" x=\"135.699068\" xlink:href=\"#m3beaf48143\" y=\"227.459221\"/>\r\n     <use style=\"fill:#ffffff;stroke:#1f77b4;\" x=\"136.307795\" xlink:href=\"#m3beaf48143\" y=\"227.562422\"/>\r\n     <use style=\"fill:#ffffff;stroke:#1f77b4;\" x=\"136.916523\" xlink:href=\"#m3beaf48143\" y=\"227.663888\"/>\r\n     <use style=\"fill:#ffffff;stroke:#1f77b4;\" x=\"137.52525\" xlink:href=\"#m3beaf48143\" y=\"227.763645\"/>\r\n     <use style=\"fill:#ffffff;stroke:#1f77b4;\" x=\"138.133977\" xlink:href=\"#m3beaf48143\" y=\"227.861694\"/>\r\n     <use style=\"fill:#ffffff;stroke:#1f77b4;\" x=\"138.742705\" xlink:href=\"#m3beaf48143\" y=\"227.958089\"/>\r\n     <use style=\"fill:#ffffff;stroke:#1f77b4;\" x=\"139.351432\" xlink:href=\"#m3beaf48143\" y=\"228.05286\"/>\r\n     <use style=\"fill:#ffffff;stroke:#1f77b4;\" x=\"139.960159\" xlink:href=\"#m3beaf48143\" y=\"228.146047\"/>\r\n     <use style=\"fill:#ffffff;stroke:#1f77b4;\" x=\"140.568886\" xlink:href=\"#m3beaf48143\" y=\"228.237692\"/>\r\n     <use style=\"fill:#ffffff;stroke:#1f77b4;\" x=\"141.177614\" xlink:href=\"#m3beaf48143\" y=\"228.327768\"/>\r\n     <use style=\"fill:#ffffff;stroke:#1f77b4;\" x=\"141.786341\" xlink:href=\"#m3beaf48143\" y=\"228.416316\"/>\r\n     <use style=\"fill:#ffffff;stroke:#1f77b4;\" x=\"142.395068\" xlink:href=\"#m3beaf48143\" y=\"228.448041\"/>\r\n     <use style=\"fill:#ffffff;stroke:#1f77b4;\" x=\"143.003795\" xlink:href=\"#m3beaf48143\" y=\"228.499294\"/>\r\n     <use style=\"fill:#ffffff;stroke:#1f77b4;\" x=\"143.612523\" xlink:href=\"#m3beaf48143\" y=\"228.587995\"/>\r\n     <use style=\"fill:#ffffff;stroke:#1f77b4;\" x=\"144.22125\" xlink:href=\"#m3beaf48143\" y=\"228.667584\"/>\r\n     <use style=\"fill:#ffffff;stroke:#1f77b4;\" x=\"144.829977\" xlink:href=\"#m3beaf48143\" y=\"228.654583\"/>\r\n     <use style=\"fill:#ffffff;stroke:#1f77b4;\" x=\"145.438705\" xlink:href=\"#m3beaf48143\" y=\"228.744923\"/>\r\n     <use style=\"fill:#ffffff;stroke:#1f77b4;\" x=\"146.047432\" xlink:href=\"#m3beaf48143\" y=\"228.824942\"/>\r\n     <use style=\"fill:#ffffff;stroke:#1f77b4;\" x=\"146.656159\" xlink:href=\"#m3beaf48143\" y=\"228.801913\"/>\r\n     <use style=\"fill:#ffffff;stroke:#1f77b4;\" x=\"147.264886\" xlink:href=\"#m3beaf48143\" y=\"228.894072\"/>\r\n     <use style=\"fill:#ffffff;stroke:#1f77b4;\" x=\"147.873614\" xlink:href=\"#m3beaf48143\" y=\"228.940256\"/>\r\n     <use style=\"fill:#ffffff;stroke:#1f77b4;\" x=\"148.482341\" xlink:href=\"#m3beaf48143\" y=\"228.944812\"/>\r\n     <use style=\"fill:#ffffff;stroke:#1f77b4;\" x=\"149.091068\" xlink:href=\"#m3beaf48143\" y=\"229.038471\"/>\r\n     <use style=\"fill:#ffffff;stroke:#1f77b4;\" x=\"149.699795\" xlink:href=\"#m3beaf48143\" y=\"229.026137\"/>\r\n     <use style=\"fill:#ffffff;stroke:#1f77b4;\" x=\"150.308523\" xlink:href=\"#m3beaf48143\" y=\"229.084655\"/>\r\n     <use style=\"fill:#ffffff;stroke:#1f77b4;\" x=\"150.91725\" xlink:href=\"#m3beaf48143\" y=\"229.13395\"/>\r\n     <use style=\"fill:#ffffff;stroke:#1f77b4;\" x=\"151.525977\" xlink:href=\"#m3beaf48143\" y=\"229.13095\"/>\r\n     <use style=\"fill:#ffffff;stroke:#1f77b4;\" x=\"152.134705\" xlink:href=\"#m3beaf48143\" y=\"229.217706\"/>\r\n     <use style=\"fill:#ffffff;stroke:#1f77b4;\" x=\"152.743432\" xlink:href=\"#m3beaf48143\" y=\"229.178495\"/>\r\n     <use style=\"fill:#ffffff;stroke:#1f77b4;\" x=\"153.352159\" xlink:href=\"#m3beaf48143\" y=\"229.282641\"/>\r\n     <use style=\"fill:#ffffff;stroke:#1f77b4;\" x=\"153.960886\" xlink:href=\"#m3beaf48143\" y=\"229.232277\"/>\r\n     <use style=\"fill:#ffffff;stroke:#1f77b4;\" x=\"154.569614\" xlink:href=\"#m3beaf48143\" y=\"229.325561\"/>\r\n     <use style=\"fill:#ffffff;stroke:#1f77b4;\" x=\"155.178341\" xlink:href=\"#m3beaf48143\" y=\"229.298031\"/>\r\n     <use style=\"fill:#ffffff;stroke:#1f77b4;\" x=\"155.787068\" xlink:href=\"#m3beaf48143\" y=\"229.370786\"/>\r\n     <use style=\"fill:#ffffff;stroke:#1f77b4;\" x=\"156.395795\" xlink:href=\"#m3beaf48143\" y=\"229.349743\"/>\r\n     <use style=\"fill:#ffffff;stroke:#1f77b4;\" x=\"157.004523\" xlink:href=\"#m3beaf48143\" y=\"229.418234\"/>\r\n     <use style=\"fill:#ffffff;stroke:#1f77b4;\" x=\"157.61325\" xlink:href=\"#m3beaf48143\" y=\"229.390941\"/>\r\n     <use style=\"fill:#ffffff;stroke:#1f77b4;\" x=\"158.221977\" xlink:href=\"#m3beaf48143\" y=\"229.46764\"/>\r\n     <use style=\"fill:#ffffff;stroke:#1f77b4;\" x=\"158.830705\" xlink:href=\"#m3beaf48143\" y=\"229.424054\"/>\r\n     <use style=\"fill:#ffffff;stroke:#1f77b4;\" x=\"159.439432\" xlink:href=\"#m3beaf48143\" y=\"229.511532\"/>\r\n     <use style=\"fill:#ffffff;stroke:#1f77b4;\" x=\"160.048159\" xlink:href=\"#m3beaf48143\" y=\"229.458029\"/>\r\n     <use style=\"fill:#ffffff;stroke:#1f77b4;\" x=\"160.656886\" xlink:href=\"#m3beaf48143\" y=\"229.520116\"/>\r\n     <use style=\"fill:#ffffff;stroke:#1f77b4;\" x=\"161.265614\" xlink:href=\"#m3beaf48143\" y=\"229.522394\"/>\r\n     <use style=\"fill:#ffffff;stroke:#1f77b4;\" x=\"161.874341\" xlink:href=\"#m3beaf48143\" y=\"229.527797\"/>\r\n     <use style=\"fill:#ffffff;stroke:#1f77b4;\" x=\"162.483068\" xlink:href=\"#m3beaf48143\" y=\"229.585218\"/>\r\n     <use style=\"fill:#ffffff;stroke:#1f77b4;\" x=\"163.091795\" xlink:href=\"#m3beaf48143\" y=\"229.534492\"/>\r\n     <use style=\"fill:#ffffff;stroke:#1f77b4;\" x=\"163.700523\" xlink:href=\"#m3beaf48143\" y=\"229.603094\"/>\r\n     <use style=\"fill:#ffffff;stroke:#1f77b4;\" x=\"164.30925\" xlink:href=\"#m3beaf48143\" y=\"229.585621\"/>\r\n     <use style=\"fill:#ffffff;stroke:#1f77b4;\" x=\"164.917977\" xlink:href=\"#m3beaf48143\" y=\"229.595691\"/>\r\n     <use style=\"fill:#ffffff;stroke:#1f77b4;\" x=\"165.526705\" xlink:href=\"#m3beaf48143\" y=\"229.652473\"/>\r\n     <use style=\"fill:#ffffff;stroke:#1f77b4;\" x=\"166.135432\" xlink:href=\"#m3beaf48143\" y=\"229.599483\"/>\r\n     <use style=\"fill:#ffffff;stroke:#1f77b4;\" x=\"166.744159\" xlink:href=\"#m3beaf48143\" y=\"229.636916\"/>\r\n     <use style=\"fill:#ffffff;stroke:#1f77b4;\" x=\"167.352886\" xlink:href=\"#m3beaf48143\" y=\"229.682211\"/>\r\n     <use style=\"fill:#ffffff;stroke:#1f77b4;\" x=\"167.961614\" xlink:href=\"#m3beaf48143\" y=\"229.624179\"/>\r\n     <use style=\"fill:#ffffff;stroke:#1f77b4;\" x=\"168.570341\" xlink:href=\"#m3beaf48143\" y=\"229.676891\"/>\r\n     <use style=\"fill:#ffffff;stroke:#1f77b4;\" x=\"169.179068\" xlink:href=\"#m3beaf48143\" y=\"229.698379\"/>\r\n     <use style=\"fill:#ffffff;stroke:#1f77b4;\" x=\"169.787795\" xlink:href=\"#m3beaf48143\" y=\"229.657432\"/>\r\n     <use style=\"fill:#ffffff;stroke:#1f77b4;\" x=\"170.396523\" xlink:href=\"#m3beaf48143\" y=\"229.703782\"/>\r\n     <use style=\"fill:#ffffff;stroke:#1f77b4;\" x=\"171.00525\" xlink:href=\"#m3beaf48143\" y=\"229.724284\"/>\r\n     <use style=\"fill:#ffffff;stroke:#1f77b4;\" x=\"171.613977\" xlink:href=\"#m3beaf48143\" y=\"229.680253\"/>\r\n     <use style=\"fill:#ffffff;stroke:#1f77b4;\" x=\"172.222705\" xlink:href=\"#m3beaf48143\" y=\"229.722381\"/>\r\n     <use style=\"fill:#ffffff;stroke:#1f77b4;\" x=\"172.831432\" xlink:href=\"#m3beaf48143\" y=\"229.755355\"/>\r\n     <use style=\"fill:#ffffff;stroke:#1f77b4;\" x=\"173.440159\" xlink:href=\"#m3beaf48143\" y=\"229.703338\"/>\r\n     <use style=\"fill:#ffffff;stroke:#1f77b4;\" x=\"174.048886\" xlink:href=\"#m3beaf48143\" y=\"229.725339\"/>\r\n     <use style=\"fill:#ffffff;stroke:#1f77b4;\" x=\"174.657614\" xlink:href=\"#m3beaf48143\" y=\"229.758453\"/>\r\n     <use style=\"fill:#ffffff;stroke:#1f77b4;\" x=\"175.266341\" xlink:href=\"#m3beaf48143\" y=\"229.756564\"/>\r\n     <use style=\"fill:#ffffff;stroke:#1f77b4;\" x=\"175.875068\" xlink:href=\"#m3beaf48143\" y=\"229.727798\"/>\r\n     <use style=\"fill:#ffffff;stroke:#1f77b4;\" x=\"176.483795\" xlink:href=\"#m3beaf48143\" y=\"229.760869\"/>\r\n     <use style=\"fill:#ffffff;stroke:#1f77b4;\" x=\"177.092523\" xlink:href=\"#m3beaf48143\" y=\"229.786635\"/>\r\n     <use style=\"fill:#ffffff;stroke:#1f77b4;\" x=\"177.70125\" xlink:href=\"#m3beaf48143\" y=\"229.757716\"/>\r\n     <use style=\"fill:#ffffff;stroke:#1f77b4;\" x=\"178.309977\" xlink:href=\"#m3beaf48143\" y=\"229.753202\"/>\r\n     <use style=\"fill:#ffffff;stroke:#1f77b4;\" x=\"178.918705\" xlink:href=\"#m3beaf48143\" y=\"229.781176\"/>\r\n     <use style=\"fill:#ffffff;stroke:#1f77b4;\" x=\"179.527432\" xlink:href=\"#m3beaf48143\" y=\"229.802914\"/>\r\n     <use style=\"fill:#ffffff;stroke:#1f77b4;\" x=\"180.136159\" xlink:href=\"#m3beaf48143\" y=\"229.775259\"/>\r\n     <use style=\"fill:#ffffff;stroke:#1f77b4;\" x=\"180.744886\" xlink:href=\"#m3beaf48143\" y=\"229.768189\"/>\r\n     <use style=\"fill:#ffffff;stroke:#1f77b4;\" x=\"181.353614\" xlink:href=\"#m3beaf48143\" y=\"229.793205\"/>\r\n     <use style=\"fill:#ffffff;stroke:#1f77b4;\" x=\"181.962341\" xlink:href=\"#m3beaf48143\" y=\"229.812637\"/>\r\n     <use style=\"fill:#ffffff;stroke:#1f77b4;\" x=\"182.571068\" xlink:href=\"#m3beaf48143\" y=\"229.803025\"/>\r\n     <use style=\"fill:#ffffff;stroke:#1f77b4;\" x=\"183.179795\" xlink:href=\"#m3beaf48143\" y=\"229.777148\"/>\r\n     <use style=\"fill:#ffffff;stroke:#1f77b4;\" x=\"183.788523\" xlink:href=\"#m3beaf48143\" y=\"229.800386\"/>\r\n     <use style=\"fill:#ffffff;stroke:#1f77b4;\" x=\"184.39725\" xlink:href=\"#m3beaf48143\" y=\"229.818429\"/>\r\n     <use style=\"fill:#ffffff;stroke:#1f77b4;\" x=\"185.005977\" xlink:href=\"#m3beaf48143\" y=\"229.832555\"/>\r\n     <use style=\"fill:#ffffff;stroke:#1f77b4;\" x=\"185.614705\" xlink:href=\"#m3beaf48143\" y=\"229.795191\"/>\r\n     <use style=\"fill:#ffffff;stroke:#1f77b4;\" x=\"186.223432\" xlink:href=\"#m3beaf48143\" y=\"229.796733\"/>\r\n     <use style=\"fill:#ffffff;stroke:#1f77b4;\" x=\"186.832159\" xlink:href=\"#m3beaf48143\" y=\"229.815859\"/>\r\n     <use style=\"fill:#ffffff;stroke:#1f77b4;\" x=\"187.440886\" xlink:href=\"#m3beaf48143\" y=\"229.830666\"/>\r\n     <use style=\"fill:#ffffff;stroke:#1f77b4;\" x=\"188.049614\" xlink:href=\"#m3beaf48143\" y=\"229.842236\"/>\r\n     <use style=\"fill:#ffffff;stroke:#1f77b4;\" x=\"188.658341\" xlink:href=\"#m3beaf48143\" y=\"229.808984\"/>\r\n     <use style=\"fill:#ffffff;stroke:#1f77b4;\" x=\"189.267068\" xlink:href=\"#m3beaf48143\" y=\"229.806539\"/>\r\n     <use style=\"fill:#ffffff;stroke:#1f77b4;\" x=\"189.875795\" xlink:href=\"#m3beaf48143\" y=\"229.823582\"/>\r\n     <use style=\"fill:#ffffff;stroke:#1f77b4;\" x=\"190.484523\" xlink:href=\"#m3beaf48143\" y=\"229.836722\"/>\r\n     <use style=\"fill:#ffffff;stroke:#1f77b4;\" x=\"191.09325\" xlink:href=\"#m3beaf48143\" y=\"229.846973\"/>\r\n     <use style=\"fill:#ffffff;stroke:#1f77b4;\" x=\"191.701977\" xlink:href=\"#m3beaf48143\" y=\"229.834597\"/>\r\n     <use style=\"fill:#ffffff;stroke:#1f77b4;\" x=\"192.310705\" xlink:href=\"#m3beaf48143\" y=\"229.811345\"/>\r\n     <use style=\"fill:#ffffff;stroke:#1f77b4;\" x=\"192.919432\" xlink:href=\"#m3beaf48143\" y=\"229.827305\"/>\r\n     <use style=\"fill:#ffffff;stroke:#1f77b4;\" x=\"193.528159\" xlink:href=\"#m3beaf48143\" y=\"229.839556\"/>\r\n     <use style=\"fill:#ffffff;stroke:#1f77b4;\" x=\"194.136886\" xlink:href=\"#m3beaf48143\" y=\"229.84914\"/>\r\n     <use style=\"fill:#ffffff;stroke:#1f77b4;\" x=\"194.745614\" xlink:href=\"#m3beaf48143\" y=\"229.856654\"/>\r\n     <use style=\"fill:#ffffff;stroke:#1f77b4;\" x=\"195.354341\" xlink:href=\"#m3beaf48143\" y=\"229.833055\"/>\r\n     <use style=\"fill:#ffffff;stroke:#1f77b4;\" x=\"195.963068\" xlink:href=\"#m3beaf48143\" y=\"229.822096\"/>\r\n     <use style=\"fill:#ffffff;stroke:#1f77b4;\" x=\"196.571795\" xlink:href=\"#m3beaf48143\" y=\"229.835611\"/>\r\n     <use style=\"fill:#ffffff;stroke:#1f77b4;\" x=\"197.180523\" xlink:href=\"#m3beaf48143\" y=\"229.846001\"/>\r\n     <use style=\"fill:#ffffff;stroke:#1f77b4;\" x=\"197.78925\" xlink:href=\"#m3beaf48143\" y=\"229.854071\"/>\r\n     <use style=\"fill:#ffffff;stroke:#1f77b4;\" x=\"198.397977\" xlink:href=\"#m3beaf48143\" y=\"229.860418\"/>\r\n     <use style=\"fill:#ffffff;stroke:#1f77b4;\" x=\"199.006705\" xlink:href=\"#m3beaf48143\" y=\"229.850654\"/>\r\n     <use style=\"fill:#ffffff;stroke:#1f77b4;\" x=\"199.615432\" xlink:href=\"#m3beaf48143\" y=\"229.826444\"/>\r\n     <use style=\"fill:#ffffff;stroke:#1f77b4;\" x=\"200.224159\" xlink:href=\"#m3beaf48143\" y=\"229.838861\"/>\r\n     <use style=\"fill:#ffffff;stroke:#1f77b4;\" x=\"200.832886\" xlink:href=\"#m3beaf48143\" y=\"229.848376\"/>\r\n     <use style=\"fill:#ffffff;stroke:#1f77b4;\" x=\"201.441614\" xlink:href=\"#m3beaf48143\" y=\"229.855765\"/>\r\n     <use style=\"fill:#ffffff;stroke:#1f77b4;\" x=\"202.050341\" xlink:href=\"#m3beaf48143\" y=\"229.861557\"/>\r\n     <use style=\"fill:#ffffff;stroke:#1f77b4;\" x=\"202.659068\" xlink:href=\"#m3beaf48143\" y=\"229.866113\"/>\r\n     <use style=\"fill:#ffffff;stroke:#1f77b4;\" x=\"203.267795\" xlink:href=\"#m3beaf48143\" y=\"229.84964\"/>\r\n     <use style=\"fill:#ffffff;stroke:#1f77b4;\" x=\"203.876523\" xlink:href=\"#m3beaf48143\" y=\"229.83375\"/>\r\n     <use style=\"fill:#ffffff;stroke:#1f77b4;\" x=\"204.48525\" xlink:href=\"#m3beaf48143\" y=\"229.844375\"/>\r\n     <use style=\"fill:#ffffff;stroke:#1f77b4;\" x=\"205.093977\" xlink:href=\"#m3beaf48143\" y=\"229.852515\"/>\r\n     <use style=\"fill:#ffffff;stroke:#1f77b4;\" x=\"205.702705\" xlink:href=\"#m3beaf48143\" y=\"229.858821\"/>\r\n     <use style=\"fill:#ffffff;stroke:#1f77b4;\" x=\"206.311432\" xlink:href=\"#m3beaf48143\" y=\"229.863766\"/>\r\n     <use style=\"fill:#ffffff;stroke:#1f77b4;\" x=\"206.920159\" xlink:href=\"#m3beaf48143\" y=\"229.867627\"/>\r\n     <use style=\"fill:#ffffff;stroke:#1f77b4;\" x=\"207.528886\" xlink:href=\"#m3beaf48143\" y=\"229.867127\"/>\r\n     <use style=\"fill:#ffffff;stroke:#1f77b4;\" x=\"208.137614\" xlink:href=\"#m3beaf48143\" y=\"229.83593\"/>\r\n     <use style=\"fill:#ffffff;stroke:#1f77b4;\" x=\"208.746341\" xlink:href=\"#m3beaf48143\" y=\"229.845862\"/>\r\n     <use style=\"fill:#ffffff;stroke:#1f77b4;\" x=\"209.355068\" xlink:href=\"#m3beaf48143\" y=\"229.853445\"/>\r\n     <use style=\"fill:#ffffff;stroke:#1f77b4;\" x=\"209.963795\" xlink:href=\"#m3beaf48143\" y=\"229.859321\"/>\r\n     <use style=\"fill:#ffffff;stroke:#1f77b4;\" x=\"210.572523\" xlink:href=\"#m3beaf48143\" y=\"229.863905\"/>\r\n     <use style=\"fill:#ffffff;stroke:#1f77b4;\" x=\"211.18125\" xlink:href=\"#m3beaf48143\" y=\"229.867544\"/>\r\n     <use style=\"fill:#ffffff;stroke:#1f77b4;\" x=\"211.789977\" xlink:href=\"#m3beaf48143\" y=\"229.870419\"/>\r\n     <use style=\"fill:#ffffff;stroke:#1f77b4;\" x=\"212.398705\" xlink:href=\"#m3beaf48143\" y=\"229.869155\"/>\r\n     <use style=\"fill:#ffffff;stroke:#1f77b4;\" x=\"213.007432\" xlink:href=\"#m3beaf48143\" y=\"229.840236\"/>\r\n     <use style=\"fill:#ffffff;stroke:#1f77b4;\" x=\"213.616159\" xlink:href=\"#m3beaf48143\" y=\"229.849015\"/>\r\n     <use style=\"fill:#ffffff;stroke:#1f77b4;\" x=\"214.224886\" xlink:href=\"#m3beaf48143\" y=\"229.855668\"/>\r\n     <use style=\"fill:#ffffff;stroke:#1f77b4;\" x=\"214.833614\" xlink:href=\"#m3beaf48143\" y=\"229.860807\"/>\r\n     <use style=\"fill:#ffffff;stroke:#1f77b4;\" x=\"215.442341\" xlink:href=\"#m3beaf48143\" y=\"229.864835\"/>\r\n     <use style=\"fill:#ffffff;stroke:#1f77b4;\" x=\"216.051068\" xlink:href=\"#m3beaf48143\" y=\"229.868044\"/>\r\n     <use style=\"fill:#ffffff;stroke:#1f77b4;\" x=\"216.659795\" xlink:href=\"#m3beaf48143\" y=\"229.87053\"/>\r\n     <use style=\"fill:#ffffff;stroke:#1f77b4;\" x=\"217.268523\" xlink:href=\"#m3beaf48143\" y=\"229.872544\"/>\r\n     <use style=\"fill:#ffffff;stroke:#1f77b4;\" x=\"217.87725\" xlink:href=\"#m3beaf48143\" y=\"229.86696\"/>\r\n     <use style=\"fill:#ffffff;stroke:#1f77b4;\" x=\"218.485977\" xlink:href=\"#m3beaf48143\" y=\"229.844167\"/>\r\n     <use style=\"fill:#ffffff;stroke:#1f77b4;\" x=\"219.094705\" xlink:href=\"#m3beaf48143\" y=\"229.851876\"/>\r\n     <use style=\"fill:#ffffff;stroke:#1f77b4;\" x=\"219.703432\" xlink:href=\"#m3beaf48143\" y=\"229.857682\"/>\r\n     <use style=\"fill:#ffffff;stroke:#1f77b4;\" x=\"220.312159\" xlink:href=\"#m3beaf48143\" y=\"229.862154\"/>\r\n     <use style=\"fill:#ffffff;stroke:#1f77b4;\" x=\"220.920886\" xlink:href=\"#m3beaf48143\" y=\"229.865682\"/>\r\n     <use style=\"fill:#ffffff;stroke:#1f77b4;\" x=\"221.529614\" xlink:href=\"#m3beaf48143\" y=\"229.86846\"/>\r\n     <use style=\"fill:#ffffff;stroke:#1f77b4;\" x=\"222.138341\" xlink:href=\"#m3beaf48143\" y=\"229.870613\"/>\r\n     <use style=\"fill:#ffffff;stroke:#1f77b4;\" x=\"222.747068\" xlink:href=\"#m3beaf48143\" y=\"229.872377\"/>\r\n     <use style=\"fill:#ffffff;stroke:#1f77b4;\" x=\"223.355795\" xlink:href=\"#m3beaf48143\" y=\"229.873794\"/>\r\n     <use style=\"fill:#ffffff;stroke:#1f77b4;\" x=\"223.964523\" xlink:href=\"#m3beaf48143\" y=\"229.864946\"/>\r\n     <use style=\"fill:#ffffff;stroke:#1f77b4;\" x=\"224.57325\" xlink:href=\"#m3beaf48143\" y=\"229.847139\"/>\r\n     <use style=\"fill:#ffffff;stroke:#1f77b4;\" x=\"225.181977\" xlink:href=\"#m3beaf48143\" y=\"229.853987\"/>\r\n     <use style=\"fill:#ffffff;stroke:#1f77b4;\" x=\"225.790705\" xlink:href=\"#m3beaf48143\" y=\"229.859099\"/>\r\n     <use style=\"fill:#ffffff;stroke:#1f77b4;\" x=\"226.399432\" xlink:href=\"#m3beaf48143\" y=\"229.863016\"/>\r\n     <use style=\"fill:#ffffff;stroke:#1f77b4;\" x=\"227.008159\" xlink:href=\"#m3beaf48143\" y=\"229.866155\"/>\r\n     <use style=\"fill:#ffffff;stroke:#1f77b4;\" x=\"227.616886\" xlink:href=\"#m3beaf48143\" y=\"229.868572\"/>\r\n     <use style=\"fill:#ffffff;stroke:#1f77b4;\" x=\"228.225614\" xlink:href=\"#m3beaf48143\" y=\"229.870516\"/>\r\n     <use style=\"fill:#ffffff;stroke:#1f77b4;\" x=\"228.834341\" xlink:href=\"#m3beaf48143\" y=\"229.8721\"/>\r\n     <use style=\"fill:#ffffff;stroke:#1f77b4;\" x=\"229.443068\" xlink:href=\"#m3beaf48143\" y=\"229.87335\"/>\r\n     <use style=\"fill:#ffffff;stroke:#1f77b4;\" x=\"230.051795\" xlink:href=\"#m3beaf48143\" y=\"229.874336\"/>\r\n     <use style=\"fill:#ffffff;stroke:#1f77b4;\" x=\"230.660523\" xlink:href=\"#m3beaf48143\" y=\"229.863988\"/>\r\n     <use style=\"fill:#ffffff;stroke:#1f77b4;\" x=\"231.26925\" xlink:href=\"#m3beaf48143\" y=\"229.849167\"/>\r\n     <use style=\"fill:#ffffff;stroke:#1f77b4;\" x=\"231.877977\" xlink:href=\"#m3beaf48143\" y=\"229.855362\"/>\r\n     <use style=\"fill:#ffffff;stroke:#1f77b4;\" x=\"232.486705\" xlink:href=\"#m3beaf48143\" y=\"229.859974\"/>\r\n     <use style=\"fill:#ffffff;stroke:#1f77b4;\" x=\"233.095432\" xlink:href=\"#m3beaf48143\" y=\"229.863543\"/>\r\n     <use style=\"fill:#ffffff;stroke:#1f77b4;\" x=\"233.704159\" xlink:href=\"#m3beaf48143\" y=\"229.866335\"/>\r\n     <use style=\"fill:#ffffff;stroke:#1f77b4;\" x=\"234.312886\" xlink:href=\"#m3beaf48143\" y=\"229.868544\"/>\r\n     <use style=\"fill:#ffffff;stroke:#1f77b4;\" x=\"234.921614\" xlink:href=\"#m3beaf48143\" y=\"229.870322\"/>\r\n     <use style=\"fill:#ffffff;stroke:#1f77b4;\" x=\"235.530341\" xlink:href=\"#m3beaf48143\" y=\"229.871711\"/>\r\n     <use style=\"fill:#ffffff;stroke:#1f77b4;\" x=\"236.139068\" xlink:href=\"#m3beaf48143\" y=\"229.872836\"/>\r\n     <use style=\"fill:#ffffff;stroke:#1f77b4;\" x=\"236.747795\" xlink:href=\"#m3beaf48143\" y=\"229.87378\"/>\r\n     <use style=\"fill:#ffffff;stroke:#1f77b4;\" x=\"237.356523\" xlink:href=\"#m3beaf48143\" y=\"229.874489\"/>\r\n     <use style=\"fill:#ffffff;stroke:#1f77b4;\" x=\"237.96525\" xlink:href=\"#m3beaf48143\" y=\"229.863432\"/>\r\n     <use style=\"fill:#ffffff;stroke:#1f77b4;\" x=\"238.573977\" xlink:href=\"#m3beaf48143\" y=\"229.850584\"/>\r\n     <use style=\"fill:#ffffff;stroke:#1f77b4;\" x=\"239.182705\" xlink:href=\"#m3beaf48143\" y=\"229.856265\"/>\r\n     <use style=\"fill:#ffffff;stroke:#1f77b4;\" x=\"239.791432\" xlink:href=\"#m3beaf48143\" y=\"229.860529\"/>\r\n     <use style=\"fill:#ffffff;stroke:#1f77b4;\" x=\"240.400159\" xlink:href=\"#m3beaf48143\" y=\"229.863807\"/>\r\n     <use style=\"fill:#ffffff;stroke:#1f77b4;\" x=\"241.008886\" xlink:href=\"#m3beaf48143\" y=\"229.866363\"/>\r\n     <use style=\"fill:#ffffff;stroke:#1f77b4;\" x=\"241.617614\" xlink:href=\"#m3beaf48143\" y=\"229.868391\"/>\r\n     <use style=\"fill:#ffffff;stroke:#1f77b4;\" x=\"242.226341\" xlink:href=\"#m3beaf48143\" y=\"229.870016\"/>\r\n     <use style=\"fill:#ffffff;stroke:#1f77b4;\" x=\"242.835068\" xlink:href=\"#m3beaf48143\" y=\"229.871336\"/>\r\n     <use style=\"fill:#ffffff;stroke:#1f77b4;\" x=\"243.443795\" xlink:href=\"#m3beaf48143\" y=\"229.872377\"/>\r\n     <use style=\"fill:#ffffff;stroke:#1f77b4;\" x=\"244.052523\" xlink:href=\"#m3beaf48143\" y=\"229.873225\"/>\r\n     <use style=\"fill:#ffffff;stroke:#1f77b4;\" x=\"244.66125\" xlink:href=\"#m3beaf48143\" y=\"229.873975\"/>\r\n     <use style=\"fill:#ffffff;stroke:#1f77b4;\" x=\"245.269977\" xlink:href=\"#m3beaf48143\" y=\"229.873683\"/>\r\n     <use style=\"fill:#ffffff;stroke:#1f77b4;\" x=\"245.878705\" xlink:href=\"#m3beaf48143\" y=\"229.850251\"/>\r\n     <use style=\"fill:#ffffff;stroke:#1f77b4;\" x=\"246.487432\" xlink:href=\"#m3beaf48143\" y=\"229.855835\"/>\r\n     <use style=\"fill:#ffffff;stroke:#1f77b4;\" x=\"247.096159\" xlink:href=\"#m3beaf48143\" y=\"229.860029\"/>\r\n     <use style=\"fill:#ffffff;stroke:#1f77b4;\" x=\"247.704886\" xlink:href=\"#m3beaf48143\" y=\"229.863224\"/>\r\n     <use style=\"fill:#ffffff;stroke:#1f77b4;\" x=\"248.313614\" xlink:href=\"#m3beaf48143\" y=\"229.865766\"/>\r\n     <use style=\"fill:#ffffff;stroke:#1f77b4;\" x=\"248.922341\" xlink:href=\"#m3beaf48143\" y=\"229.867766\"/>\r\n     <use style=\"fill:#ffffff;stroke:#1f77b4;\" x=\"249.531068\" xlink:href=\"#m3beaf48143\" y=\"229.869349\"/>\r\n     <use style=\"fill:#ffffff;stroke:#1f77b4;\" x=\"250.139795\" xlink:href=\"#m3beaf48143\" y=\"229.870655\"/>\r\n     <use style=\"fill:#ffffff;stroke:#1f77b4;\" x=\"250.748523\" xlink:href=\"#m3beaf48143\" y=\"229.871669\"/>\r\n     <use style=\"fill:#ffffff;stroke:#1f77b4;\" x=\"251.35725\" xlink:href=\"#m3beaf48143\" y=\"229.872516\"/>\r\n     <use style=\"fill:#ffffff;stroke:#1f77b4;\" x=\"251.965977\" xlink:href=\"#m3beaf48143\" y=\"229.873211\"/>\r\n     <use style=\"fill:#ffffff;stroke:#1f77b4;\" x=\"252.574705\" xlink:href=\"#m3beaf48143\" y=\"229.873808\"/>\r\n     <use style=\"fill:#ffffff;stroke:#1f77b4;\" x=\"253.183432\" xlink:href=\"#m3beaf48143\" y=\"229.87428\"/>\r\n     <use style=\"fill:#ffffff;stroke:#1f77b4;\" x=\"253.792159\" xlink:href=\"#m3beaf48143\" y=\"229.864363\"/>\r\n     <use style=\"fill:#ffffff;stroke:#1f77b4;\" x=\"254.400886\" xlink:href=\"#m3beaf48143\" y=\"229.852084\"/>\r\n     <use style=\"fill:#ffffff;stroke:#1f77b4;\" x=\"255.009614\" xlink:href=\"#m3beaf48143\" y=\"229.857182\"/>\r\n     <use style=\"fill:#ffffff;stroke:#1f77b4;\" x=\"255.618341\" xlink:href=\"#m3beaf48143\" y=\"229.860988\"/>\r\n     <use style=\"fill:#ffffff;stroke:#1f77b4;\" x=\"256.227068\" xlink:href=\"#m3beaf48143\" y=\"229.863891\"/>\r\n     <use style=\"fill:#ffffff;stroke:#1f77b4;\" x=\"256.835795\" xlink:href=\"#m3beaf48143\" y=\"229.866169\"/>\r\n     <use style=\"fill:#ffffff;stroke:#1f77b4;\" x=\"257.444523\" xlink:href=\"#m3beaf48143\" y=\"229.867988\"/>\r\n     <use style=\"fill:#ffffff;stroke:#1f77b4;\" x=\"258.05325\" xlink:href=\"#m3beaf48143\" y=\"229.869433\"/>\r\n     <use style=\"fill:#ffffff;stroke:#1f77b4;\" x=\"258.661977\" xlink:href=\"#m3beaf48143\" y=\"229.870613\"/>\r\n     <use style=\"fill:#ffffff;stroke:#1f77b4;\" x=\"259.270705\" xlink:href=\"#m3beaf48143\" y=\"229.871586\"/>\r\n     <use style=\"fill:#ffffff;stroke:#1f77b4;\" x=\"259.879432\" xlink:href=\"#m3beaf48143\" y=\"229.872322\"/>\r\n     <use style=\"fill:#ffffff;stroke:#1f77b4;\" x=\"260.488159\" xlink:href=\"#m3beaf48143\" y=\"229.872989\"/>\r\n     <use style=\"fill:#ffffff;stroke:#1f77b4;\" x=\"261.096886\" xlink:href=\"#m3beaf48143\" y=\"229.873502\"/>\r\n     <use style=\"fill:#ffffff;stroke:#1f77b4;\" x=\"261.705614\" xlink:href=\"#m3beaf48143\" y=\"229.873975\"/>\r\n     <use style=\"fill:#ffffff;stroke:#1f77b4;\" x=\"262.314341\" xlink:href=\"#m3beaf48143\" y=\"229.868447\"/>\r\n     <use style=\"fill:#ffffff;stroke:#1f77b4;\" x=\"262.923068\" xlink:href=\"#m3beaf48143\" y=\"229.852029\"/>\r\n     <use style=\"fill:#ffffff;stroke:#1f77b4;\" x=\"263.531795\" xlink:href=\"#m3beaf48143\" y=\"229.857029\"/>\r\n     <use style=\"fill:#ffffff;stroke:#1f77b4;\" x=\"264.140523\" xlink:href=\"#m3beaf48143\" y=\"229.860793\"/>\r\n     <use style=\"fill:#ffffff;stroke:#1f77b4;\" x=\"264.74925\" xlink:href=\"#m3beaf48143\" y=\"229.863641\"/>\r\n     <use style=\"fill:#ffffff;stroke:#1f77b4;\" x=\"265.357977\" xlink:href=\"#m3beaf48143\" y=\"229.865877\"/>\r\n     <use style=\"fill:#ffffff;stroke:#1f77b4;\" x=\"265.966705\" xlink:href=\"#m3beaf48143\" y=\"229.867669\"/>\r\n     <use style=\"fill:#ffffff;stroke:#1f77b4;\" x=\"266.575432\" xlink:href=\"#m3beaf48143\" y=\"229.869099\"/>\r\n     <use style=\"fill:#ffffff;stroke:#1f77b4;\" x=\"267.184159\" xlink:href=\"#m3beaf48143\" y=\"229.870252\"/>\r\n     <use style=\"fill:#ffffff;stroke:#1f77b4;\" x=\"267.792886\" xlink:href=\"#m3beaf48143\" y=\"229.871197\"/>\r\n     <use style=\"fill:#ffffff;stroke:#1f77b4;\" x=\"268.401614\" xlink:href=\"#m3beaf48143\" y=\"229.871933\"/>\r\n     <use style=\"fill:#ffffff;stroke:#1f77b4;\" x=\"269.010341\" xlink:href=\"#m3beaf48143\" y=\"229.8726\"/>\r\n     <use style=\"fill:#ffffff;stroke:#1f77b4;\" x=\"269.619068\" xlink:href=\"#m3beaf48143\" y=\"229.873141\"/>\r\n     <use style=\"fill:#ffffff;stroke:#1f77b4;\" x=\"270.227795\" xlink:href=\"#m3beaf48143\" y=\"229.873586\"/>\r\n     <use style=\"fill:#ffffff;stroke:#1f77b4;\" x=\"270.836523\" xlink:href=\"#m3beaf48143\" y=\"229.873989\"/>\r\n     <use style=\"fill:#ffffff;stroke:#1f77b4;\" x=\"271.44525\" xlink:href=\"#m3beaf48143\" y=\"229.865613\"/>\r\n     <use style=\"fill:#ffffff;stroke:#1f77b4;\" x=\"272.053977\" xlink:href=\"#m3beaf48143\" y=\"229.852654\"/>\r\n     <use style=\"fill:#ffffff;stroke:#1f77b4;\" x=\"272.662705\" xlink:href=\"#m3beaf48143\" y=\"229.857474\"/>\r\n     <use style=\"fill:#ffffff;stroke:#1f77b4;\" x=\"273.271432\" xlink:href=\"#m3beaf48143\" y=\"229.861057\"/>\r\n     <use style=\"fill:#ffffff;stroke:#1f77b4;\" x=\"273.880159\" xlink:href=\"#m3beaf48143\" y=\"229.863793\"/>\r\n     <use style=\"fill:#ffffff;stroke:#1f77b4;\" x=\"274.488886\" xlink:href=\"#m3beaf48143\" y=\"229.865932\"/>\r\n     <use style=\"fill:#ffffff;stroke:#1f77b4;\" x=\"275.097614\" xlink:href=\"#m3beaf48143\" y=\"229.867655\"/>\r\n     <use style=\"fill:#ffffff;stroke:#1f77b4;\" x=\"275.706341\" xlink:href=\"#m3beaf48143\" y=\"229.869044\"/>\r\n     <use style=\"fill:#ffffff;stroke:#1f77b4;\" x=\"276.315068\" xlink:href=\"#m3beaf48143\" y=\"229.870155\"/>\r\n     <use style=\"fill:#ffffff;stroke:#1f77b4;\" x=\"276.923795\" xlink:href=\"#m3beaf48143\" y=\"229.871058\"/>\r\n     <use style=\"fill:#ffffff;stroke:#1f77b4;\" x=\"277.532523\" xlink:href=\"#m3beaf48143\" y=\"229.871822\"/>\r\n     <use style=\"fill:#ffffff;stroke:#1f77b4;\" x=\"278.14125\" xlink:href=\"#m3beaf48143\" y=\"229.872447\"/>\r\n     <use style=\"fill:#ffffff;stroke:#1f77b4;\" x=\"278.749977\" xlink:href=\"#m3beaf48143\" y=\"229.872975\"/>\r\n     <use style=\"fill:#ffffff;stroke:#1f77b4;\" x=\"279.358705\" xlink:href=\"#m3beaf48143\" y=\"229.873405\"/>\r\n     <use style=\"fill:#ffffff;stroke:#1f77b4;\" x=\"279.967432\" xlink:href=\"#m3beaf48143\" y=\"229.87378\"/>\r\n     <use style=\"fill:#ffffff;stroke:#1f77b4;\" x=\"280.576159\" xlink:href=\"#m3beaf48143\" y=\"229.868294\"/>\r\n     <use style=\"fill:#ffffff;stroke:#1f77b4;\" x=\"281.184886\" xlink:href=\"#m3beaf48143\" y=\"229.852529\"/>\r\n     <use style=\"fill:#ffffff;stroke:#1f77b4;\" x=\"281.793614\" xlink:href=\"#m3beaf48143\" y=\"229.857335\"/>\r\n     <use style=\"fill:#ffffff;stroke:#1f77b4;\" x=\"282.402341\" xlink:href=\"#m3beaf48143\" y=\"229.860918\"/>\r\n     <use style=\"fill:#ffffff;stroke:#1f77b4;\" x=\"283.011068\" xlink:href=\"#m3beaf48143\" y=\"229.863641\"/>\r\n     <use style=\"fill:#ffffff;stroke:#1f77b4;\" x=\"283.619795\" xlink:href=\"#m3beaf48143\" y=\"229.865752\"/>\r\n     <use style=\"fill:#ffffff;stroke:#1f77b4;\" x=\"284.228523\" xlink:href=\"#m3beaf48143\" y=\"229.867474\"/>\r\n     <use style=\"fill:#ffffff;stroke:#1f77b4;\" x=\"284.83725\" xlink:href=\"#m3beaf48143\" y=\"229.868835\"/>\r\n     <use style=\"fill:#ffffff;stroke:#1f77b4;\" x=\"285.445977\" xlink:href=\"#m3beaf48143\" y=\"229.869933\"/>\r\n     <use style=\"fill:#ffffff;stroke:#1f77b4;\" x=\"286.054705\" xlink:href=\"#m3beaf48143\" y=\"229.870877\"/>\r\n     <use style=\"fill:#ffffff;stroke:#1f77b4;\" x=\"286.663432\" xlink:href=\"#m3beaf48143\" y=\"229.871613\"/>\r\n     <use style=\"fill:#ffffff;stroke:#1f77b4;\" x=\"287.272159\" xlink:href=\"#m3beaf48143\" y=\"229.872211\"/>\r\n     <use style=\"fill:#ffffff;stroke:#1f77b4;\" x=\"287.880886\" xlink:href=\"#m3beaf48143\" y=\"229.872739\"/>\r\n     <use style=\"fill:#ffffff;stroke:#1f77b4;\" x=\"288.489614\" xlink:href=\"#m3beaf48143\" y=\"229.873169\"/>\r\n     <use style=\"fill:#ffffff;stroke:#1f77b4;\" x=\"289.098341\" xlink:href=\"#m3beaf48143\" y=\"229.873572\"/>\r\n     <use style=\"fill:#ffffff;stroke:#1f77b4;\" x=\"289.707068\" xlink:href=\"#m3beaf48143\" y=\"229.871558\"/>\r\n     <use style=\"fill:#ffffff;stroke:#1f77b4;\" x=\"290.315795\" xlink:href=\"#m3beaf48143\" y=\"229.85232\"/>\r\n     <use style=\"fill:#ffffff;stroke:#1f77b4;\" x=\"290.924523\" xlink:href=\"#m3beaf48143\" y=\"229.857154\"/>\r\n     <use style=\"fill:#ffffff;stroke:#1f77b4;\" x=\"291.53325\" xlink:href=\"#m3beaf48143\" y=\"229.860696\"/>\r\n     <use style=\"fill:#ffffff;stroke:#1f77b4;\" x=\"292.141977\" xlink:href=\"#m3beaf48143\" y=\"229.863405\"/>\r\n     <use style=\"fill:#ffffff;stroke:#1f77b4;\" x=\"292.750705\" xlink:href=\"#m3beaf48143\" y=\"229.865544\"/>\r\n     <use style=\"fill:#ffffff;stroke:#1f77b4;\" x=\"293.359432\" xlink:href=\"#m3beaf48143\" y=\"229.867266\"/>\r\n     <use style=\"fill:#ffffff;stroke:#1f77b4;\" x=\"293.968159\" xlink:href=\"#m3beaf48143\" y=\"229.868641\"/>\r\n     <use style=\"fill:#ffffff;stroke:#1f77b4;\" x=\"294.576886\" xlink:href=\"#m3beaf48143\" y=\"229.869752\"/>\r\n     <use style=\"fill:#ffffff;stroke:#1f77b4;\" x=\"295.185614\" xlink:href=\"#m3beaf48143\" y=\"229.870669\"/>\r\n     <use style=\"fill:#ffffff;stroke:#1f77b4;\" x=\"295.794341\" xlink:href=\"#m3beaf48143\" y=\"229.871405\"/>\r\n     <use style=\"fill:#ffffff;stroke:#1f77b4;\" x=\"296.403068\" xlink:href=\"#m3beaf48143\" y=\"229.87203\"/>\r\n     <use style=\"fill:#ffffff;stroke:#1f77b4;\" x=\"297.011795\" xlink:href=\"#m3beaf48143\" y=\"229.872558\"/>\r\n     <use style=\"fill:#ffffff;stroke:#1f77b4;\" x=\"297.620523\" xlink:href=\"#m3beaf48143\" y=\"229.872975\"/>\r\n     <use style=\"fill:#ffffff;stroke:#1f77b4;\" x=\"298.22925\" xlink:href=\"#m3beaf48143\" y=\"229.873377\"/>\r\n     <use style=\"fill:#ffffff;stroke:#1f77b4;\" x=\"298.837977\" xlink:href=\"#m3beaf48143\" y=\"229.873697\"/>\r\n     <use style=\"fill:#ffffff;stroke:#1f77b4;\" x=\"299.446705\" xlink:href=\"#m3beaf48143\" y=\"229.866516\"/>\r\n     <use style=\"fill:#ffffff;stroke:#1f77b4;\" x=\"300.055432\" xlink:href=\"#m3beaf48143\" y=\"229.852973\"/>\r\n     <use style=\"fill:#ffffff;stroke:#1f77b4;\" x=\"300.664159\" xlink:href=\"#m3beaf48143\" y=\"229.857654\"/>\r\n     <use style=\"fill:#ffffff;stroke:#1f77b4;\" x=\"301.272886\" xlink:href=\"#m3beaf48143\" y=\"229.861057\"/>\r\n     <use style=\"fill:#ffffff;stroke:#1f77b4;\" x=\"301.881614\" xlink:href=\"#m3beaf48143\" y=\"229.86371\"/>\r\n     <use style=\"fill:#ffffff;stroke:#1f77b4;\" x=\"302.490341\" xlink:href=\"#m3beaf48143\" y=\"229.865794\"/>\r\n     <use style=\"fill:#ffffff;stroke:#1f77b4;\" x=\"303.099068\" xlink:href=\"#m3beaf48143\" y=\"229.867419\"/>\r\n     <use style=\"fill:#ffffff;stroke:#1f77b4;\" x=\"303.707795\" xlink:href=\"#m3beaf48143\" y=\"229.868752\"/>\r\n     <use style=\"fill:#ffffff;stroke:#1f77b4;\" x=\"304.316523\" xlink:href=\"#m3beaf48143\" y=\"229.869849\"/>\r\n     <use style=\"fill:#ffffff;stroke:#1f77b4;\" x=\"304.92525\" xlink:href=\"#m3beaf48143\" y=\"229.870697\"/>\r\n     <use style=\"fill:#ffffff;stroke:#1f77b4;\" x=\"305.533977\" xlink:href=\"#m3beaf48143\" y=\"229.871433\"/>\r\n     <use style=\"fill:#ffffff;stroke:#1f77b4;\" x=\"306.142705\" xlink:href=\"#m3beaf48143\" y=\"229.872044\"/>\r\n     <use style=\"fill:#ffffff;stroke:#1f77b4;\" x=\"306.751432\" xlink:href=\"#m3beaf48143\" y=\"229.872558\"/>\r\n     <use style=\"fill:#ffffff;stroke:#1f77b4;\" x=\"307.360159\" xlink:href=\"#m3beaf48143\" y=\"229.873002\"/>\r\n     <use style=\"fill:#ffffff;stroke:#1f77b4;\" x=\"307.968886\" xlink:href=\"#m3beaf48143\" y=\"229.873364\"/>\r\n     <use style=\"fill:#ffffff;stroke:#1f77b4;\" x=\"308.577614\" xlink:href=\"#m3beaf48143\" y=\"229.873683\"/>\r\n     <use style=\"fill:#ffffff;stroke:#1f77b4;\" x=\"309.186341\" xlink:href=\"#m3beaf48143\" y=\"229.86628\"/>\r\n     <use style=\"fill:#ffffff;stroke:#1f77b4;\" x=\"309.795068\" xlink:href=\"#m3beaf48143\" y=\"229.853015\"/>\r\n     <use style=\"fill:#ffffff;stroke:#1f77b4;\" x=\"310.403795\" xlink:href=\"#m3beaf48143\" y=\"229.857696\"/>\r\n     <use style=\"fill:#ffffff;stroke:#1f77b4;\" x=\"311.012523\" xlink:href=\"#m3beaf48143\" y=\"229.861099\"/>\r\n     <use style=\"fill:#ffffff;stroke:#1f77b4;\" x=\"311.62125\" xlink:href=\"#m3beaf48143\" y=\"229.863724\"/>\r\n     <use style=\"fill:#ffffff;stroke:#1f77b4;\" x=\"312.229977\" xlink:href=\"#m3beaf48143\" y=\"229.865794\"/>\r\n     <use style=\"fill:#ffffff;stroke:#1f77b4;\" x=\"312.838705\" xlink:href=\"#m3beaf48143\" y=\"229.867419\"/>\r\n     <use style=\"fill:#ffffff;stroke:#1f77b4;\" x=\"313.447432\" xlink:href=\"#m3beaf48143\" y=\"229.868752\"/>\r\n     <use style=\"fill:#ffffff;stroke:#1f77b4;\" x=\"314.056159\" xlink:href=\"#m3beaf48143\" y=\"229.869836\"/>\r\n     <use style=\"fill:#ffffff;stroke:#1f77b4;\" x=\"314.664886\" xlink:href=\"#m3beaf48143\" y=\"229.870697\"/>\r\n     <use style=\"fill:#ffffff;stroke:#1f77b4;\" x=\"315.273614\" xlink:href=\"#m3beaf48143\" y=\"229.871405\"/>\r\n     <use style=\"fill:#ffffff;stroke:#1f77b4;\" x=\"315.882341\" xlink:href=\"#m3beaf48143\" y=\"229.872016\"/>\r\n     <use style=\"fill:#ffffff;stroke:#1f77b4;\" x=\"316.491068\" xlink:href=\"#m3beaf48143\" y=\"229.87253\"/>\r\n     <use style=\"fill:#ffffff;stroke:#1f77b4;\" x=\"317.099795\" xlink:href=\"#m3beaf48143\" y=\"229.872975\"/>\r\n     <use style=\"fill:#ffffff;stroke:#1f77b4;\" x=\"317.708523\" xlink:href=\"#m3beaf48143\" y=\"229.873336\"/>\r\n     <use style=\"fill:#ffffff;stroke:#1f77b4;\" x=\"318.31725\" xlink:href=\"#m3beaf48143\" y=\"229.873655\"/>\r\n     <use style=\"fill:#ffffff;stroke:#1f77b4;\" x=\"318.925977\" xlink:href=\"#m3beaf48143\" y=\"229.86671\"/>\r\n     <use style=\"fill:#ffffff;stroke:#1f77b4;\" x=\"319.534705\" xlink:href=\"#m3beaf48143\" y=\"229.853001\"/>\r\n     <use style=\"fill:#ffffff;stroke:#1f77b4;\" x=\"320.143432\" xlink:href=\"#m3beaf48143\" y=\"229.857668\"/>\r\n     <use style=\"fill:#ffffff;stroke:#1f77b4;\" x=\"320.752159\" xlink:href=\"#m3beaf48143\" y=\"229.861057\"/>\r\n     <use style=\"fill:#ffffff;stroke:#1f77b4;\" x=\"321.360886\" xlink:href=\"#m3beaf48143\" y=\"229.863682\"/>\r\n     <use style=\"fill:#ffffff;stroke:#1f77b4;\" x=\"321.969614\" xlink:href=\"#m3beaf48143\" y=\"229.865752\"/>\r\n     <use style=\"fill:#ffffff;stroke:#1f77b4;\" x=\"322.578341\" xlink:href=\"#m3beaf48143\" y=\"229.867391\"/>\r\n     <use style=\"fill:#ffffff;stroke:#1f77b4;\" x=\"323.187068\" xlink:href=\"#m3beaf48143\" y=\"229.868697\"/>\r\n     <use style=\"fill:#ffffff;stroke:#1f77b4;\" x=\"323.795795\" xlink:href=\"#m3beaf48143\" y=\"229.86978\"/>\r\n     <use style=\"fill:#ffffff;stroke:#1f77b4;\" x=\"324.404523\" xlink:href=\"#m3beaf48143\" y=\"229.870669\"/>\r\n     <use style=\"fill:#ffffff;stroke:#1f77b4;\" x=\"325.01325\" xlink:href=\"#m3beaf48143\" y=\"229.871391\"/>\r\n     <use style=\"fill:#ffffff;stroke:#1f77b4;\" x=\"325.621977\" xlink:href=\"#m3beaf48143\" y=\"229.872002\"/>\r\n     <use style=\"fill:#ffffff;stroke:#1f77b4;\" x=\"326.230705\" xlink:href=\"#m3beaf48143\" y=\"229.872502\"/>\r\n     <use style=\"fill:#ffffff;stroke:#1f77b4;\" x=\"326.839432\" xlink:href=\"#m3beaf48143\" y=\"229.872933\"/>\r\n     <use style=\"fill:#ffffff;stroke:#1f77b4;\" x=\"327.448159\" xlink:href=\"#m3beaf48143\" y=\"229.873308\"/>\r\n     <use style=\"fill:#ffffff;stroke:#1f77b4;\" x=\"328.056886\" xlink:href=\"#m3beaf48143\" y=\"229.873627\"/>\r\n     <use style=\"fill:#ffffff;stroke:#1f77b4;\" x=\"328.665614\" xlink:href=\"#m3beaf48143\" y=\"229.867155\"/>\r\n     <use style=\"fill:#ffffff;stroke:#1f77b4;\" x=\"329.274341\" xlink:href=\"#m3beaf48143\" y=\"229.852973\"/>\r\n     <use style=\"fill:#ffffff;stroke:#1f77b4;\" x=\"329.883068\" xlink:href=\"#m3beaf48143\" y=\"229.857626\"/>\r\n     <use style=\"fill:#ffffff;stroke:#1f77b4;\" x=\"330.491795\" xlink:href=\"#m3beaf48143\" y=\"229.861029\"/>\r\n     <use style=\"fill:#ffffff;stroke:#1f77b4;\" x=\"331.100523\" xlink:href=\"#m3beaf48143\" y=\"229.863668\"/>\r\n     <use style=\"fill:#ffffff;stroke:#1f77b4;\" x=\"331.70925\" xlink:href=\"#m3beaf48143\" y=\"229.86571\"/>\r\n     <use style=\"fill:#ffffff;stroke:#1f77b4;\" x=\"332.317977\" xlink:href=\"#m3beaf48143\" y=\"229.867377\"/>\r\n     <use style=\"fill:#ffffff;stroke:#1f77b4;\" x=\"332.926705\" xlink:href=\"#m3beaf48143\" y=\"229.868697\"/>\r\n     <use style=\"fill:#ffffff;stroke:#1f77b4;\" x=\"333.535432\" xlink:href=\"#m3beaf48143\" y=\"229.869752\"/>\r\n     <use style=\"fill:#ffffff;stroke:#1f77b4;\" x=\"334.144159\" xlink:href=\"#m3beaf48143\" y=\"229.870641\"/>\r\n     <use style=\"fill:#ffffff;stroke:#1f77b4;\" x=\"334.752886\" xlink:href=\"#m3beaf48143\" y=\"229.871363\"/>\r\n     <use style=\"fill:#ffffff;stroke:#1f77b4;\" x=\"335.361614\" xlink:href=\"#m3beaf48143\" y=\"229.871933\"/>\r\n     <use style=\"fill:#ffffff;stroke:#1f77b4;\" x=\"335.970341\" xlink:href=\"#m3beaf48143\" y=\"229.872461\"/>\r\n     <use style=\"fill:#ffffff;stroke:#1f77b4;\" x=\"336.579068\" xlink:href=\"#m3beaf48143\" y=\"229.872919\"/>\r\n     <use style=\"fill:#ffffff;stroke:#1f77b4;\" x=\"337.187795\" xlink:href=\"#m3beaf48143\" y=\"229.873266\"/>\r\n     <use style=\"fill:#ffffff;stroke:#1f77b4;\" x=\"337.796523\" xlink:href=\"#m3beaf48143\" y=\"229.8736\"/>\r\n     <use style=\"fill:#ffffff;stroke:#1f77b4;\" x=\"338.40525\" xlink:href=\"#m3beaf48143\" y=\"229.867585\"/>\r\n     <use style=\"fill:#ffffff;stroke:#1f77b4;\" x=\"339.013977\" xlink:href=\"#m3beaf48143\" y=\"229.852945\"/>\r\n     <use style=\"fill:#ffffff;stroke:#1f77b4;\" x=\"339.622705\" xlink:href=\"#m3beaf48143\" y=\"229.857599\"/>\r\n     <use style=\"fill:#ffffff;stroke:#1f77b4;\" x=\"340.231432\" xlink:href=\"#m3beaf48143\" y=\"229.861002\"/>\r\n     <use style=\"fill:#ffffff;stroke:#1f77b4;\" x=\"340.840159\" xlink:href=\"#m3beaf48143\" y=\"229.863641\"/>\r\n     <use style=\"fill:#ffffff;stroke:#1f77b4;\" x=\"341.448886\" xlink:href=\"#m3beaf48143\" y=\"229.865696\"/>\r\n     <use style=\"fill:#ffffff;stroke:#1f77b4;\" x=\"342.057614\" xlink:href=\"#m3beaf48143\" y=\"229.867335\"/>\r\n     <use style=\"fill:#ffffff;stroke:#1f77b4;\" x=\"342.666341\" xlink:href=\"#m3beaf48143\" y=\"229.868683\"/>\r\n     <use style=\"fill:#ffffff;stroke:#1f77b4;\" x=\"343.275068\" xlink:href=\"#m3beaf48143\" y=\"229.869724\"/>\r\n     <use style=\"fill:#ffffff;stroke:#1f77b4;\" x=\"343.883795\" xlink:href=\"#m3beaf48143\" y=\"229.870641\"/>\r\n     <use style=\"fill:#ffffff;stroke:#1f77b4;\" x=\"344.492523\" xlink:href=\"#m3beaf48143\" y=\"229.871322\"/>\r\n     <use style=\"fill:#ffffff;stroke:#1f77b4;\" x=\"345.10125\" xlink:href=\"#m3beaf48143\" y=\"229.871933\"/>\r\n     <use style=\"fill:#ffffff;stroke:#1f77b4;\" x=\"345.709977\" xlink:href=\"#m3beaf48143\" y=\"229.872447\"/>\r\n     <use style=\"fill:#ffffff;stroke:#1f77b4;\" x=\"346.318705\" xlink:href=\"#m3beaf48143\" y=\"229.872864\"/>\r\n     <use style=\"fill:#ffffff;stroke:#1f77b4;\" x=\"346.927432\" xlink:href=\"#m3beaf48143\" y=\"229.873225\"/>\r\n     <use style=\"fill:#ffffff;stroke:#1f77b4;\" x=\"347.536159\" xlink:href=\"#m3beaf48143\" y=\"229.873572\"/>\r\n     <use style=\"fill:#ffffff;stroke:#1f77b4;\" x=\"348.144886\" xlink:href=\"#m3beaf48143\" y=\"229.867947\"/>\r\n     <use style=\"fill:#ffffff;stroke:#1f77b4;\" x=\"348.753614\" xlink:href=\"#m3beaf48143\" y=\"229.852932\"/>\r\n     <use style=\"fill:#ffffff;stroke:#1f77b4;\" x=\"349.362341\" xlink:href=\"#m3beaf48143\" y=\"229.857585\"/>\r\n     <use style=\"fill:#ffffff;stroke:#1f77b4;\" x=\"349.971068\" xlink:href=\"#m3beaf48143\" y=\"229.860974\"/>\r\n     <use style=\"fill:#ffffff;stroke:#1f77b4;\" x=\"350.579795\" xlink:href=\"#m3beaf48143\" y=\"229.863613\"/>\r\n     <use style=\"fill:#ffffff;stroke:#1f77b4;\" x=\"351.188523\" xlink:href=\"#m3beaf48143\" y=\"229.865655\"/>\r\n     <use style=\"fill:#ffffff;stroke:#1f77b4;\" x=\"351.79725\" xlink:href=\"#m3beaf48143\" y=\"229.867321\"/>\r\n     <use style=\"fill:#ffffff;stroke:#1f77b4;\" x=\"352.405977\" xlink:href=\"#m3beaf48143\" y=\"229.868655\"/>\r\n     <use style=\"fill:#ffffff;stroke:#1f77b4;\" x=\"353.014705\" xlink:href=\"#m3beaf48143\" y=\"229.869697\"/>\r\n     <use style=\"fill:#ffffff;stroke:#1f77b4;\" x=\"353.623432\" xlink:href=\"#m3beaf48143\" y=\"229.870586\"/>\r\n     <use style=\"fill:#ffffff;stroke:#1f77b4;\" x=\"354.232159\" xlink:href=\"#m3beaf48143\" y=\"229.871308\"/>\r\n     <use style=\"fill:#ffffff;stroke:#1f77b4;\" x=\"354.840886\" xlink:href=\"#m3beaf48143\" y=\"229.871905\"/>\r\n     <use style=\"fill:#ffffff;stroke:#1f77b4;\" x=\"355.449614\" xlink:href=\"#m3beaf48143\" y=\"229.872447\"/>\r\n     <use style=\"fill:#ffffff;stroke:#1f77b4;\" x=\"356.058341\" xlink:href=\"#m3beaf48143\" y=\"229.872836\"/>\r\n     <use style=\"fill:#ffffff;stroke:#1f77b4;\" x=\"356.667068\" xlink:href=\"#m3beaf48143\" y=\"229.873225\"/>\r\n     <use style=\"fill:#ffffff;stroke:#1f77b4;\" x=\"357.275795\" xlink:href=\"#m3beaf48143\" y=\"229.873558\"/>\r\n     <use style=\"fill:#ffffff;stroke:#1f77b4;\" x=\"357.884523\" xlink:href=\"#m3beaf48143\" y=\"229.868294\"/>\r\n     <use style=\"fill:#ffffff;stroke:#1f77b4;\" x=\"358.49325\" xlink:href=\"#m3beaf48143\" y=\"229.852918\"/>\r\n     <use style=\"fill:#ffffff;stroke:#1f77b4;\" x=\"359.101977\" xlink:href=\"#m3beaf48143\" y=\"229.857571\"/>\r\n     <use style=\"fill:#ffffff;stroke:#1f77b4;\" x=\"359.710705\" xlink:href=\"#m3beaf48143\" y=\"229.860974\"/>\r\n     <use style=\"fill:#ffffff;stroke:#1f77b4;\" x=\"360.319432\" xlink:href=\"#m3beaf48143\" y=\"229.863585\"/>\r\n     <use style=\"fill:#ffffff;stroke:#1f77b4;\" x=\"360.928159\" xlink:href=\"#m3beaf48143\" y=\"229.865641\"/>\r\n     <use style=\"fill:#ffffff;stroke:#1f77b4;\" x=\"361.536886\" xlink:href=\"#m3beaf48143\" y=\"229.86728\"/>\r\n     <use style=\"fill:#ffffff;stroke:#1f77b4;\" x=\"362.145614\" xlink:href=\"#m3beaf48143\" y=\"229.868599\"/>\r\n     <use style=\"fill:#ffffff;stroke:#1f77b4;\" x=\"362.754341\" xlink:href=\"#m3beaf48143\" y=\"229.869669\"/>\r\n    </g>\r\n   </g>\r\n   <g id=\"line2d_13\">\r\n    <defs>\r\n     <path d=\"M 0 3 \r\nC 0.795609 3 1.55874 2.683901 2.12132 2.12132 \r\nC 2.683901 1.55874 3 0.795609 3 0 \r\nC 3 -0.795609 2.683901 -1.55874 2.12132 -2.12132 \r\nC 1.55874 -2.683901 0.795609 -3 0 -3 \r\nC -0.795609 -3 -1.55874 -2.683901 -2.12132 -2.12132 \r\nC -2.683901 -1.55874 -3 -0.795609 -3 0 \r\nC -3 0.795609 -2.683901 1.55874 -2.12132 2.12132 \r\nC -1.55874 2.683901 -0.795609 3 0 3 \r\nz\r\n\" id=\"m8b36a11acb\" style=\"stroke:#ff0000;\"/>\r\n    </defs>\r\n    <g clip-path=\"url(#pb30f922cde)\">\r\n     <use style=\"fill:#ff0000;stroke:#ff0000;\" x=\"363.363068\" xlink:href=\"#m8b36a11acb\" y=\"229.870572\"/>\r\n    </g>\r\n   </g>\r\n   <g id=\"patch_3\">\r\n    <path d=\"M 43.78125 239.758125 \r\nL 43.78125 22.318125 \r\n\" style=\"fill:none;stroke:#000000;stroke-linecap:square;stroke-linejoin:miter;stroke-width:0.8;\"/>\r\n   </g>\r\n   <g id=\"patch_4\">\r\n    <path d=\"M 378.58125 239.758125 \r\nL 378.58125 22.318125 \r\n\" style=\"fill:none;stroke:#000000;stroke-linecap:square;stroke-linejoin:miter;stroke-width:0.8;\"/>\r\n   </g>\r\n   <g id=\"patch_5\">\r\n    <path d=\"M 43.78125 239.758125 \r\nL 378.58125 239.758125 \r\n\" style=\"fill:none;stroke:#000000;stroke-linecap:square;stroke-linejoin:miter;stroke-width:0.8;\"/>\r\n   </g>\r\n   <g id=\"patch_6\">\r\n    <path d=\"M 43.78125 22.318125 \r\nL 378.58125 22.318125 \r\n\" style=\"fill:none;stroke:#000000;stroke-linecap:square;stroke-linejoin:miter;stroke-width:0.8;\"/>\r\n   </g>\r\n   <g id=\"text_14\">\r\n    <!-- Final loss = 0.72806 -->\r\n    <g transform=\"translate(150.2025 16.318125)scale(0.12 -0.12)\">\r\n     <defs>\r\n      <path d=\"M 628 4666 \r\nL 3309 4666 \r\nL 3309 4134 \r\nL 1259 4134 \r\nL 1259 2759 \r\nL 3109 2759 \r\nL 3109 2228 \r\nL 1259 2228 \r\nL 1259 0 \r\nL 628 0 \r\nL 628 4666 \r\nz\r\n\" id=\"DejaVuSans-46\" transform=\"scale(0.015625)\"/>\r\n      <path d=\"M 603 3500 \r\nL 1178 3500 \r\nL 1178 0 \r\nL 603 0 \r\nL 603 3500 \r\nz\r\nM 603 4863 \r\nL 1178 4863 \r\nL 1178 4134 \r\nL 603 4134 \r\nL 603 4863 \r\nz\r\n\" id=\"DejaVuSans-69\" transform=\"scale(0.015625)\"/>\r\n      <path d=\"M 3513 2113 \r\nL 3513 0 \r\nL 2938 0 \r\nL 2938 2094 \r\nQ 2938 2591 2744 2837 \r\nQ 2550 3084 2163 3084 \r\nQ 1697 3084 1428 2787 \r\nQ 1159 2491 1159 1978 \r\nL 1159 0 \r\nL 581 0 \r\nL 581 3500 \r\nL 1159 3500 \r\nL 1159 2956 \r\nQ 1366 3272 1645 3428 \r\nQ 1925 3584 2291 3584 \r\nQ 2894 3584 3203 3211 \r\nQ 3513 2838 3513 2113 \r\nz\r\n\" id=\"DejaVuSans-6e\" transform=\"scale(0.015625)\"/>\r\n      <path d=\"M 2194 1759 \r\nQ 1497 1759 1228 1600 \r\nQ 959 1441 959 1056 \r\nQ 959 750 1161 570 \r\nQ 1363 391 1709 391 \r\nQ 2188 391 2477 730 \r\nQ 2766 1069 2766 1631 \r\nL 2766 1759 \r\nL 2194 1759 \r\nz\r\nM 3341 1997 \r\nL 3341 0 \r\nL 2766 0 \r\nL 2766 531 \r\nQ 2569 213 2275 61 \r\nQ 1981 -91 1556 -91 \r\nQ 1019 -91 701 211 \r\nQ 384 513 384 1019 \r\nQ 384 1609 779 1909 \r\nQ 1175 2209 1959 2209 \r\nL 2766 2209 \r\nL 2766 2266 \r\nQ 2766 2663 2505 2880 \r\nQ 2244 3097 1772 3097 \r\nQ 1472 3097 1187 3025 \r\nQ 903 2953 641 2809 \r\nL 641 3341 \r\nQ 956 3463 1253 3523 \r\nQ 1550 3584 1831 3584 \r\nQ 2591 3584 2966 3190 \r\nQ 3341 2797 3341 1997 \r\nz\r\n\" id=\"DejaVuSans-61\" transform=\"scale(0.015625)\"/>\r\n      <path d=\"M 603 4863 \r\nL 1178 4863 \r\nL 1178 0 \r\nL 603 0 \r\nL 603 4863 \r\nz\r\n\" id=\"DejaVuSans-6c\" transform=\"scale(0.015625)\"/>\r\n      <path id=\"DejaVuSans-20\" transform=\"scale(0.015625)\"/>\r\n      <path d=\"M 678 2906 \r\nL 4684 2906 \r\nL 4684 2381 \r\nL 678 2381 \r\nL 678 2906 \r\nz\r\nM 678 1631 \r\nL 4684 1631 \r\nL 4684 1100 \r\nL 678 1100 \r\nL 678 1631 \r\nz\r\n\" id=\"DejaVuSans-3d\" transform=\"scale(0.015625)\"/>\r\n      <path d=\"M 525 4666 \r\nL 3525 4666 \r\nL 3525 4397 \r\nL 1831 0 \r\nL 1172 0 \r\nL 2766 4134 \r\nL 525 4134 \r\nL 525 4666 \r\nz\r\n\" id=\"DejaVuSans-37\" transform=\"scale(0.015625)\"/>\r\n     </defs>\r\n     <use xlink:href=\"#DejaVuSans-46\"/>\r\n     <use x=\"50.269531\" xlink:href=\"#DejaVuSans-69\"/>\r\n     <use x=\"78.052734\" xlink:href=\"#DejaVuSans-6e\"/>\r\n     <use x=\"141.431641\" xlink:href=\"#DejaVuSans-61\"/>\r\n     <use x=\"202.710938\" xlink:href=\"#DejaVuSans-6c\"/>\r\n     <use x=\"230.494141\" xlink:href=\"#DejaVuSans-20\"/>\r\n     <use x=\"262.28125\" xlink:href=\"#DejaVuSans-6c\"/>\r\n     <use x=\"290.064453\" xlink:href=\"#DejaVuSans-6f\"/>\r\n     <use x=\"351.246094\" xlink:href=\"#DejaVuSans-73\"/>\r\n     <use x=\"403.345703\" xlink:href=\"#DejaVuSans-73\"/>\r\n     <use x=\"455.445312\" xlink:href=\"#DejaVuSans-20\"/>\r\n     <use x=\"487.232422\" xlink:href=\"#DejaVuSans-3d\"/>\r\n     <use x=\"571.021484\" xlink:href=\"#DejaVuSans-20\"/>\r\n     <use x=\"602.808594\" xlink:href=\"#DejaVuSans-30\"/>\r\n     <use x=\"666.431641\" xlink:href=\"#DejaVuSans-2e\"/>\r\n     <use x=\"698.21875\" xlink:href=\"#DejaVuSans-37\"/>\r\n     <use x=\"761.841797\" xlink:href=\"#DejaVuSans-32\"/>\r\n     <use x=\"825.464844\" xlink:href=\"#DejaVuSans-38\"/>\r\n     <use x=\"889.087891\" xlink:href=\"#DejaVuSans-30\"/>\r\n     <use x=\"952.710938\" xlink:href=\"#DejaVuSans-36\"/>\r\n    </g>\r\n   </g>\r\n  </g>\r\n </g>\r\n <defs>\r\n  <clipPath id=\"pb30f922cde\">\r\n   <rect height=\"217.44\" width=\"334.8\" x=\"43.78125\" y=\"22.318125\"/>\r\n  </clipPath>\r\n </defs>\r\n</svg>\r\n"
     },
     "metadata": {
      "needs_background": "light"
     },
     "output_type": "display_data"
    }
   ]
  },
  {
   "cell_type": "code",
   "metadata": {
    "id": "Lv_-DTq1LlDH",
    "pycharm": {
     "name": "#%%\n"
    }
   },
   "source": [
    "testloss.item()"
   ],
   "execution_count": null,
   "outputs": []
  },
  {
   "cell_type": "code",
   "metadata": {
    "id": "i1TCt0mpMNxC",
    "pycharm": {
     "name": "#%%\n"
    }
   },
   "source": [
    "# plot the data\n",
    "plt.plot(x,y,'bo',label='Real data')\n",
    "plt.plot(x,predictions.detach(),'rs',label='Predictions')\n",
    "plt.title(f'prediction-data r={np.corrcoef(y.T,predictions.detach().T)[0,1]:.2f}')\n",
    "plt.legend()\n",
    "plt.show()"
   ],
   "execution_count": 25,
   "outputs": [
    {
     "data": {
      "text/plain": "<Figure size 432x288 with 1 Axes>",
      "image/svg+xml": "<?xml version=\"1.0\" encoding=\"utf-8\" standalone=\"no\"?>\r\n<!DOCTYPE svg PUBLIC \"-//W3C//DTD SVG 1.1//EN\"\r\n  \"http://www.w3.org/Graphics/SVG/1.1/DTD/svg11.dtd\">\r\n<svg height=\"263.63625pt\" version=\"1.1\" viewBox=\"0 0 370.942187 263.63625\" width=\"370.942187pt\" xmlns=\"http://www.w3.org/2000/svg\" xmlns:xlink=\"http://www.w3.org/1999/xlink\">\r\n <metadata>\r\n  <rdf:RDF xmlns:cc=\"http://creativecommons.org/ns#\" xmlns:dc=\"http://purl.org/dc/elements/1.1/\" xmlns:rdf=\"http://www.w3.org/1999/02/22-rdf-syntax-ns#\">\r\n   <cc:Work>\r\n    <dc:type rdf:resource=\"http://purl.org/dc/dcmitype/StillImage\"/>\r\n    <dc:date>2024-03-29T19:36:30.639851</dc:date>\r\n    <dc:format>image/svg+xml</dc:format>\r\n    <dc:creator>\r\n     <cc:Agent>\r\n      <dc:title>Matplotlib v3.4.2, https://matplotlib.org/</dc:title>\r\n     </cc:Agent>\r\n    </dc:creator>\r\n   </cc:Work>\r\n  </rdf:RDF>\r\n </metadata>\r\n <defs>\r\n  <style type=\"text/css\">*{stroke-linecap:butt;stroke-linejoin:round;}</style>\r\n </defs>\r\n <g id=\"figure_1\">\r\n  <g id=\"patch_1\">\r\n   <path d=\"M 0 263.63625 \r\nL 370.942187 263.63625 \r\nL 370.942187 0 \r\nL 0 0 \r\nz\r\n\" style=\"fill:none;\"/>\r\n  </g>\r\n  <g id=\"axes_1\">\r\n   <g id=\"patch_2\">\r\n    <path d=\"M 28.942188 239.758125 \r\nL 363.742188 239.758125 \r\nL 363.742188 22.318125 \r\nL 28.942188 22.318125 \r\nz\r\n\" style=\"fill:#ffffff;\"/>\r\n   </g>\r\n   <g id=\"matplotlib.axis_1\">\r\n    <g id=\"xtick_1\">\r\n     <g id=\"line2d_1\">\r\n      <defs>\r\n       <path d=\"M 0 0 \r\nL 0 3.5 \r\n\" id=\"mb4a7a76dd9\" style=\"stroke:#000000;stroke-width:0.8;\"/>\r\n      </defs>\r\n      <g>\r\n       <use style=\"stroke:#000000;stroke-width:0.8;\" x=\"32.427505\" xlink:href=\"#mb4a7a76dd9\" y=\"239.758125\"/>\r\n      </g>\r\n     </g>\r\n     <g id=\"text_1\">\r\n      <!-- −2.0 -->\r\n      <g transform=\"translate(20.286099 254.356563)scale(0.1 -0.1)\">\r\n       <defs>\r\n        <path d=\"M 678 2272 \r\nL 4684 2272 \r\nL 4684 1741 \r\nL 678 1741 \r\nL 678 2272 \r\nz\r\n\" id=\"DejaVuSans-2212\" transform=\"scale(0.015625)\"/>\r\n        <path d=\"M 1228 531 \r\nL 3431 531 \r\nL 3431 0 \r\nL 469 0 \r\nL 469 531 \r\nQ 828 903 1448 1529 \r\nQ 2069 2156 2228 2338 \r\nQ 2531 2678 2651 2914 \r\nQ 2772 3150 2772 3378 \r\nQ 2772 3750 2511 3984 \r\nQ 2250 4219 1831 4219 \r\nQ 1534 4219 1204 4116 \r\nQ 875 4013 500 3803 \r\nL 500 4441 \r\nQ 881 4594 1212 4672 \r\nQ 1544 4750 1819 4750 \r\nQ 2544 4750 2975 4387 \r\nQ 3406 4025 3406 3419 \r\nQ 3406 3131 3298 2873 \r\nQ 3191 2616 2906 2266 \r\nQ 2828 2175 2409 1742 \r\nQ 1991 1309 1228 531 \r\nz\r\n\" id=\"DejaVuSans-32\" transform=\"scale(0.015625)\"/>\r\n        <path d=\"M 684 794 \r\nL 1344 794 \r\nL 1344 0 \r\nL 684 0 \r\nL 684 794 \r\nz\r\n\" id=\"DejaVuSans-2e\" transform=\"scale(0.015625)\"/>\r\n        <path d=\"M 2034 4250 \r\nQ 1547 4250 1301 3770 \r\nQ 1056 3291 1056 2328 \r\nQ 1056 1369 1301 889 \r\nQ 1547 409 2034 409 \r\nQ 2525 409 2770 889 \r\nQ 3016 1369 3016 2328 \r\nQ 3016 3291 2770 3770 \r\nQ 2525 4250 2034 4250 \r\nz\r\nM 2034 4750 \r\nQ 2819 4750 3233 4129 \r\nQ 3647 3509 3647 2328 \r\nQ 3647 1150 3233 529 \r\nQ 2819 -91 2034 -91 \r\nQ 1250 -91 836 529 \r\nQ 422 1150 422 2328 \r\nQ 422 3509 836 4129 \r\nQ 1250 4750 2034 4750 \r\nz\r\n\" id=\"DejaVuSans-30\" transform=\"scale(0.015625)\"/>\r\n       </defs>\r\n       <use xlink:href=\"#DejaVuSans-2212\"/>\r\n       <use x=\"83.789062\" xlink:href=\"#DejaVuSans-32\"/>\r\n       <use x=\"147.412109\" xlink:href=\"#DejaVuSans-2e\"/>\r\n       <use x=\"179.199219\" xlink:href=\"#DejaVuSans-30\"/>\r\n      </g>\r\n     </g>\r\n    </g>\r\n    <g id=\"xtick_2\">\r\n     <g id=\"line2d_2\">\r\n      <g>\r\n       <use style=\"stroke:#000000;stroke-width:0.8;\" x=\"76.623161\" xlink:href=\"#mb4a7a76dd9\" y=\"239.758125\"/>\r\n      </g>\r\n     </g>\r\n     <g id=\"text_2\">\r\n      <!-- −1.5 -->\r\n      <g transform=\"translate(64.481755 254.356563)scale(0.1 -0.1)\">\r\n       <defs>\r\n        <path d=\"M 794 531 \r\nL 1825 531 \r\nL 1825 4091 \r\nL 703 3866 \r\nL 703 4441 \r\nL 1819 4666 \r\nL 2450 4666 \r\nL 2450 531 \r\nL 3481 531 \r\nL 3481 0 \r\nL 794 0 \r\nL 794 531 \r\nz\r\n\" id=\"DejaVuSans-31\" transform=\"scale(0.015625)\"/>\r\n        <path d=\"M 691 4666 \r\nL 3169 4666 \r\nL 3169 4134 \r\nL 1269 4134 \r\nL 1269 2991 \r\nQ 1406 3038 1543 3061 \r\nQ 1681 3084 1819 3084 \r\nQ 2600 3084 3056 2656 \r\nQ 3513 2228 3513 1497 \r\nQ 3513 744 3044 326 \r\nQ 2575 -91 1722 -91 \r\nQ 1428 -91 1123 -41 \r\nQ 819 9 494 109 \r\nL 494 744 \r\nQ 775 591 1075 516 \r\nQ 1375 441 1709 441 \r\nQ 2250 441 2565 725 \r\nQ 2881 1009 2881 1497 \r\nQ 2881 1984 2565 2268 \r\nQ 2250 2553 1709 2553 \r\nQ 1456 2553 1204 2497 \r\nQ 953 2441 691 2322 \r\nL 691 4666 \r\nz\r\n\" id=\"DejaVuSans-35\" transform=\"scale(0.015625)\"/>\r\n       </defs>\r\n       <use xlink:href=\"#DejaVuSans-2212\"/>\r\n       <use x=\"83.789062\" xlink:href=\"#DejaVuSans-31\"/>\r\n       <use x=\"147.412109\" xlink:href=\"#DejaVuSans-2e\"/>\r\n       <use x=\"179.199219\" xlink:href=\"#DejaVuSans-35\"/>\r\n      </g>\r\n     </g>\r\n    </g>\r\n    <g id=\"xtick_3\">\r\n     <g id=\"line2d_3\">\r\n      <g>\r\n       <use style=\"stroke:#000000;stroke-width:0.8;\" x=\"120.818818\" xlink:href=\"#mb4a7a76dd9\" y=\"239.758125\"/>\r\n      </g>\r\n     </g>\r\n     <g id=\"text_3\">\r\n      <!-- −1.0 -->\r\n      <g transform=\"translate(108.677412 254.356563)scale(0.1 -0.1)\">\r\n       <use xlink:href=\"#DejaVuSans-2212\"/>\r\n       <use x=\"83.789062\" xlink:href=\"#DejaVuSans-31\"/>\r\n       <use x=\"147.412109\" xlink:href=\"#DejaVuSans-2e\"/>\r\n       <use x=\"179.199219\" xlink:href=\"#DejaVuSans-30\"/>\r\n      </g>\r\n     </g>\r\n    </g>\r\n    <g id=\"xtick_4\">\r\n     <g id=\"line2d_4\">\r\n      <g>\r\n       <use style=\"stroke:#000000;stroke-width:0.8;\" x=\"165.014475\" xlink:href=\"#mb4a7a76dd9\" y=\"239.758125\"/>\r\n      </g>\r\n     </g>\r\n     <g id=\"text_4\">\r\n      <!-- −0.5 -->\r\n      <g transform=\"translate(152.873068 254.356563)scale(0.1 -0.1)\">\r\n       <use xlink:href=\"#DejaVuSans-2212\"/>\r\n       <use x=\"83.789062\" xlink:href=\"#DejaVuSans-30\"/>\r\n       <use x=\"147.412109\" xlink:href=\"#DejaVuSans-2e\"/>\r\n       <use x=\"179.199219\" xlink:href=\"#DejaVuSans-35\"/>\r\n      </g>\r\n     </g>\r\n    </g>\r\n    <g id=\"xtick_5\">\r\n     <g id=\"line2d_5\">\r\n      <g>\r\n       <use style=\"stroke:#000000;stroke-width:0.8;\" x=\"209.210131\" xlink:href=\"#mb4a7a76dd9\" y=\"239.758125\"/>\r\n      </g>\r\n     </g>\r\n     <g id=\"text_5\">\r\n      <!-- 0.0 -->\r\n      <g transform=\"translate(201.258569 254.356563)scale(0.1 -0.1)\">\r\n       <use xlink:href=\"#DejaVuSans-30\"/>\r\n       <use x=\"63.623047\" xlink:href=\"#DejaVuSans-2e\"/>\r\n       <use x=\"95.410156\" xlink:href=\"#DejaVuSans-30\"/>\r\n      </g>\r\n     </g>\r\n    </g>\r\n    <g id=\"xtick_6\">\r\n     <g id=\"line2d_6\">\r\n      <g>\r\n       <use style=\"stroke:#000000;stroke-width:0.8;\" x=\"253.405788\" xlink:href=\"#mb4a7a76dd9\" y=\"239.758125\"/>\r\n      </g>\r\n     </g>\r\n     <g id=\"text_6\">\r\n      <!-- 0.5 -->\r\n      <g transform=\"translate(245.454225 254.356563)scale(0.1 -0.1)\">\r\n       <use xlink:href=\"#DejaVuSans-30\"/>\r\n       <use x=\"63.623047\" xlink:href=\"#DejaVuSans-2e\"/>\r\n       <use x=\"95.410156\" xlink:href=\"#DejaVuSans-35\"/>\r\n      </g>\r\n     </g>\r\n    </g>\r\n    <g id=\"xtick_7\">\r\n     <g id=\"line2d_7\">\r\n      <g>\r\n       <use style=\"stroke:#000000;stroke-width:0.8;\" x=\"297.601444\" xlink:href=\"#mb4a7a76dd9\" y=\"239.758125\"/>\r\n      </g>\r\n     </g>\r\n     <g id=\"text_7\">\r\n      <!-- 1.0 -->\r\n      <g transform=\"translate(289.649882 254.356563)scale(0.1 -0.1)\">\r\n       <use xlink:href=\"#DejaVuSans-31\"/>\r\n       <use x=\"63.623047\" xlink:href=\"#DejaVuSans-2e\"/>\r\n       <use x=\"95.410156\" xlink:href=\"#DejaVuSans-30\"/>\r\n      </g>\r\n     </g>\r\n    </g>\r\n    <g id=\"xtick_8\">\r\n     <g id=\"line2d_8\">\r\n      <g>\r\n       <use style=\"stroke:#000000;stroke-width:0.8;\" x=\"341.797101\" xlink:href=\"#mb4a7a76dd9\" y=\"239.758125\"/>\r\n      </g>\r\n     </g>\r\n     <g id=\"text_8\">\r\n      <!-- 1.5 -->\r\n      <g transform=\"translate(333.845538 254.356563)scale(0.1 -0.1)\">\r\n       <use xlink:href=\"#DejaVuSans-31\"/>\r\n       <use x=\"63.623047\" xlink:href=\"#DejaVuSans-2e\"/>\r\n       <use x=\"95.410156\" xlink:href=\"#DejaVuSans-35\"/>\r\n      </g>\r\n     </g>\r\n    </g>\r\n   </g>\r\n   <g id=\"matplotlib.axis_2\">\r\n    <g id=\"ytick_1\">\r\n     <g id=\"line2d_9\">\r\n      <defs>\r\n       <path d=\"M 0 0 \r\nL -3.5 0 \r\n\" id=\"m6efb7877ba\" style=\"stroke:#000000;stroke-width:0.8;\"/>\r\n      </defs>\r\n      <g>\r\n       <use style=\"stroke:#000000;stroke-width:0.8;\" x=\"28.942188\" xlink:href=\"#m6efb7877ba\" y=\"209.629023\"/>\r\n      </g>\r\n     </g>\r\n     <g id=\"text_9\">\r\n      <!-- −2 -->\r\n      <g transform=\"translate(7.2 213.428241)scale(0.1 -0.1)\">\r\n       <use xlink:href=\"#DejaVuSans-2212\"/>\r\n       <use x=\"83.789062\" xlink:href=\"#DejaVuSans-32\"/>\r\n      </g>\r\n     </g>\r\n    </g>\r\n    <g id=\"ytick_2\">\r\n     <g id=\"line2d_10\">\r\n      <g>\r\n       <use style=\"stroke:#000000;stroke-width:0.8;\" x=\"28.942188\" xlink:href=\"#m6efb7877ba\" y=\"170.833536\"/>\r\n      </g>\r\n     </g>\r\n     <g id=\"text_10\">\r\n      <!-- −1 -->\r\n      <g transform=\"translate(7.2 174.632755)scale(0.1 -0.1)\">\r\n       <use xlink:href=\"#DejaVuSans-2212\"/>\r\n       <use x=\"83.789062\" xlink:href=\"#DejaVuSans-31\"/>\r\n      </g>\r\n     </g>\r\n    </g>\r\n    <g id=\"ytick_3\">\r\n     <g id=\"line2d_11\">\r\n      <g>\r\n       <use style=\"stroke:#000000;stroke-width:0.8;\" x=\"28.942188\" xlink:href=\"#m6efb7877ba\" y=\"132.038049\"/>\r\n      </g>\r\n     </g>\r\n     <g id=\"text_11\">\r\n      <!-- 0 -->\r\n      <g transform=\"translate(15.579688 135.837268)scale(0.1 -0.1)\">\r\n       <use xlink:href=\"#DejaVuSans-30\"/>\r\n      </g>\r\n     </g>\r\n    </g>\r\n    <g id=\"ytick_4\">\r\n     <g id=\"line2d_12\">\r\n      <g>\r\n       <use style=\"stroke:#000000;stroke-width:0.8;\" x=\"28.942188\" xlink:href=\"#m6efb7877ba\" y=\"93.242562\"/>\r\n      </g>\r\n     </g>\r\n     <g id=\"text_12\">\r\n      <!-- 1 -->\r\n      <g transform=\"translate(15.579688 97.041781)scale(0.1 -0.1)\">\r\n       <use xlink:href=\"#DejaVuSans-31\"/>\r\n      </g>\r\n     </g>\r\n    </g>\r\n    <g id=\"ytick_5\">\r\n     <g id=\"line2d_13\">\r\n      <g>\r\n       <use style=\"stroke:#000000;stroke-width:0.8;\" x=\"28.942188\" xlink:href=\"#m6efb7877ba\" y=\"54.447076\"/>\r\n      </g>\r\n     </g>\r\n     <g id=\"text_13\">\r\n      <!-- 2 -->\r\n      <g transform=\"translate(15.579688 58.246295)scale(0.1 -0.1)\">\r\n       <use xlink:href=\"#DejaVuSans-32\"/>\r\n      </g>\r\n     </g>\r\n    </g>\r\n   </g>\r\n   <g id=\"line2d_14\">\r\n    <defs>\r\n     <path d=\"M 0 3 \r\nC 0.795609 3 1.55874 2.683901 2.12132 2.12132 \r\nC 2.683901 1.55874 3 0.795609 3 0 \r\nC 3 -0.795609 2.683901 -1.55874 2.12132 -2.12132 \r\nC 1.55874 -2.683901 0.795609 -3 0 -3 \r\nC -0.795609 -3 -1.55874 -2.683901 -2.12132 -2.12132 \r\nC -2.683901 -1.55874 -3 -0.795609 -3 0 \r\nC -3 0.795609 -2.683901 1.55874 -2.12132 2.12132 \r\nC -1.55874 2.683901 -0.795609 3 0 3 \r\nz\r\n\" id=\"m7f52e64b65\" style=\"stroke:#0000ff;\"/>\r\n    </defs>\r\n    <g clip-path=\"url(#p7416ae3d29)\">\r\n     <use style=\"fill:#0000ff;stroke:#0000ff;\" x=\"187.270593\" xlink:href=\"#m7f52e64b65\" y=\"141.270776\"/>\r\n     <use style=\"fill:#0000ff;stroke:#0000ff;\" x=\"198.62941\" xlink:href=\"#m7f52e64b65\" y=\"180.341825\"/>\r\n     <use style=\"fill:#0000ff;stroke:#0000ff;\" x=\"327.190399\" xlink:href=\"#m7f52e64b65\" y=\"120.66138\"/>\r\n     <use style=\"fill:#0000ff;stroke:#0000ff;\" x=\"224.069801\" xlink:href=\"#m7f52e64b65\" y=\"94.583562\"/>\r\n     <use style=\"fill:#0000ff;stroke:#0000ff;\" x=\"192.646845\" xlink:href=\"#m7f52e64b65\" y=\"94.876429\"/>\r\n     <use style=\"fill:#0000ff;stroke:#0000ff;\" x=\"96.345851\" xlink:href=\"#m7f52e64b65\" y=\"151.939251\"/>\r\n     <use style=\"fill:#0000ff;stroke:#0000ff;\" x=\"275.832831\" xlink:href=\"#m7f52e64b65\" y=\"151.780485\"/>\r\n     <use style=\"fill:#0000ff;stroke:#0000ff;\" x=\"73.524526\" xlink:href=\"#m7f52e64b65\" y=\"229.874489\"/>\r\n     <use style=\"fill:#0000ff;stroke:#0000ff;\" x=\"275.028979\" xlink:href=\"#m7f52e64b65\" y=\"111.519899\"/>\r\n     <use style=\"fill:#0000ff;stroke:#0000ff;\" x=\"231.494128\" xlink:href=\"#m7f52e64b65\" y=\"147.240056\"/>\r\n     <use style=\"fill:#0000ff;stroke:#0000ff;\" x=\"124.192107\" xlink:href=\"#m7f52e64b65\" y=\"157.561608\"/>\r\n     <use style=\"fill:#0000ff;stroke:#0000ff;\" x=\"160.615992\" xlink:href=\"#m7f52e64b65\" y=\"170.587525\"/>\r\n     <use style=\"fill:#0000ff;stroke:#0000ff;\" x=\"140.773692\" xlink:href=\"#m7f52e64b65\" y=\"179.379237\"/>\r\n     <use style=\"fill:#0000ff;stroke:#0000ff;\" x=\"299.16898\" xlink:href=\"#m7f52e64b65\" y=\"99.397228\"/>\r\n     <use style=\"fill:#0000ff;stroke:#0000ff;\" x=\"295.817092\" xlink:href=\"#m7f52e64b65\" y=\"95.958697\"/>\r\n     <use style=\"fill:#0000ff;stroke:#0000ff;\" x=\"235.57309\" xlink:href=\"#m7f52e64b65\" y=\"76.887117\"/>\r\n     <use style=\"fill:#0000ff;stroke:#0000ff;\" x=\"340.630869\" xlink:href=\"#m7f52e64b65\" y=\"108.551358\"/>\r\n     <use style=\"fill:#0000ff;stroke:#0000ff;\" x=\"193.348436\" xlink:href=\"#m7f52e64b65\" y=\"148.072692\"/>\r\n     <use style=\"fill:#0000ff;stroke:#0000ff;\" x=\"254.33982\" xlink:href=\"#m7f52e64b65\" y=\"108.079662\"/>\r\n     <use style=\"fill:#0000ff;stroke:#0000ff;\" x=\"172.05914\" xlink:href=\"#m7f52e64b65\" y=\"175.998918\"/>\r\n     <use style=\"fill:#0000ff;stroke:#0000ff;\" x=\"348.524006\" xlink:href=\"#m7f52e64b65\" y=\"91.994491\"/>\r\n     <use style=\"fill:#0000ff;stroke:#0000ff;\" x=\"96.582092\" xlink:href=\"#m7f52e64b65\" y=\"207.317769\"/>\r\n     <use style=\"fill:#0000ff;stroke:#0000ff;\" x=\"275.331472\" xlink:href=\"#m7f52e64b65\" y=\"136.344274\"/>\r\n     <use style=\"fill:#0000ff;stroke:#0000ff;\" x=\"89.913225\" xlink:href=\"#m7f52e64b65\" y=\"169.336977\"/>\r\n     <use style=\"fill:#0000ff;stroke:#0000ff;\" x=\"247.894146\" xlink:href=\"#m7f52e64b65\" y=\"32.201761\"/>\r\n     <use style=\"fill:#0000ff;stroke:#0000ff;\" x=\"206.29582\" xlink:href=\"#m7f52e64b65\" y=\"154.803788\"/>\r\n     <use style=\"fill:#0000ff;stroke:#0000ff;\" x=\"44.160369\" xlink:href=\"#m7f52e64b65\" y=\"216.553478\"/>\r\n     <use style=\"fill:#0000ff;stroke:#0000ff;\" x=\"58.977296\" xlink:href=\"#m7f52e64b65\" y=\"120.895455\"/>\r\n     <use style=\"fill:#0000ff;stroke:#0000ff;\" x=\"244.436759\" xlink:href=\"#m7f52e64b65\" y=\"91.755977\"/>\r\n     <use style=\"fill:#0000ff;stroke:#0000ff;\" x=\"46.978634\" xlink:href=\"#m7f52e64b65\" y=\"227.8336\"/>\r\n    </g>\r\n   </g>\r\n   <g id=\"line2d_15\">\r\n    <defs>\r\n     <path d=\"M -3 3 \r\nL 3 3 \r\nL 3 -3 \r\nL -3 -3 \r\nz\r\n\" id=\"m8fc87422ae\" style=\"stroke:#ff0000;stroke-linejoin:miter;\"/>\r\n    </defs>\r\n    <g clip-path=\"url(#p7416ae3d29)\">\r\n     <use style=\"fill:#ff0000;stroke:#ff0000;stroke-linejoin:miter;\" x=\"187.270593\" xlink:href=\"#m8fc87422ae\" y=\"145.078437\"/>\r\n     <use style=\"fill:#ff0000;stroke:#ff0000;stroke-linejoin:miter;\" x=\"198.62941\" xlink:href=\"#m8fc87422ae\" y=\"140.682286\"/>\r\n     <use style=\"fill:#ff0000;stroke:#ff0000;stroke-linejoin:miter;\" x=\"327.190399\" xlink:href=\"#m8fc87422ae\" y=\"90.925907\"/>\r\n     <use style=\"fill:#ff0000;stroke:#ff0000;stroke-linejoin:miter;\" x=\"224.069801\" xlink:href=\"#m8fc87422ae\" y=\"130.836202\"/>\r\n     <use style=\"fill:#ff0000;stroke:#ff0000;stroke-linejoin:miter;\" x=\"192.646845\" xlink:href=\"#m8fc87422ae\" y=\"142.997692\"/>\r\n     <use style=\"fill:#ff0000;stroke:#ff0000;stroke-linejoin:miter;\" x=\"96.345851\" xlink:href=\"#m8fc87422ae\" y=\"180.268633\"/>\r\n     <use style=\"fill:#ff0000;stroke:#ff0000;stroke-linejoin:miter;\" x=\"275.832831\" xlink:href=\"#m8fc87422ae\" y=\"110.802593\"/>\r\n     <use style=\"fill:#ff0000;stroke:#ff0000;stroke-linejoin:miter;\" x=\"73.524526\" xlink:href=\"#m8fc87422ae\" y=\"189.10107\"/>\r\n     <use style=\"fill:#ff0000;stroke:#ff0000;stroke-linejoin:miter;\" x=\"275.028979\" xlink:href=\"#m8fc87422ae\" y=\"111.113702\"/>\r\n     <use style=\"fill:#ff0000;stroke:#ff0000;stroke-linejoin:miter;\" x=\"231.494128\" xlink:href=\"#m8fc87422ae\" y=\"127.962802\"/>\r\n     <use style=\"fill:#ff0000;stroke:#ff0000;stroke-linejoin:miter;\" x=\"124.192107\" xlink:href=\"#m8fc87422ae\" y=\"169.491422\"/>\r\n     <use style=\"fill:#ff0000;stroke:#ff0000;stroke-linejoin:miter;\" x=\"160.615992\" xlink:href=\"#m8fc87422ae\" y=\"155.394447\"/>\r\n     <use style=\"fill:#ff0000;stroke:#ff0000;stroke-linejoin:miter;\" x=\"140.773692\" xlink:href=\"#m8fc87422ae\" y=\"163.073923\"/>\r\n     <use style=\"fill:#ff0000;stroke:#ff0000;stroke-linejoin:miter;\" x=\"299.16898\" xlink:href=\"#m8fc87422ae\" y=\"101.770911\"/>\r\n     <use style=\"fill:#ff0000;stroke:#ff0000;stroke-linejoin:miter;\" x=\"295.817092\" xlink:href=\"#m8fc87422ae\" y=\"103.068172\"/>\r\n     <use style=\"fill:#ff0000;stroke:#ff0000;stroke-linejoin:miter;\" x=\"235.57309\" xlink:href=\"#m8fc87422ae\" y=\"126.384137\"/>\r\n     <use style=\"fill:#ff0000;stroke:#ff0000;stroke-linejoin:miter;\" x=\"340.630869\" xlink:href=\"#m8fc87422ae\" y=\"85.724109\"/>\r\n     <use style=\"fill:#ff0000;stroke:#ff0000;stroke-linejoin:miter;\" x=\"193.348436\" xlink:href=\"#m8fc87422ae\" y=\"142.726157\"/>\r\n     <use style=\"fill:#ff0000;stroke:#ff0000;stroke-linejoin:miter;\" x=\"254.33982\" xlink:href=\"#m8fc87422ae\" y=\"119.120935\"/>\r\n     <use style=\"fill:#ff0000;stroke:#ff0000;stroke-linejoin:miter;\" x=\"172.05914\" xlink:href=\"#m8fc87422ae\" y=\"150.965658\"/>\r\n     <use style=\"fill:#ff0000;stroke:#ff0000;stroke-linejoin:miter;\" x=\"348.524006\" xlink:href=\"#m8fc87422ae\" y=\"82.669255\"/>\r\n     <use style=\"fill:#ff0000;stroke:#ff0000;stroke-linejoin:miter;\" x=\"96.582092\" xlink:href=\"#m8fc87422ae\" y=\"180.177201\"/>\r\n     <use style=\"fill:#ff0000;stroke:#ff0000;stroke-linejoin:miter;\" x=\"275.331472\" xlink:href=\"#m8fc87422ae\" y=\"110.99663\"/>\r\n     <use style=\"fill:#ff0000;stroke:#ff0000;stroke-linejoin:miter;\" x=\"89.913225\" xlink:href=\"#m8fc87422ae\" y=\"182.758223\"/>\r\n     <use style=\"fill:#ff0000;stroke:#ff0000;stroke-linejoin:miter;\" x=\"247.894146\" xlink:href=\"#m8fc87422ae\" y=\"121.615579\"/>\r\n     <use style=\"fill:#ff0000;stroke:#ff0000;stroke-linejoin:miter;\" x=\"206.29582\" xlink:href=\"#m8fc87422ae\" y=\"137.715187\"/>\r\n     <use style=\"fill:#ff0000;stroke:#ff0000;stroke-linejoin:miter;\" x=\"44.160369\" xlink:href=\"#m8fc87422ae\" y=\"189.272978\"/>\r\n     <use style=\"fill:#ff0000;stroke:#ff0000;stroke-linejoin:miter;\" x=\"58.977296\" xlink:href=\"#m8fc87422ae\" y=\"189.272978\"/>\r\n     <use style=\"fill:#ff0000;stroke:#ff0000;stroke-linejoin:miter;\" x=\"244.436759\" xlink:href=\"#m8fc87422ae\" y=\"122.953672\"/>\r\n     <use style=\"fill:#ff0000;stroke:#ff0000;stroke-linejoin:miter;\" x=\"46.978634\" xlink:href=\"#m8fc87422ae\" y=\"189.272978\"/>\r\n    </g>\r\n   </g>\r\n   <g id=\"patch_3\">\r\n    <path d=\"M 28.942188 239.758125 \r\nL 28.942188 22.318125 \r\n\" style=\"fill:none;stroke:#000000;stroke-linecap:square;stroke-linejoin:miter;stroke-width:0.8;\"/>\r\n   </g>\r\n   <g id=\"patch_4\">\r\n    <path d=\"M 363.742188 239.758125 \r\nL 363.742188 22.318125 \r\n\" style=\"fill:none;stroke:#000000;stroke-linecap:square;stroke-linejoin:miter;stroke-width:0.8;\"/>\r\n   </g>\r\n   <g id=\"patch_5\">\r\n    <path d=\"M 28.942188 239.758125 \r\nL 363.742188 239.758125 \r\n\" style=\"fill:none;stroke:#000000;stroke-linecap:square;stroke-linejoin:miter;stroke-width:0.8;\"/>\r\n   </g>\r\n   <g id=\"patch_6\">\r\n    <path d=\"M 28.942188 22.318125 \r\nL 363.742188 22.318125 \r\n\" style=\"fill:none;stroke:#000000;stroke-linecap:square;stroke-linejoin:miter;stroke-width:0.8;\"/>\r\n   </g>\r\n   <g id=\"text_14\">\r\n    <!-- prediction-data r=0.70 -->\r\n    <g transform=\"translate(127.801563 16.318125)scale(0.12 -0.12)\">\r\n     <defs>\r\n      <path d=\"M 1159 525 \r\nL 1159 -1331 \r\nL 581 -1331 \r\nL 581 3500 \r\nL 1159 3500 \r\nL 1159 2969 \r\nQ 1341 3281 1617 3432 \r\nQ 1894 3584 2278 3584 \r\nQ 2916 3584 3314 3078 \r\nQ 3713 2572 3713 1747 \r\nQ 3713 922 3314 415 \r\nQ 2916 -91 2278 -91 \r\nQ 1894 -91 1617 61 \r\nQ 1341 213 1159 525 \r\nz\r\nM 3116 1747 \r\nQ 3116 2381 2855 2742 \r\nQ 2594 3103 2138 3103 \r\nQ 1681 3103 1420 2742 \r\nQ 1159 2381 1159 1747 \r\nQ 1159 1113 1420 752 \r\nQ 1681 391 2138 391 \r\nQ 2594 391 2855 752 \r\nQ 3116 1113 3116 1747 \r\nz\r\n\" id=\"DejaVuSans-70\" transform=\"scale(0.015625)\"/>\r\n      <path d=\"M 2631 2963 \r\nQ 2534 3019 2420 3045 \r\nQ 2306 3072 2169 3072 \r\nQ 1681 3072 1420 2755 \r\nQ 1159 2438 1159 1844 \r\nL 1159 0 \r\nL 581 0 \r\nL 581 3500 \r\nL 1159 3500 \r\nL 1159 2956 \r\nQ 1341 3275 1631 3429 \r\nQ 1922 3584 2338 3584 \r\nQ 2397 3584 2469 3576 \r\nQ 2541 3569 2628 3553 \r\nL 2631 2963 \r\nz\r\n\" id=\"DejaVuSans-72\" transform=\"scale(0.015625)\"/>\r\n      <path d=\"M 3597 1894 \r\nL 3597 1613 \r\nL 953 1613 \r\nQ 991 1019 1311 708 \r\nQ 1631 397 2203 397 \r\nQ 2534 397 2845 478 \r\nQ 3156 559 3463 722 \r\nL 3463 178 \r\nQ 3153 47 2828 -22 \r\nQ 2503 -91 2169 -91 \r\nQ 1331 -91 842 396 \r\nQ 353 884 353 1716 \r\nQ 353 2575 817 3079 \r\nQ 1281 3584 2069 3584 \r\nQ 2775 3584 3186 3129 \r\nQ 3597 2675 3597 1894 \r\nz\r\nM 3022 2063 \r\nQ 3016 2534 2758 2815 \r\nQ 2500 3097 2075 3097 \r\nQ 1594 3097 1305 2825 \r\nQ 1016 2553 972 2059 \r\nL 3022 2063 \r\nz\r\n\" id=\"DejaVuSans-65\" transform=\"scale(0.015625)\"/>\r\n      <path d=\"M 2906 2969 \r\nL 2906 4863 \r\nL 3481 4863 \r\nL 3481 0 \r\nL 2906 0 \r\nL 2906 525 \r\nQ 2725 213 2448 61 \r\nQ 2172 -91 1784 -91 \r\nQ 1150 -91 751 415 \r\nQ 353 922 353 1747 \r\nQ 353 2572 751 3078 \r\nQ 1150 3584 1784 3584 \r\nQ 2172 3584 2448 3432 \r\nQ 2725 3281 2906 2969 \r\nz\r\nM 947 1747 \r\nQ 947 1113 1208 752 \r\nQ 1469 391 1925 391 \r\nQ 2381 391 2643 752 \r\nQ 2906 1113 2906 1747 \r\nQ 2906 2381 2643 2742 \r\nQ 2381 3103 1925 3103 \r\nQ 1469 3103 1208 2742 \r\nQ 947 2381 947 1747 \r\nz\r\n\" id=\"DejaVuSans-64\" transform=\"scale(0.015625)\"/>\r\n      <path d=\"M 603 3500 \r\nL 1178 3500 \r\nL 1178 0 \r\nL 603 0 \r\nL 603 3500 \r\nz\r\nM 603 4863 \r\nL 1178 4863 \r\nL 1178 4134 \r\nL 603 4134 \r\nL 603 4863 \r\nz\r\n\" id=\"DejaVuSans-69\" transform=\"scale(0.015625)\"/>\r\n      <path d=\"M 3122 3366 \r\nL 3122 2828 \r\nQ 2878 2963 2633 3030 \r\nQ 2388 3097 2138 3097 \r\nQ 1578 3097 1268 2742 \r\nQ 959 2388 959 1747 \r\nQ 959 1106 1268 751 \r\nQ 1578 397 2138 397 \r\nQ 2388 397 2633 464 \r\nQ 2878 531 3122 666 \r\nL 3122 134 \r\nQ 2881 22 2623 -34 \r\nQ 2366 -91 2075 -91 \r\nQ 1284 -91 818 406 \r\nQ 353 903 353 1747 \r\nQ 353 2603 823 3093 \r\nQ 1294 3584 2113 3584 \r\nQ 2378 3584 2631 3529 \r\nQ 2884 3475 3122 3366 \r\nz\r\n\" id=\"DejaVuSans-63\" transform=\"scale(0.015625)\"/>\r\n      <path d=\"M 1172 4494 \r\nL 1172 3500 \r\nL 2356 3500 \r\nL 2356 3053 \r\nL 1172 3053 \r\nL 1172 1153 \r\nQ 1172 725 1289 603 \r\nQ 1406 481 1766 481 \r\nL 2356 481 \r\nL 2356 0 \r\nL 1766 0 \r\nQ 1100 0 847 248 \r\nQ 594 497 594 1153 \r\nL 594 3053 \r\nL 172 3053 \r\nL 172 3500 \r\nL 594 3500 \r\nL 594 4494 \r\nL 1172 4494 \r\nz\r\n\" id=\"DejaVuSans-74\" transform=\"scale(0.015625)\"/>\r\n      <path d=\"M 1959 3097 \r\nQ 1497 3097 1228 2736 \r\nQ 959 2375 959 1747 \r\nQ 959 1119 1226 758 \r\nQ 1494 397 1959 397 \r\nQ 2419 397 2687 759 \r\nQ 2956 1122 2956 1747 \r\nQ 2956 2369 2687 2733 \r\nQ 2419 3097 1959 3097 \r\nz\r\nM 1959 3584 \r\nQ 2709 3584 3137 3096 \r\nQ 3566 2609 3566 1747 \r\nQ 3566 888 3137 398 \r\nQ 2709 -91 1959 -91 \r\nQ 1206 -91 779 398 \r\nQ 353 888 353 1747 \r\nQ 353 2609 779 3096 \r\nQ 1206 3584 1959 3584 \r\nz\r\n\" id=\"DejaVuSans-6f\" transform=\"scale(0.015625)\"/>\r\n      <path d=\"M 3513 2113 \r\nL 3513 0 \r\nL 2938 0 \r\nL 2938 2094 \r\nQ 2938 2591 2744 2837 \r\nQ 2550 3084 2163 3084 \r\nQ 1697 3084 1428 2787 \r\nQ 1159 2491 1159 1978 \r\nL 1159 0 \r\nL 581 0 \r\nL 581 3500 \r\nL 1159 3500 \r\nL 1159 2956 \r\nQ 1366 3272 1645 3428 \r\nQ 1925 3584 2291 3584 \r\nQ 2894 3584 3203 3211 \r\nQ 3513 2838 3513 2113 \r\nz\r\n\" id=\"DejaVuSans-6e\" transform=\"scale(0.015625)\"/>\r\n      <path d=\"M 313 2009 \r\nL 1997 2009 \r\nL 1997 1497 \r\nL 313 1497 \r\nL 313 2009 \r\nz\r\n\" id=\"DejaVuSans-2d\" transform=\"scale(0.015625)\"/>\r\n      <path d=\"M 2194 1759 \r\nQ 1497 1759 1228 1600 \r\nQ 959 1441 959 1056 \r\nQ 959 750 1161 570 \r\nQ 1363 391 1709 391 \r\nQ 2188 391 2477 730 \r\nQ 2766 1069 2766 1631 \r\nL 2766 1759 \r\nL 2194 1759 \r\nz\r\nM 3341 1997 \r\nL 3341 0 \r\nL 2766 0 \r\nL 2766 531 \r\nQ 2569 213 2275 61 \r\nQ 1981 -91 1556 -91 \r\nQ 1019 -91 701 211 \r\nQ 384 513 384 1019 \r\nQ 384 1609 779 1909 \r\nQ 1175 2209 1959 2209 \r\nL 2766 2209 \r\nL 2766 2266 \r\nQ 2766 2663 2505 2880 \r\nQ 2244 3097 1772 3097 \r\nQ 1472 3097 1187 3025 \r\nQ 903 2953 641 2809 \r\nL 641 3341 \r\nQ 956 3463 1253 3523 \r\nQ 1550 3584 1831 3584 \r\nQ 2591 3584 2966 3190 \r\nQ 3341 2797 3341 1997 \r\nz\r\n\" id=\"DejaVuSans-61\" transform=\"scale(0.015625)\"/>\r\n      <path id=\"DejaVuSans-20\" transform=\"scale(0.015625)\"/>\r\n      <path d=\"M 678 2906 \r\nL 4684 2906 \r\nL 4684 2381 \r\nL 678 2381 \r\nL 678 2906 \r\nz\r\nM 678 1631 \r\nL 4684 1631 \r\nL 4684 1100 \r\nL 678 1100 \r\nL 678 1631 \r\nz\r\n\" id=\"DejaVuSans-3d\" transform=\"scale(0.015625)\"/>\r\n      <path d=\"M 525 4666 \r\nL 3525 4666 \r\nL 3525 4397 \r\nL 1831 0 \r\nL 1172 0 \r\nL 2766 4134 \r\nL 525 4134 \r\nL 525 4666 \r\nz\r\n\" id=\"DejaVuSans-37\" transform=\"scale(0.015625)\"/>\r\n     </defs>\r\n     <use xlink:href=\"#DejaVuSans-70\"/>\r\n     <use x=\"63.476562\" xlink:href=\"#DejaVuSans-72\"/>\r\n     <use x=\"102.339844\" xlink:href=\"#DejaVuSans-65\"/>\r\n     <use x=\"163.863281\" xlink:href=\"#DejaVuSans-64\"/>\r\n     <use x=\"227.339844\" xlink:href=\"#DejaVuSans-69\"/>\r\n     <use x=\"255.123047\" xlink:href=\"#DejaVuSans-63\"/>\r\n     <use x=\"310.103516\" xlink:href=\"#DejaVuSans-74\"/>\r\n     <use x=\"349.3125\" xlink:href=\"#DejaVuSans-69\"/>\r\n     <use x=\"377.095703\" xlink:href=\"#DejaVuSans-6f\"/>\r\n     <use x=\"438.277344\" xlink:href=\"#DejaVuSans-6e\"/>\r\n     <use x=\"501.65625\" xlink:href=\"#DejaVuSans-2d\"/>\r\n     <use x=\"537.740234\" xlink:href=\"#DejaVuSans-64\"/>\r\n     <use x=\"601.216797\" xlink:href=\"#DejaVuSans-61\"/>\r\n     <use x=\"662.496094\" xlink:href=\"#DejaVuSans-74\"/>\r\n     <use x=\"701.705078\" xlink:href=\"#DejaVuSans-61\"/>\r\n     <use x=\"762.984375\" xlink:href=\"#DejaVuSans-20\"/>\r\n     <use x=\"794.771484\" xlink:href=\"#DejaVuSans-72\"/>\r\n     <use x=\"835.884766\" xlink:href=\"#DejaVuSans-3d\"/>\r\n     <use x=\"919.673828\" xlink:href=\"#DejaVuSans-30\"/>\r\n     <use x=\"983.296875\" xlink:href=\"#DejaVuSans-2e\"/>\r\n     <use x=\"1015.083984\" xlink:href=\"#DejaVuSans-37\"/>\r\n     <use x=\"1078.707031\" xlink:href=\"#DejaVuSans-30\"/>\r\n    </g>\r\n   </g>\r\n   <g id=\"legend_1\">\r\n    <g id=\"patch_7\">\r\n     <path d=\"M 269.859375 59.674375 \r\nL 356.742188 59.674375 \r\nQ 358.742188 59.674375 358.742188 57.674375 \r\nL 358.742188 29.318125 \r\nQ 358.742188 27.318125 356.742188 27.318125 \r\nL 269.859375 27.318125 \r\nQ 267.859375 27.318125 267.859375 29.318125 \r\nL 267.859375 57.674375 \r\nQ 267.859375 59.674375 269.859375 59.674375 \r\nz\r\n\" style=\"fill:#ffffff;opacity:0.8;stroke:#cccccc;stroke-linejoin:miter;\"/>\r\n    </g>\r\n    <g id=\"line2d_16\"/>\r\n    <g id=\"line2d_17\">\r\n     <g>\r\n      <use style=\"fill:#0000ff;stroke:#0000ff;\" x=\"281.859375\" xlink:href=\"#m7f52e64b65\" y=\"35.416562\"/>\r\n     </g>\r\n    </g>\r\n    <g id=\"text_15\">\r\n     <!-- Real data -->\r\n     <g transform=\"translate(299.859375 38.916562)scale(0.1 -0.1)\">\r\n      <defs>\r\n       <path d=\"M 2841 2188 \r\nQ 3044 2119 3236 1894 \r\nQ 3428 1669 3622 1275 \r\nL 4263 0 \r\nL 3584 0 \r\nL 2988 1197 \r\nQ 2756 1666 2539 1819 \r\nQ 2322 1972 1947 1972 \r\nL 1259 1972 \r\nL 1259 0 \r\nL 628 0 \r\nL 628 4666 \r\nL 2053 4666 \r\nQ 2853 4666 3247 4331 \r\nQ 3641 3997 3641 3322 \r\nQ 3641 2881 3436 2590 \r\nQ 3231 2300 2841 2188 \r\nz\r\nM 1259 4147 \r\nL 1259 2491 \r\nL 2053 2491 \r\nQ 2509 2491 2742 2702 \r\nQ 2975 2913 2975 3322 \r\nQ 2975 3731 2742 3939 \r\nQ 2509 4147 2053 4147 \r\nL 1259 4147 \r\nz\r\n\" id=\"DejaVuSans-52\" transform=\"scale(0.015625)\"/>\r\n       <path d=\"M 603 4863 \r\nL 1178 4863 \r\nL 1178 0 \r\nL 603 0 \r\nL 603 4863 \r\nz\r\n\" id=\"DejaVuSans-6c\" transform=\"scale(0.015625)\"/>\r\n      </defs>\r\n      <use xlink:href=\"#DejaVuSans-52\"/>\r\n      <use x=\"64.982422\" xlink:href=\"#DejaVuSans-65\"/>\r\n      <use x=\"126.505859\" xlink:href=\"#DejaVuSans-61\"/>\r\n      <use x=\"187.785156\" xlink:href=\"#DejaVuSans-6c\"/>\r\n      <use x=\"215.568359\" xlink:href=\"#DejaVuSans-20\"/>\r\n      <use x=\"247.355469\" xlink:href=\"#DejaVuSans-64\"/>\r\n      <use x=\"310.832031\" xlink:href=\"#DejaVuSans-61\"/>\r\n      <use x=\"372.111328\" xlink:href=\"#DejaVuSans-74\"/>\r\n      <use x=\"411.320312\" xlink:href=\"#DejaVuSans-61\"/>\r\n     </g>\r\n    </g>\r\n    <g id=\"line2d_18\"/>\r\n    <g id=\"line2d_19\">\r\n     <g>\r\n      <use style=\"fill:#ff0000;stroke:#ff0000;stroke-linejoin:miter;\" x=\"281.859375\" xlink:href=\"#m8fc87422ae\" y=\"50.094687\"/>\r\n     </g>\r\n    </g>\r\n    <g id=\"text_16\">\r\n     <!-- Predictions -->\r\n     <g transform=\"translate(299.859375 53.594687)scale(0.1 -0.1)\">\r\n      <defs>\r\n       <path d=\"M 1259 4147 \r\nL 1259 2394 \r\nL 2053 2394 \r\nQ 2494 2394 2734 2622 \r\nQ 2975 2850 2975 3272 \r\nQ 2975 3691 2734 3919 \r\nQ 2494 4147 2053 4147 \r\nL 1259 4147 \r\nz\r\nM 628 4666 \r\nL 2053 4666 \r\nQ 2838 4666 3239 4311 \r\nQ 3641 3956 3641 3272 \r\nQ 3641 2581 3239 2228 \r\nQ 2838 1875 2053 1875 \r\nL 1259 1875 \r\nL 1259 0 \r\nL 628 0 \r\nL 628 4666 \r\nz\r\n\" id=\"DejaVuSans-50\" transform=\"scale(0.015625)\"/>\r\n       <path d=\"M 2834 3397 \r\nL 2834 2853 \r\nQ 2591 2978 2328 3040 \r\nQ 2066 3103 1784 3103 \r\nQ 1356 3103 1142 2972 \r\nQ 928 2841 928 2578 \r\nQ 928 2378 1081 2264 \r\nQ 1234 2150 1697 2047 \r\nL 1894 2003 \r\nQ 2506 1872 2764 1633 \r\nQ 3022 1394 3022 966 \r\nQ 3022 478 2636 193 \r\nQ 2250 -91 1575 -91 \r\nQ 1294 -91 989 -36 \r\nQ 684 19 347 128 \r\nL 347 722 \r\nQ 666 556 975 473 \r\nQ 1284 391 1588 391 \r\nQ 1994 391 2212 530 \r\nQ 2431 669 2431 922 \r\nQ 2431 1156 2273 1281 \r\nQ 2116 1406 1581 1522 \r\nL 1381 1569 \r\nQ 847 1681 609 1914 \r\nQ 372 2147 372 2553 \r\nQ 372 3047 722 3315 \r\nQ 1072 3584 1716 3584 \r\nQ 2034 3584 2315 3537 \r\nQ 2597 3491 2834 3397 \r\nz\r\n\" id=\"DejaVuSans-73\" transform=\"scale(0.015625)\"/>\r\n      </defs>\r\n      <use xlink:href=\"#DejaVuSans-50\"/>\r\n      <use x=\"58.552734\" xlink:href=\"#DejaVuSans-72\"/>\r\n      <use x=\"97.416016\" xlink:href=\"#DejaVuSans-65\"/>\r\n      <use x=\"158.939453\" xlink:href=\"#DejaVuSans-64\"/>\r\n      <use x=\"222.416016\" xlink:href=\"#DejaVuSans-69\"/>\r\n      <use x=\"250.199219\" xlink:href=\"#DejaVuSans-63\"/>\r\n      <use x=\"305.179688\" xlink:href=\"#DejaVuSans-74\"/>\r\n      <use x=\"344.388672\" xlink:href=\"#DejaVuSans-69\"/>\r\n      <use x=\"372.171875\" xlink:href=\"#DejaVuSans-6f\"/>\r\n      <use x=\"433.353516\" xlink:href=\"#DejaVuSans-6e\"/>\r\n      <use x=\"496.732422\" xlink:href=\"#DejaVuSans-73\"/>\r\n     </g>\r\n    </g>\r\n   </g>\r\n  </g>\r\n </g>\r\n <defs>\r\n  <clipPath id=\"p7416ae3d29\">\r\n   <rect height=\"217.44\" width=\"334.8\" x=\"28.942188\" y=\"22.318125\"/>\r\n  </clipPath>\r\n </defs>\r\n</svg>\r\n"
     },
     "metadata": {
      "needs_background": "light"
     },
     "output_type": "display_data"
    }
   ]
  },
  {
   "cell_type": "code",
   "metadata": {
    "id": "vGkQUzqhUFpq",
    "pycharm": {
     "name": "#%%\n"
    }
   },
   "source": [],
   "execution_count": null,
   "outputs": []
  },
  {
   "cell_type": "markdown",
   "metadata": {
    "id": "JmraVzTcJ0x1",
    "pycharm": {
     "name": "#%% md\n"
    }
   },
   "source": [
    "# Additional explorations"
   ]
  },
  {
   "cell_type": "code",
   "metadata": {
    "id": "pml6nCTcAMWC",
    "pycharm": {
     "name": "#%%\n"
    }
   },
   "source": [
    "# 1) How much data is \"enough\"? Try different values of N and see how low the loss gets. \n",
    "#    Do you still get low loss (\"low\" is subjective, but let's say loss<.25) with N=10? N=5?\n",
    "# \n",
    "# 2) Does your conclusion above depend on the amount of noise in the data? Try changing the noise level\n",
    "#    by changing the division (\"/2\") when creating y as x+randn.\n",
    "# \n",
    "# 3) Notice that the model doesn't always work well. Put the original code (that is, N=30 and /2 noise)\n",
    "#    into a function or a for-loop and repeat the training 100 times (each time using a fresh model instance).\n",
    "#    Then count the number of times the model had a loss>.25."
   ],
   "execution_count": null,
   "outputs": []
  }
 ]
}
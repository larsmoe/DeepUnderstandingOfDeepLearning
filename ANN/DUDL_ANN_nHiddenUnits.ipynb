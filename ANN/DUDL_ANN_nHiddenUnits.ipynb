{
 "nbformat": 4,
 "nbformat_minor": 0,
 "metadata": {
  "colab": {
   "provenance": [
    {
     "file_id": "1YpHocGI4rApOxIBb1ZghCU5L-hFnv4CK",
     "timestamp": 1615925514977
    }
   ]
  },
  "kernelspec": {
   "name": "python3",
   "display_name": "Python 3"
  }
 },
 "cells": [
  {
   "cell_type": "markdown",
   "metadata": {
    "id": "bhWV8oes-wKR",
    "pycharm": {
     "name": "#%% md\n"
    }
   },
   "source": [
    "# COURSE: A deep understanding of deep learning\n",
    "## SECTION: ANNs\n",
    "### LECTURE: Comparing the number of hidden units\n",
    "#### TEACHER: Mike X Cohen, sincxpress.com\n",
    "##### COURSE URL: udemy.com/course/deeplearning_x/?couponCode=202401"
   ]
  },
  {
   "cell_type": "code",
   "metadata": {
    "id": "YeuAheYyhdZw",
    "pycharm": {
     "name": "#%%\n"
    }
   },
   "source": [
    "# import libraries\n",
    "import torch\n",
    "import torch.nn as nn\n",
    "\n",
    "import numpy as np\n",
    "import matplotlib.pyplot as plt"
   ],
   "execution_count": 1,
   "outputs": []
  },
  {
   "cell_type": "markdown",
   "metadata": {
    "id": "ia1C-oGK4uk1",
    "pycharm": {
     "name": "#%% md\n"
    }
   },
   "source": [
    "# Import and organize the data"
   ]
  },
  {
   "cell_type": "code",
   "metadata": {
    "id": "MU7rvmWuhjud",
    "pycharm": {
     "name": "#%%\n"
    }
   },
   "source": [
    "# import dataset\n",
    "import pandas as pd\n",
    "iris = pd.read_csv('https://raw.githubusercontent.com/mwaskom/seaborn-data/master/iris.csv')\n",
    "print( iris.head() )\n",
    "\n",
    "# some plots to show the data\n",
    "sns.pairplot(iris, hue='species')\n",
    "plt.show()"
   ],
   "execution_count": 2,
   "outputs": [
    {
     "name": "stdout",
     "output_type": "stream",
     "text": [
      "   sepal_length  sepal_width  petal_length  petal_width species\n",
      "0           5.1          3.5           1.4          0.2  setosa\n",
      "1           4.9          3.0           1.4          0.2  setosa\n",
      "2           4.7          3.2           1.3          0.2  setosa\n",
      "3           4.6          3.1           1.5          0.2  setosa\n",
      "4           5.0          3.6           1.4          0.2  setosa\n"
     ]
    },
    {
     "ename": "NameError",
     "evalue": "name 'sns' is not defined",
     "output_type": "error",
     "traceback": [
      "\u001B[1;31m---------------------------------------------------------------------------\u001B[0m",
      "\u001B[1;31mNameError\u001B[0m                                 Traceback (most recent call last)",
      "\u001B[1;32m<ipython-input-2-bedf2e4f74ce>\u001B[0m in \u001B[0;36m<module>\u001B[1;34m\u001B[0m\n\u001B[0;32m      5\u001B[0m \u001B[1;33m\u001B[0m\u001B[0m\n\u001B[0;32m      6\u001B[0m \u001B[1;31m# some plots to show the data\u001B[0m\u001B[1;33m\u001B[0m\u001B[1;33m\u001B[0m\u001B[1;33m\u001B[0m\u001B[0m\n\u001B[1;32m----> 7\u001B[1;33m \u001B[0msns\u001B[0m\u001B[1;33m.\u001B[0m\u001B[0mpairplot\u001B[0m\u001B[1;33m(\u001B[0m\u001B[0miris\u001B[0m\u001B[1;33m,\u001B[0m \u001B[0mhue\u001B[0m\u001B[1;33m=\u001B[0m\u001B[1;34m'species'\u001B[0m\u001B[1;33m)\u001B[0m\u001B[1;33m\u001B[0m\u001B[1;33m\u001B[0m\u001B[0m\n\u001B[0m\u001B[0;32m      8\u001B[0m \u001B[0mplt\u001B[0m\u001B[1;33m.\u001B[0m\u001B[0mshow\u001B[0m\u001B[1;33m(\u001B[0m\u001B[1;33m)\u001B[0m\u001B[1;33m\u001B[0m\u001B[1;33m\u001B[0m\u001B[0m\n",
      "\u001B[1;31mNameError\u001B[0m: name 'sns' is not defined"
     ]
    }
   ]
  },
  {
   "cell_type": "code",
   "metadata": {
    "id": "vJPkH6Bfh01_",
    "pycharm": {
     "name": "#%%\n"
    }
   },
   "source": [
    "# organize the data\n",
    "\n",
    "# convert from pandas dataframe to tensor\n",
    "data = torch.tensor( iris[iris.columns[0:4]].values ).float()\n",
    "\n",
    "# transform species to number\n",
    "labels = torch.zeros(len(data), dtype=torch.long)\n",
    "# labels[iris.species=='setosa'] = 0 # don't need!\n",
    "labels[iris.species=='versicolor'] = 1\n",
    "labels[iris.species=='virginica'] = 2\n",
    "\n",
    "labels"
   ],
   "execution_count": 3,
   "outputs": [
    {
     "data": {
      "text/plain": "tensor([0, 0, 0, 0, 0, 0, 0, 0, 0, 0, 0, 0, 0, 0, 0, 0, 0, 0, 0, 0, 0, 0, 0, 0,\n        0, 0, 0, 0, 0, 0, 0, 0, 0, 0, 0, 0, 0, 0, 0, 0, 0, 0, 0, 0, 0, 0, 0, 0,\n        0, 0, 1, 1, 1, 1, 1, 1, 1, 1, 1, 1, 1, 1, 1, 1, 1, 1, 1, 1, 1, 1, 1, 1,\n        1, 1, 1, 1, 1, 1, 1, 1, 1, 1, 1, 1, 1, 1, 1, 1, 1, 1, 1, 1, 1, 1, 1, 1,\n        1, 1, 1, 1, 2, 2, 2, 2, 2, 2, 2, 2, 2, 2, 2, 2, 2, 2, 2, 2, 2, 2, 2, 2,\n        2, 2, 2, 2, 2, 2, 2, 2, 2, 2, 2, 2, 2, 2, 2, 2, 2, 2, 2, 2, 2, 2, 2, 2,\n        2, 2, 2, 2, 2, 2])"
     },
     "execution_count": 3,
     "metadata": {},
     "output_type": "execute_result"
    }
   ]
  },
  {
   "cell_type": "markdown",
   "metadata": {
    "id": "0CFW7ywE4w_u",
    "pycharm": {
     "name": "#%% md\n"
    }
   },
   "source": [
    "# Functions to create and train the model"
   ]
  },
  {
   "cell_type": "code",
   "metadata": {
    "id": "v0JMIGb1iV_9",
    "pycharm": {
     "name": "#%%\n"
    }
   },
   "source": [
    "# Note the input into the function!\n",
    "def createIrisModel(nHidden):\n",
    "\n",
    "  # model architecture (with number of units soft-coded!)\n",
    "  ANNiris = nn.Sequential(\n",
    "      nn.Linear(4,nHidden),      # input layer\n",
    "      nn.ReLU(),                 # activation unit\n",
    "      nn.Linear(nHidden,nHidden),# hidden layer\n",
    "      nn.ReLU(),                 # activation unit\n",
    "      nn.Linear(nHidden,3),      # output unit\n",
    "      #nn.Softmax(dim=1),        # final activation unit (here for conceptual purposes, note the CEL function)\n",
    "        )\n",
    "\n",
    "  # loss function\n",
    "  lossfun = nn.CrossEntropyLoss()\n",
    "\n",
    "  # optimizer\n",
    "  optimizer = torch.optim.SGD(ANNiris.parameters(),lr=.01)\n",
    "\n",
    "  return ANNiris,lossfun,optimizer"
   ],
   "execution_count": 19,
   "outputs": []
  },
  {
   "cell_type": "code",
   "metadata": {
    "id": "cVD1nFTli7TO",
    "pycharm": {
     "name": "#%%\n"
    }
   },
   "source": [
    "# a function to train the model\n",
    "\n",
    "def trainTheModel(ANNiris):\n",
    "\n",
    "  # initialize losses\n",
    "  losses = torch.zeros(numepochs)\n",
    "  ongoingAcc = []\n",
    "\n",
    "  # loop over epochs\n",
    "  for epochi in range(numepochs):\n",
    "\n",
    "    # forward pass\n",
    "    yHat = ANNiris(data)\n",
    "\n",
    "    # compute loss\n",
    "    loss = lossfun(yHat,labels)\n",
    "    losses[epochi] = loss\n",
    "\n",
    "    # backprop\n",
    "    optimizer.zero_grad()\n",
    "    loss.backward()\n",
    "    optimizer.step()\n",
    "\n",
    "  # final forward pass\n",
    "  predictions = ANNiris(data)\n",
    "\n",
    "  predlabels = torch.argmax(predictions,axis=1)\n",
    "  return 100*torch.mean((predlabels==labels).float())"
   ],
   "execution_count": 11,
   "outputs": []
  },
  {
   "cell_type": "markdown",
   "metadata": {
    "id": "zm80pv3J48d1",
    "pycharm": {
     "name": "#%% md\n"
    }
   },
   "source": [
    "# Run the experiment!"
   ]
  },
  {
   "cell_type": "code",
   "metadata": {
    "id": "hWOzwwHTrdxz",
    "pycharm": {
     "name": "#%%\n"
    }
   },
   "source": [
    "numepochs  = 150\n",
    "numhiddens = np.arange(1,130, 14)\n",
    "accuracies = []\n",
    "\n",
    "for nunits in numhiddens:\n",
    "\n",
    "  # create a fresh model instance\n",
    "  ANNiris,lossfun,optimizer = createIrisModel(nunits)\n",
    "\n",
    "  # run the model\n",
    "  acc = trainTheModel(ANNiris)\n",
    "  accuracies.append( acc )\n"
   ],
   "execution_count": 20,
   "outputs": []
  },
  {
   "cell_type": "code",
   "metadata": {
    "id": "JYouZAY4i3jM",
    "pycharm": {
     "name": "#%%\n"
    }
   },
   "source": [
    "# report accuracy\n",
    "fig,ax = plt.subplots(1,figsize=(12,6))\n",
    "\n",
    "ax.plot(accuracies,'ko-',markerfacecolor='w',markersize=9)\n",
    "ax.plot(numhiddens[[0,-1]],[33,33],'--',color=[.8,.8,.8])\n",
    "ax.plot(numhiddens[[0,-1]],[67,67],'--',color=[.8,.8,.8])\n",
    "ax.set_ylabel('accuracy')\n",
    "ax.set_xlabel('Number of hidden units')\n",
    "ax.set_title('Accuracy')\n",
    "plt.show()\n"
   ],
   "execution_count": 21,
   "outputs": [
    {
     "data": {
      "text/plain": "<Figure size 864x432 with 1 Axes>",
      "image/png": "[encoded data removed]"
     },
     "metadata": {},
     "output_type": "display_data"
    }
   ]
  },
  {
   "cell_type": "code",
   "metadata": {
    "id": "zvLH4h6ek5Ax",
    "pycharm": {
     "name": "#%%\n"
    }
   },
   "source": [],
   "execution_count": null,
   "outputs": []
  },
  {
   "cell_type": "markdown",
   "metadata": {
    "id": "T7MKj66sk5DY",
    "pycharm": {
     "name": "#%% md\n"
    }
   },
   "source": [
    "# Additional explorations"
   ]
  },
  {
   "cell_type": "code",
   "metadata": {
    "id": "zIXi3fONIKVA",
    "pycharm": {
     "name": "#%%\n"
    }
   },
   "source": [
    "# 1) The results here show that models with fewer than ~50 hidden units have lackluster performance. Would these models\n",
    "#    eventually learn if they were given more training epochs? Try this by re-running the experiment using 500 epochs.\n",
    "#    Tip: Copy/paste the plotting code into a new cell to keep both plots. Or, take screenshots of the plots.\n",
    "#\n",
    "# 2) Going back to 150 epochs, explore the effect of changing the learning rate. This doesn't need to be a full parametric\n",
    "#    experiment; you can simply try is again using learning rates of .1, .01 (what we used in the video), and .001.\n",
    "#\n",
    "# 3) With simple models and small datasets, it's possible to test many different parameter settings. However, larger\n",
    "#    models take longer to train, and so running 128 tests is not always feasible. Modify the code to have the number of\n",
    "#    hidden units range from 1 to 128 in steps of 14. Plot the results on top of the results using steps of 1 (that is,\n",
    "#    show both results in the same graph). Does your interpretation change with fewer experiment runs?\n"
   ],
   "execution_count": null,
   "outputs": []
  }
 ]
}